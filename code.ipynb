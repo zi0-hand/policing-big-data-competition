{
  "nbformat": 4,
  "nbformat_minor": 0,
  "metadata": {
    "colab": {
      "provenance": [],
      "toc_visible": true,
      "include_colab_link": true
    },
    "kernelspec": {
      "name": "python3",
      "display_name": "Python 3"
    },
    "language_info": {
      "name": "python"
    }
  },
  "cells": [
    {
      "cell_type": "markdown",
      "metadata": {
        "id": "view-in-github",
        "colab_type": "text"
      },
      "source": [
        "<a href=\"https://colab.research.google.com/github/zi0-hand/policing-big-data-competition/blob/main/code.ipynb\" target=\"_parent\"><img src=\"https://colab.research.google.com/assets/colab-badge.svg\" alt=\"Open In Colab\"/></a>"
      ]
    },
    {
      "cell_type": "markdown",
      "source": [
        "# **1. 필요 라이브러리 불러오기**"
      ],
      "metadata": {
        "id": "p6a7welHaqil"
      }
    },
    {
      "cell_type": "code",
      "source": [
        "from google.colab import drive\n",
        "drive.mount('/content/drive')\n",
        "\n",
        "import warnings\n",
        "warnings.filterwarnings('ignore')\n",
        "import numpy as np\n",
        "import pandas as pd\n",
        "import matplotlib.pyplot as plt\n",
        "import seaborn as sns\n",
        "import itertools\n",
        "import io\n",
        "from functools import reduce\n",
        "\n",
        "\n",
        "from dataprep.eda import plot, plot_correlation, plot_missing, plot_diff\n",
        "\n",
        "import folium\n",
        "from folium import Choropleth\n",
        "import plotly.express as px\n",
        "import geopandas as gpd\n",
        "import json\n",
        "from folium import plugins\n",
        "\n",
        "from sklearn.ensemble import RandomForestRegressor\n",
        "from lightgbm import LGBMRegressor\n",
        "from sklearn.model_selection import train_test_split\n",
        "from sklearn.metrics import accuracy_score, f1_score, precision_score, recall_score, roc_auc_score, confusion_matrix\n",
        "from sklearn.metrics import mean_squared_error, r2_score, mean_absolute_error, mean_squared_log_error\n",
        "from sklearn.ensemble import RandomForestRegressor, GradientBoostingRegressor\n",
        "from sklearn.tree import DecisionTreeRegressor\n",
        "from sklearn.ensemble import ExtraTreesRegressor\n",
        "from xgboost import XGBRegressor\n",
        "from lightgbm import LGBMRegressor\n",
        "from sklearn.linear_model import ElasticNet\n",
        "from sklearn.ensemble import AdaBoostRegressor\n",
        "#from catboost import CatBoostRegressor, Pool\n",
        "#from ngboost import NGBRegressor\n",
        "from sklearn.ensemble import HistGradientBoostingRegressor\n",
        "from sklearn.linear_model import LinearRegression, Lasso, Ridge, ElasticNet\n",
        "\n",
        "from xgboost import XGBClassifier\n",
        "from lightgbm import LGBMClassifier\n",
        "#from catboost import CatBoostClassifier\n",
        "from sklearn.ensemble import GradientBoostingClassifier\n",
        "from sklearn.model_selection import GridSearchCV\n",
        "\n",
        "\n",
        "from sklearn.model_selection import KFold\n",
        "from sklearn import svm\n",
        "from sklearn.model_selection import StratifiedKFold\n",
        "from sklearn.metrics import accuracy_score\n",
        "from sklearn.cluster import KMeans\n",
        "from sklearn.preprocessing import StandardScaler, RobustScaler, MinMaxScaler"
      ],
      "metadata": {
        "id": "HI-ZUt6NapiD"
      },
      "execution_count": null,
      "outputs": []
    },
    {
      "cell_type": "code",
      "source": [
        "pip install haversine"
      ],
      "metadata": {
        "id": "y41ZPyRoOZkl"
      },
      "execution_count": null,
      "outputs": []
    },
    {
      "cell_type": "code",
      "source": [
        "pip install geopandas"
      ],
      "metadata": {
        "id": "_qVsU_qFOdsg"
      },
      "execution_count": null,
      "outputs": []
    },
    {
      "cell_type": "code",
      "source": [
        "pip install dataprep"
      ],
      "metadata": {
        "id": "vn9-LiunO6uS"
      },
      "execution_count": null,
      "outputs": []
    },
    {
      "cell_type": "markdown",
      "source": [
        "# **2. 데이터 전처리**"
      ],
      "metadata": {
        "id": "qGMikOSsasSl"
      }
    },
    {
      "cell_type": "markdown",
      "source": [
        "## **2.1 기존 변수 통합**"
      ],
      "metadata": {
        "id": "jzKOpbXAb6gd"
      }
    },
    {
      "cell_type": "code",
      "source": [
        "def kp_data_preprocessing(df):\n",
        "  df_road = df[(df[\"EVT_CL_CD\"]>=400) & (df[\"EVT_CL_CD\"]<500)]#교통사고 데이터만 분류\n",
        "  df_road = df_road.dropna(axis = 0, how = \"any\", subset = [\"HPPN_X\", \"HPPN_Y\"])#위치데이터 사용예정이기에 결측치 제거\n",
        "  df_road = df_road[(df_road[\"NPA_CL\"]==19)|(df_road[\"NPA_CL\"]==31)|(df_road[\"NPA_CL\"]==13)]#대상 지역 선정\n",
        "  df_road[\"date_time\"] = pd.to_datetime(df_road[\"RECV_CPLT_DM\"], format = \"%y/%m/%d %H:%M:%S.000000000\")#날짜형식으로 변경\n",
        "  df_road = df_road.drop(\"RECV_CPLT_DM\", axis = 1)#필요없는 열 제거\n",
        "  df_road[\"HPPN_ADDR\"] = df_road[\"HPPN_PNU_ADDR\"]#파일 병합을 위한 열 제목 통일\n",
        "  df_road = df_road.drop(\"HPPN_PNU_ADDR\", axis = 1)#필요없는 열 제거(주소)\n",
        "  df_road = df_road.drop(\"RECV_DEPT_NM\", axis = 1)#필요없는 열 제거(청 이름)\n",
        "  df_road[\"RPTER_SEX\"] = df_road[\"RPTER_SEX\"].astype(\"int\")#파일 병합을 위한 변수타입 설정\n",
        "  df_road[\"RPTER_SEX\"] = df_road[\"RPTER_SEX\"].astype(\"object\")#파일 병합을 위한 변수타입 설정\n",
        "  return df_road\n",
        "\n",
        "def npa_data_preprocessing(df):\n",
        "\n",
        "  def change(x):#시간 형식 부여를 위해 apply 할 함수\n",
        "    if len(x) == 1:\n",
        "      return \"00000\"+x\n",
        "    elif len(x) == 2:\n",
        "      return \"0000\"+x\n",
        "    elif len(x) == 3:\n",
        "      return \"000\"+x\n",
        "    elif len(x) == 4:\n",
        "      return \"00\"+x\n",
        "    elif len(x) == 5:\n",
        "      return \"0\"+x\n",
        "    else:\n",
        "      return x\n",
        "  \n",
        "  df_road = df[(df[\"EVT_CL_CD\"]>=400) & (df[\"EVT_CL_CD\"]<500)]#교통사고 데이터만 분류\n",
        "  df_road = df_road.dropna(axis = 0, how = \"any\", subset = [\"HPPN_X\", \"HPPN_Y\"])#위치데이터 사용예정이기에 결측치 제거\n",
        "  df_road = df_road[(df_road[\"NPA_CL\"]==19)|(df_road[\"NPA_CL\"]==31)|(df_road[\"NPA_CL\"]==13)]#대상 지역 경찰청 선정\n",
        "  df_road[\"RECV_CPLT_TM\"] = df_road[\"RECV_CPLT_TM\"].astype(\"str\")#시간형식(0추가)를 위한 변수타입변경\n",
        "  df_road[\"RECV_CPLT_TM\"] = df_road[\"RECV_CPLT_TM\"].apply(change)#시간형식을 apply 통해 처리\n",
        "  df_road[\"date_time\"] = df_road[\"RECV_CPLT_DT\"].astype(\"str\") + df_road[\"RECV_CPLT_TM\"]#시간변수들 통합\n",
        "  df_road[\"date_time\"] = pd.to_datetime(df_road[\"date_time\"], format = \"%Y%m%d%H%M%S\")#날짜형식으로 변경\n",
        "  df_road = df_road.drop(\"RECV_CPLT_TM\", axis = 1)#기존 시간데이터 제거\n",
        "  df_road = df_road.drop(\"RECV_CPLT_DT\", axis = 1)#기존 시간데이터 제거\n",
        "  df_road[\"HPPN_ADDR\"] = df_road[\"HPPN_OLD_ADDR\"]#파일 병합을 위한 열 제목 통일\n",
        "  df_road = df_road.drop(\"HPPN_OLD_ADDR\", axis = 1)#필요없는 열 제거(주소)\n",
        "  return df_road\n",
        "\n",
        "def kp_npa_data_concat(kp2020_pre, kp2021_pre, npa_pre):\n",
        "  df = pd.concat([kp2020_pre, kp2021_pre], ignore_index = True)\n",
        "  df = pd.concat([npa_pre, df], ignore_index = True)\n",
        "  df.drop_duplicates(keep = 'first', ignore_index = True)#2020년도 자료가 일부 겹칠 수도 있으니 중복시 앞선 데이터 따르도록 처리\n",
        "  return df\n",
        "\n",
        "def origin_data_process():\n",
        "  df_kp20 = pd.read_csv('KP2020.csv', encoding='CP949')\n",
        "  df_kp21 = pd.read_csv('KP2021.csv', encoding='CP949')\n",
        "  df_npa20 = pd.read_csv('NPA2020.csv', encoding='CP949')\n",
        "  df_kp20_pre = kp_data_preprocessing(df_kp20)\n",
        "  df_kp21_pre = kp_data_preprocessing(df_kp21)\n",
        "  df_npa20_pre = npa_data_preprocessing(df_npa20)\n",
        "  df_total = kp_npa_data_concat(df_kp20_pre, df_kp21_pre, df_npa20_pre)\n",
        "  return df_total"
      ],
      "metadata": {
        "id": "drffy0Hpb6DF"
      },
      "execution_count": null,
      "outputs": []
    },
    {
      "cell_type": "markdown",
      "source": [
        "## **2.2 새로운 변수 이용하여 데이터 추가**"
      ],
      "metadata": {
        "id": "XOwajxVkcA_W"
      }
    },
    {
      "cell_type": "markdown",
      "source": [
        "### 2.2.1버스정류장 수, 사고 수, 어린이집 수, 노인시설 수, 학교 수 추가"
      ],
      "metadata": {
        "id": "84_fkv6edUrQ"
      }
    },
    {
      "cell_type": "code",
      "execution_count": null,
      "metadata": {
        "id": "wl90naX8afmG"
      },
      "outputs": [],
      "source": [
        "def region_part_precess(data):\n",
        "\n",
        "  df = data.copy()\n",
        "  dj_part = ['동구', '중구', '서구', '유성구', '대덕구']\n",
        "  cn_part = ['천안시', '공주시', '보령시', '아산시', '서산시', '논산시', '계룡시', '당진시', '금산군',\n",
        "       '부여군', '서천군', '청양군', '홍성군', '예산군', '태안군']\n",
        "\n",
        "  df['시군구명'] = \"\"\n",
        "  \n",
        "  df_sj = df[df['HPPN_ADDR'].str.contains('세종특별자치시', na=False)]\n",
        "  df_sj['시도명'] = '세종특별자치시'\n",
        "  #df_sj['시군구명'] = '세종특별자치시'\n",
        "\n",
        "  df_dj = df[df['HPPN_ADDR'].str.contains('대전광역시', na=False)]\n",
        "  df_dj['시도명'] = '대전광역시'\n",
        "  \n",
        "  df.loc[df['HPPN_ADDR'].str.contains('충남', na=False), 'HPPN_ADDR'] = '충청남도'\n",
        "  df_cn = df[df['HPPN_ADDR'].str.contains('충청남도', na=False)]\n",
        "  df_cn['시도명'] = '충청남도'\n",
        "\n",
        "  for region in dj_part:\n",
        "    df_dj.loc[df_dj['HPPN_ADDR'].str.contains(region, na=False), '시군구명'] = region\n",
        "  \n",
        "  for region in cn_part:\n",
        "    df_cn.loc[df_cn['HPPN_ADDR'].str.contains(region, na=False), '시군구명'] = region\n",
        "\n",
        "  df_total = pd.concat([df_sj, df_dj, df_cn])\n",
        "\n",
        "  return df_total"
      ]
    },
    {
      "cell_type": "code",
      "source": [
        "#버스정류장 수, 사고 수, 어린이집 수, 노인시설 수, 학교 수 추가\n",
        "def region_tra_acc_near(traf, report, region, bus):\n",
        "  # 데이터 넣는 순서 중요 : 신호등데이터, 신고데이터, 지역명, 버스데이터\n",
        "\n",
        "  traf = traf[traf['시군구명']==region]\n",
        "  report = report[report['시군구명']==region]\n",
        "\n",
        "  df_sch = pd.read_csv('횡단보도count/학교시설.csv', encoding='utf-8')\n",
        "  df_child = pd.read_csv('횡단보도count/어린이시설.csv', encoding='utf-8')\n",
        "  df_old = pd.read_csv('횡단보도count/노인시설.csv', encoding='utf-8')\n",
        "\n",
        "  df_sch = df_sch[df_sch['시군구명']==region]\n",
        "  df_child = df_child[df_child['시군구명']==region]\n",
        "  df_old = df_old[df_old['시군구명']==region]\n",
        "\n",
        "\n",
        "  df1 = traf.reset_index(drop=True)\n",
        "  df2 = report.reset_index(drop=True)\n",
        "  df3 = df_sch.reset_index(drop=True)\n",
        "  df4 = df_child.reset_index(drop=True)\n",
        "  df5 = df_old.reset_index(drop=True)\n",
        "  df6 = bus.reset_index(drop=True)\n",
        "\n",
        "  df1['acc_cnt'] = 0\n",
        "  df1['sch_cnt'] = 0\n",
        "  df1['child_cnt'] = 0\n",
        "  df1['old_cnt'] = 0\n",
        "  df1['bus_cnt'] = 0\n",
        "\n",
        "  df_acc_report = pd.DataFrame()\n",
        "\n",
        "  for i in range(df1.shape[0]):\n",
        "\n",
        "    num = 0\n",
        "    center = (df1['위도'][i], df1['경도'][i])\n",
        "\n",
        "    for j in range(df2.shape[0]):\n",
        "      happen = (df2['HPPN_Y'][j], df2['HPPN_X'][j])\n",
        "      dist = haversine(center, happen, unit='m')\n",
        "\n",
        "      if dist <= 50: # 반경 50미터로 설정 \n",
        "        num += 1\n",
        "        seri = df2.loc[j]\n",
        "        seri['횡단보도관리번호'] = df1.loc[i]['횡단보도관리번호']\n",
        "        df_acc_report = df_acc_report.append(seri)\n",
        "\n",
        "    df1['acc_cnt'][i] = num\n",
        "  \n",
        "  for i in range(df1.shape[0]):\n",
        "\n",
        "    num = 0\n",
        "    center = (df1['위도'][i], df1['경도'][i])\n",
        "\n",
        "    for j in range(df3.shape[0]):\n",
        "      happen = (df3['위도'][j], df3['경도'][j])\n",
        "      dist = haversine(center, happen, unit='m')\n",
        "\n",
        "      if dist <= 1000: # 반경 1000미터로 설정 \n",
        "        num += 1\n",
        "\n",
        "    df1['sch_cnt'][i] = num\n",
        "\n",
        "\n",
        "  for i in range(df1.shape[0]):\n",
        "\n",
        "    num = 0\n",
        "    center = (df1['위도'][i], df1['경도'][i])\n",
        "\n",
        "    for j in range(df4.shape[0]):\n",
        "      happen = (df4['위도'][j], df4['경도'][j])\n",
        "      dist = haversine(center, happen, unit='m')\n",
        "\n",
        "      if dist <= 1000: # 반경 1000미터로 설정 \n",
        "        num += 1\n",
        "\n",
        "    df1['child_cnt'][i] = num\n",
        "  \n",
        "  for i in range(df1.shape[0]):\n",
        "\n",
        "    num = 0\n",
        "    center = (df1['위도'][i], df1['경도'][i])\n",
        "\n",
        "    for j in range(df5.shape[0]):\n",
        "      happen = (df5['위도'][j], df5['경도'][j])\n",
        "      dist = haversine(center, happen, unit='m')\n",
        "\n",
        "      if dist <= 1000: # 반경 1000미터로 설정 \n",
        "        num += 1\n",
        "\n",
        "    df1['old_cnt'][i] = num\n",
        "\n",
        "  for i in range(df1.shape[0]):\n",
        "\n",
        "    num = 0\n",
        "    center = (df1['위도'][i], df1['경도'][i])\n",
        "\n",
        "    for j in range(df6.shape[0]):\n",
        "      happen = (df6['위도'][j], df6['경도'][j])\n",
        "      dist = haversine(center, happen, unit='m')\n",
        "\n",
        "      if dist <= 150: # 반경 150미터로 설정 \n",
        "        num += 1\n",
        "\n",
        "    df1['bus_cnt'][i] = num\n",
        "\n",
        "    #df_acc_report = df_acc_report.drop_duplicates()\n",
        "\n",
        "  \n",
        "  return df1, df_acc_report"
      ],
      "metadata": {
        "id": "mg707xBpcb4T"
      },
      "execution_count": null,
      "outputs": []
    },
    {
      "cell_type": "code",
      "source": [
        "f = origin_data_process()\n",
        "df_total = region_part_precess(df)\n",
        "\n",
        "bus_dj = pd.read_csv('횡단보도count/dj_bus.csv', encoding='cp949')#버스변수\n",
        "df_acc_cnt, df_acc_report = region_tra_acc_near(df_cross_all, df_total, '동구', bus_dj)#횡단보도 데이터에 신고수, 버스정류장 수등 추가"
      ],
      "metadata": {
        "id": "v_oaH3OBcf22"
      },
      "execution_count": null,
      "outputs": []
    },
    {
      "cell_type": "code",
      "source": [
        "df_acc_cnt.to_csv('횡단보도cnt 데이터 모음/df_acc_dj_jg.csv', index=False)\n",
        "df_acc_report.to_csv('횡단보도cnt 데이터 모음/df_acc_report_dj_jg.csv', index=False) #추후 분석 위해 파일로 저장"
      ],
      "metadata": {
        "id": "Yk5UDD8cdKfT"
      },
      "execution_count": null,
      "outputs": []
    },
    {
      "cell_type": "markdown",
      "source": [
        "### 2.2.2무인단속카메라 수 추가"
      ],
      "metadata": {
        "id": "JjsVFj0_dfBV"
      }
    },
    {
      "cell_type": "code",
      "source": [
        "from haversine import haversine\n",
        "def cctv_num(cctv_data, location_data):\n",
        "  location_data[\"cctv_cnt\"] = 0 \n",
        "  def haversine_loc(x):\n",
        "    hppn_cord = (x[0], x[1])\n",
        "    def dis(x):\n",
        "      loc_cord = (x[0],x[1])\n",
        "      if haversine(loc_cord, hppn_cord, unit = 'm')<100:\n",
        "        return x[2]+1\n",
        "      else:\n",
        "        return x[2]\n",
        "    location_data[\"cctv_cnt\"] = location_data[[\"위도\", \"경도\", \"cctv_cnt\"]].apply(lambda x: dis(x), axis=1)\n",
        "  cctv_data[[\"위도\", \"경도\"]].apply(lambda x: haversine_loc(x), axis=1)\n",
        "  return location_data"
      ],
      "metadata": {
        "id": "8t6jJybbdp9H"
      },
      "execution_count": null,
      "outputs": []
    },
    {
      "cell_type": "code",
      "source": [
        "df_cctv_ch = pd.read_csv(\"/content/drive/MyDrive/SSP_cctv_data/충청남도_천안시_무인교통단속카메라.csv\", encoding='cp949')\n",
        "df_cctv_ss = pd.read_csv(\"/content/drive/MyDrive/SSP_cctv_data/충청남도_서산시_무인교통단속카메라.csv\", encoding='cp949')\n",
        "df_cctv_br = pd.read_csv(\"/content/drive/MyDrive/SSP_cctv_data/충청남도_보령시_무인교통단속카메라.csv\", encoding='cp949')\n",
        "df_cctv_sc = pd.read_csv(\"/content/drive/MyDrive/SSP_cctv_data/충청남도_서천군_무인교통단속카메라.csv\", encoding='cp949')\n",
        "df_cctv_ys = pd.read_csv(\"/content/drive/MyDrive/SSP_cctv_data/충청남도_예산군_무인교통단속카메라.csv\", encoding='cp949')\n",
        "df_cctv_ta = pd.read_csv(\"/content/drive/MyDrive/SSP_cctv_data/충청남도_태안군_무인교통단속카메라.csv\", encoding='cp949') \n",
        "df_cctv_dj = pd.read_csv(\"/content/drive/MyDrive/SSP_cctv_data/대전광역시_무인교통단속카메라_20221215.csv\", encoding='cp949')\n",
        "df_cctv_sj = pd.read_csv(\"/content/drive/MyDrive/SSP_cctv_data/경찰청 세종특별자치시경찰청_무인교통단속카메라_20220520.csv\", encoding='cp949')\n",
        "#무인단속카메라 파일 불러오기\n",
        "\n",
        "df = pd.read_csv(\"/content/drive/MyDrive/SSP_Data/횡단보도_피처_count/df_cnt_all.csv\", encoding='UTF-8')\n",
        "#2.2.1의 데이터 불러오기\n",
        "\n",
        "df_ch_cctv_p = cctv_num(df_cctv_ch, df_ch)\n",
        "df_ss_cctv_p = cctv_num(df_cctv_ss, df_ss)\n",
        "df_br_cctv_p = cctv_num(df_cctv_br, df_br)\n",
        "df_ys_cctv_p = cctv_num(df_cctv_ys, df_ys)\n",
        "df_sc_cctv_p = cctv_num(df_cctv_sc, df_sc)\n",
        "df_ta_cctv_p = cctv_num(df_cctv_ta, df_ta)\n",
        "df_dj_cctv_p = cctv_num(df_cctv_dj, df_dj)\n",
        "df_sj_cctv_p = cctv_num(df_cctv_sj, df_sj)\n",
        "#변수별 데이터 추가\n",
        "\n",
        "df_cctv_cnt_can_final = df_ch_cctv_p\n",
        "for i in df_files_list:\n",
        "  df_cctv_cnt_can_final = pd.concat([df_cctv_cnt_can_final,i], ignore_index=True)\n",
        "#최종파일로 병합\n",
        "df_cctv_cnt_can_final.to_csv('/content/drive/MyDrive/SSP_cctv_data/df_cctv_contain.csv', encoding = \"cp949\")\n",
        "#파일로 내보내기"
      ],
      "metadata": {
        "id": "Trg1mxBPd_yV"
      },
      "execution_count": null,
      "outputs": []
    },
    {
      "cell_type": "markdown",
      "source": [
        "### **2.2.3 아파트 데이터 추가**"
      ],
      "metadata": {
        "id": "OIzKxdReyIAt"
      }
    },
    {
      "cell_type": "code",
      "source": [
        "def apt_process():\n",
        "  df_apt = pd.read_excel('아파트/20230201_단지_기본정보.xlsx', header=1)\n",
        "  df_apt = df_apt.iloc[:, [0,1,2,3,7,8,13]]\n",
        "  df_apt = df_apt.fillna('')\n",
        "  df_apt = df_apt.replace('천안서북구', '천안시')\n",
        "  df_apt = df_apt.replace('천안동남구', '천안시')\n",
        "  df_apt['큰주소'] = df_apt['시도'] + ' ' + df_apt['시군구'] + ' ' + df_apt['읍면'] + ' ' + df_apt['동리']\n",
        "  df_apt['큰주소'] = df_apt['큰주소'].str.replace('   ', ' ')\n",
        "  df_apt['큰주소'] = df_apt['큰주소'].str.replace('  ', ' ')\n",
        "  df_sj = df_apt[df_apt['시도']=='세종특별자치시']\n",
        "  df_dj = df_apt[df_apt['시도']=='대전광역시']\n",
        "  df_cn = df_apt[df_apt['시도']=='충청남도']\n",
        "  df_total = pd.concat([df_sj, df_dj, df_cn])\n",
        "  return df_total, df_sj, df_dj, df_cn"
      ],
      "metadata": {
        "id": "YFC_FubH2dt-"
      },
      "execution_count": null,
      "outputs": []
    },
    {
      "cell_type": "code",
      "source": [
        "apar_total, apar_sj, apar_dj, apar_cn = apt_process()"
      ],
      "metadata": {
        "id": "6hepi8oL2f0D"
      },
      "execution_count": null,
      "outputs": []
    },
    {
      "cell_type": "code",
      "source": [
        "def apar_cnt(traf, apar):# 횡단보도와 아파트 데이터 결합\n",
        "\n",
        "  df1 = traf.reset_index(drop=True)\n",
        "  df2 = apar.reset_index(drop=True)\n",
        "\n",
        "  df1['도로명'] = df1['도로명'].str.replace(' ','')\n",
        "  df2['도로명주소'] = df2['도로명주소'].str.replace(' ','')\n",
        "  df1['소재지지번주소'] = df1['소재지지번주소'].str.replace(' ','')\n",
        "  df2['큰주소'] = df2['큰주소'].str.replace(' ','')\n",
        "\n",
        "  df1['apar_rd_cnt'] = 0\n",
        "  df1['apar_rd_fam'] = 0\n",
        "  df1['apar_ad_cnt'] = 0\n",
        "  df1['apar_ad_fam'] = 0\n",
        "\n",
        "\n",
        "\n",
        "  for i in range(df1.shape[0]):\n",
        "  \n",
        "    ad_num = 0\n",
        "    ad_fam_num = 0\n",
        "    rd_num = 0\n",
        "    rd_fam_num = 0\n",
        "  \n",
        "    for j in range(df2.shape[0]):\n",
        "\n",
        "      if df1['도로명'][i] in df2['도로명주소'][j]:\n",
        "        rd_num += 1\n",
        "        rd_fam_num += df2['세대수'][j]\n",
        "\n",
        "      if df2['큰주소'][j] in df1['소재지지번주소'][i]:\n",
        "        ad_num += 1\n",
        "        ad_fam_num += df2['세대수'][j]      \n",
        "\n",
        "    df1['apar_rd_cnt'][i] = rd_num\n",
        "    df1['apar_rd_fam'][i] = rd_fam_num\n",
        "    df1['apar_ad_cnt'][i] = ad_num\n",
        "    df1['apar_ad_fam'][i] = ad_fam_num\n",
        "  \n",
        "  return df1"
      ],
      "metadata": {
        "id": "LW_cjUX3yQNE"
      },
      "execution_count": null,
      "outputs": []
    },
    {
      "cell_type": "code",
      "source": [
        "def apar_cnt_both(data):#아파트 데이터 도로명, 지번 결합\n",
        "  df = data.copy()\n",
        "  df[\"apar_count_both\"] = 0\n",
        "  df[\"apar_fam_both\"] = 0\n",
        "  df.loc[((df[\"apar_rd_fam\"]!=0)&(df[\"apar_ad_fam\"]!=0))&(df[\"apar_rd_fam\"]>=df[\"apar_ad_fam\"]), \"apar_fam_both\"] = df[\"apar_rd_fam\"]\n",
        "  df.loc[((df[\"apar_rd_fam\"]!=0)&(df[\"apar_ad_fam\"]!=0))&(df[\"apar_rd_fam\"]<df[\"apar_ad_fam\"]), \"apar_fam_both\"] = df[\"apar_ad_fam\"]\n",
        "  df.loc[(df[\"apar_rd_fam\"]==0)&(df[\"apar_ad_fam\"]!=0), \"apar_fam_both\"] = df[\"apar_ad_fam\"]\n",
        "  df.loc[(df[\"apar_rd_fam\"]!=0)&(df[\"apar_ad_fam\"]==0), \"apar_fam_both\"] = df[\"apar_rd_fam\"]\n",
        "  df.loc[((df[\"apar_rd_cnt\"]!=0)&(df[\"apar_ad_cnt\"]!=0))&(df[\"apar_rd_cnt\"]>=df[\"apar_ad_cnt\"]), \"apar_count_both\"] = df[\"apar_rd_cnt\"]\n",
        "  df.loc[((df[\"apar_rd_cnt\"]!=0)&(df[\"apar_ad_cnt\"]!=0))&(df[\"apar_rd_cnt\"]<df[\"apar_ad_cnt\"]), \"apar_count_both\"] = df[\"apar_ad_cnt\"]\n",
        "  df.loc[(df[\"apar_rd_cnt\"]==0)&(df[\"apar_ad_cnt\"]!=0), \"apar_count_both\"] = df[\"apar_ad_cnt\"]\n",
        "  df.loc[(df[\"apar_rd_cnt\"]!=0)&(df[\"apar_ad_cnt\"]==0), \"apar_count_both\"] = df[\"apar_rd_cnt\"]\n",
        "  df = df.drop(['apar_rd_cnt', 'apar_rd_fam', 'apar_ad_cnt', 'apar_ad_fam'], axis=1)\n",
        "  return df"
      ],
      "metadata": {
        "id": "3pHTCk2wy86c"
      },
      "execution_count": null,
      "outputs": []
    },
    {
      "cell_type": "markdown",
      "source": [
        "### **2.2.4 행정구역별 연령별 인구데이터 추가** "
      ],
      "metadata": {
        "id": "5zm_R0bqJ1ns"
      }
    },
    {
      "cell_type": "code",
      "source": [
        "def popu_process():\n",
        "\n",
        "  popu = pd.read_csv('전국_연령별인구현황.csv', encoding='cp949')\n",
        "\n",
        "  popu['총인구'] = popu['2023년01월_계_총인구수']\n",
        "  popu['아동수'] = popu['2023년01월_계_0~9세']\n",
        "  popu['청소년수'] = popu['2023년01월_계_10~19세']\n",
        "  popu['청년수'] = popu['2023년01월_계_20~29세']\n",
        "  popu['중년수'] = popu['2023년01월_계_30~39세'] + popu['2023년01월_계_40~49세'] \n",
        "  popu['장년수'] = popu['2023년01월_계_50~59세'] + popu['2023년01월_계_60~69세']\n",
        "  popu['노년수'] = popu['2023년01월_계_70~79세'] + popu['2023년01월_계_80~89세'] + popu['2023년01월_계_90~99세'] + popu['2023년01월_계_100세 이상']\n",
        "\n",
        "  list = popu[\"행정구역\"].str.split(\" \")\n",
        "  popu[\"시도명\"] = list.str.get(0)\n",
        "  popu[\"시군구명\"] = list.str.get(1)\n",
        "\n",
        "  popu = popu[['행정구역','시도명','시군구명','총인구','아동수','청소년수','청년수','중년수','장년수','노년수']]\n",
        "  #popu.drop_duplicates(inplace=True)\n",
        "  popu.drop([72,85,177, 179, 180], axis=0, inplace=True)\n",
        "\n",
        "  popu = popu[(popu['시도명']=='세종특별자치시') | (popu['시도명']=='대전광역시') | (popu['시도명']=='충청남도')]\n",
        "  popu_sj =  popu[popu['시도명']=='세종특별자치시']\n",
        "  popu_dj =  popu[popu['시도명']=='대전광역시']\n",
        "  popu_cn =  popu[popu['시도명']=='충청남도']\n",
        "\n",
        "\n",
        "  return popu, popu_sj, popu_dj, popu_cn\n",
        "\n",
        "popu_all, popu_sj, popu_dj, popu_cn = popu_process()"
      ],
      "metadata": {
        "id": "gINnHu-AJ-4h"
      },
      "execution_count": null,
      "outputs": []
    },
    {
      "cell_type": "markdown",
      "source": [
        "### **2.2.5 행정구역별 초중등학교 데이터 추가** "
      ],
      "metadata": {
        "id": "O5c6tDh6J1ck"
      }
    },
    {
      "cell_type": "code",
      "source": [
        "def sch_preprocessing():\n",
        "  df_sch = pd.read_csv('어린이청소년노인/전국초중등학교위치표준데이터.csv', encoding='cp949')\n",
        "  df = df_sch\n",
        "  df = df[['학교급구분','소재지지번주소','위도','경도']]\n",
        "  df_sch_sj = df[df['소재지지번주소'].str.contains('세종특별자치시', na=False)]\n",
        "  df_sch_dj = df[df['소재지지번주소'].str.contains('대전광역시', na=False)]\n",
        "  df_sch_cn = df[df['소재지지번주소'].str.contains('충청남도', na=False)]\n",
        "  return df_sch_sj, df_sch_dj, df_sch_cn\n",
        "\n",
        "df_sch_sj, df_sch_dj, df_sch_cn = sch_preprocessing()\n",
        "df_sch = pd.read_csv('어린이청소년노인/전국초중등학교위치표준데이터.csv', encoding='cp949')\n",
        "\n",
        "def sch_region_part_precess(data):\n",
        "\n",
        "  df = data.copy()\n",
        "  dj_part = ['동구', '중구', '서구', '유성구', '대덕구']\n",
        "  cn_part = ['천안시', '공주시', '보령시', '아산시', '서산시', '논산시', '계룡시', '당진시', '금산군',\n",
        "       '부여군', '서천군', '청양군', '홍성군', '예산군', '태안군']\n",
        "\n",
        "  df['시군구명'] = \"\"\n",
        "  \n",
        "  df_sj = df[df['소재지지번주소'].str.contains('세종특별자치시', na=False)]\n",
        "  df_sj['시도명'] = '세종특별자치시'\n",
        "  #df_sj['시군구명'] = '세종특별자치시'\n",
        "\n",
        "  df_dj = df[df['소재지지번주소'].str.contains('대전광역시', na=False)]\n",
        "  df_dj['시도명'] = '대전광역시'\n",
        "  \n",
        "  df.loc[df['소재지지번주소'].str.contains('충남', na=False), '소재지지번주소'] = '충청남도'\n",
        "  df_cn = df[df['소재지지번주소'].str.contains('충청남도', na=False)]\n",
        "  df_cn['시도명'] = '충청남도'\n",
        "\n",
        "  for region in dj_part:\n",
        "    df_dj.loc[df_dj['소재지지번주소'].str.contains(region, na=False), '시군구명'] = region\n",
        "  \n",
        "  for region in cn_part:\n",
        "    df_cn.loc[df_cn['소재지지번주소'].str.contains(region, na=False), '시군구명'] = region\n",
        "\n",
        "  df_total = pd.concat([df_sj, df_dj, df_cn])\n",
        "\n",
        "  return df_total, df_sj, df_dj, df_cn\n",
        "\n",
        "df_total, df_sj, df_dj, df_cn = sch_region_part_precess(df_sch)\n",
        "\n",
        "df_sch = df_total.copy()\n",
        "\n",
        "def repo_cnt(data):\n",
        "  df = data.groupby(['시도명', '시군구명']).count()['학교명'].reset_index().rename(columns={'학교명':'학교수'})\n",
        "  return df\n",
        "\n",
        "df_sch_cnt = repo_cnt(df_sch)"
      ],
      "metadata": {
        "id": "IxycMRUxKHC3"
      },
      "execution_count": null,
      "outputs": []
    },
    {
      "cell_type": "markdown",
      "source": [
        "# **3. 데이터 시각화(그래프)**\n",
        "- 사용 데이터 : '행정구역별 피처.csv'"
      ],
      "metadata": {
        "id": "yL_f24M6bKss"
      }
    },
    {
      "cell_type": "markdown",
      "source": [
        "### 3.1 필요데이터 불러오기"
      ],
      "metadata": {
        "id": "UZVaUCgphm07"
      }
    },
    {
      "cell_type": "code",
      "source": [
        "df_expect_cross_acc = pd.read_csv('/content/drive/MyDrive/MR_Study_at/SSP_Data/EDA를위한/횡단보도사건제외신고_all.csv', encoding= 'UTF-8') #횡단보도 외 교통사고 데이터\n",
        "df_acc_report = pd.read_csv('/content/drive/MyDrive/MR_Study_at/SSP_Data/EDA를위한/df_acc_report_중복제거_all.csv', encoding= 'UTF-8') #횡단보도 교통사고 중 횡단보도고유번호 제외+중복 제거\n",
        "df_acc_report_crossnum = pd.read_csv('/content/drive/MyDrive/MR_Study_at/SSP_Data/EDA를위한/df_acc_report_all.csv', encoding= 'UTF-8') #횡단보도 교통사고 중 횡단보도고유번호 포함+중복 포함\n",
        "df_acc = pd.read_csv('/content/drive/MyDrive/MR_Study_at/SSP_Data/EDA를위한/df_acc.csv', encoding= 'UTF-8') #횡단보도 교통사고 중 count 포함\n",
        "\n",
        "df_acc['시군구명'] = df_acc['시군구명'].str.replace(\"없음\", \"세종시\")\n",
        "df_expect_cross_acc['NPA_CL'] = df_expect_cross_acc['NPA_CL'].apply(str)\n",
        "df_expect_cross_acc['NPA_CL'] = df_expect_cross_acc['NPA_CL'].str.replace(\"19.0\", \"충남청\")\n",
        "df_expect_cross_acc['NPA_CL'] = df_expect_cross_acc['NPA_CL'].str.replace(\"13.0\", \"대전청\")\n",
        "df_expect_cross_acc['NPA_CL'] = df_expect_cross_acc['NPA_CL'].str.replace(\"31.0\", \"세종청\")\n",
        "df_expect_cross_acc['EVT_CL_CD'] = df_expect_cross_acc['EVT_CL_CD'].apply(str)\n",
        "df_expect_cross_acc['EVT_CL_CD'] = df_expect_cross_acc['EVT_CL_CD'].str.replace(\"401.0\", \"교통사고\")\n",
        "df_expect_cross_acc['EVT_CL_CD'] = df_expect_cross_acc['EVT_CL_CD'].str.replace(\"406.0\", \"음주운전\")\n",
        "df_expect_cross_acc['EVT_CL_CD'] = df_expect_cross_acc['EVT_CL_CD'].str.replace(\"402.0\", \"교통불편\")\n",
        "df_expect_cross_acc['EVT_CL_CD'] = df_expect_cross_acc['EVT_CL_CD'].str.replace(\"403.0\", \"교통위반\")\n",
        "df_expect_cross_acc['EVT_CL_CD'] = df_expect_cross_acc['EVT_CL_CD'].str.replace(\"405.0\", \"인피도주\")\n",
        "df_expect_cross_acc['EVT_CL_CD'] = df_expect_cross_acc['EVT_CL_CD'].str.replace(\"404.0\", \"사망.대형사고\")\n",
        "df_acc_report['NPA_CL'] = df_acc_report['NPA_CL'].apply(str)\n",
        "df_acc_report['NPA_CL'] = df_acc_report['NPA_CL'].str.replace(\"19.0\", \"충남청\")\n",
        "df_acc_report['NPA_CL'] = df_acc_report['NPA_CL'].str.replace(\"13.0\", \"대전청\")\n",
        "df_acc_report['NPA_CL'] = df_acc_report['NPA_CL'].str.replace(\"31.0\", \"세종청\")\n",
        "df_acc_report['EVT_CL_CD'] = df_acc_report['EVT_CL_CD'].apply(str)\n",
        "df_acc_report['EVT_CL_CD'] = df_acc_report['EVT_CL_CD'].str.replace(\"401.0\", \"교통사고\")\n",
        "df_acc_report['EVT_CL_CD'] = df_acc_report['EVT_CL_CD'].str.replace(\"406.0\", \"음주운전\")\n",
        "df_acc_report['EVT_CL_CD'] = df_acc_report['EVT_CL_CD'].str.replace(\"402.0\", \"교통불편\")\n",
        "df_acc_report['EVT_CL_CD'] = df_acc_report['EVT_CL_CD'].str.replace(\"403.0\", \"교통위반\")\n",
        "df_acc_report['EVT_CL_CD'] = df_acc_report['EVT_CL_CD'].str.replace(\"405.0\", \"인피도주\")\n",
        "df_acc_report['EVT_CL_CD'] = df_acc_report['EVT_CL_CD'].str.replace(\"404.0\", \"사망.대형사고\")"
      ],
      "metadata": {
        "id": "O6infn9GbPUS"
      },
      "execution_count": null,
      "outputs": []
    },
    {
      "cell_type": "markdown",
      "source": [
        "### 3.2 데이터 그래프 작성"
      ],
      "metadata": {
        "id": "yGP79heKhmIa"
      }
    },
    {
      "cell_type": "markdown",
      "source": [
        "#### **3.2.1 사고 파일 분석**"
      ],
      "metadata": {
        "id": "_GU4iyB7hwjl"
      }
    },
    {
      "cell_type": "code",
      "source": [
        "plot_missing(df_acc)"
      ],
      "metadata": {
        "id": "OZ8YuwK0heNu"
      },
      "execution_count": null,
      "outputs": []
    },
    {
      "cell_type": "code",
      "source": [
        "plot(df_acc)"
      ],
      "metadata": {
        "id": "v9pbFkRghhMl"
      },
      "execution_count": null,
      "outputs": []
    },
    {
      "cell_type": "code",
      "source": [
        "plot_correlation(df_acc)"
      ],
      "metadata": {
        "id": "J0olVVyEhigU"
      },
      "execution_count": null,
      "outputs": []
    },
    {
      "cell_type": "markdown",
      "source": [
        "####**3.2.2 사고발생건수**"
      ],
      "metadata": {
        "id": "V3Czuzw5h40d"
      }
    },
    {
      "cell_type": "code",
      "source": [
        "plot(df_acc, \"시도명\",\"acc_cnt\")"
      ],
      "metadata": {
        "id": "2BS6jtaBhkSt"
      },
      "execution_count": null,
      "outputs": []
    },
    {
      "cell_type": "code",
      "source": [
        "plot(df_acc, \"시군구명\",\"acc_cnt\")"
      ],
      "metadata": {
        "id": "3seiPi7qiAvp"
      },
      "execution_count": null,
      "outputs": []
    },
    {
      "cell_type": "code",
      "source": [
        "plot(df_acc, \"도로명\",\"acc_cnt\")"
      ],
      "metadata": {
        "id": "AATgzZKZiAtQ"
      },
      "execution_count": null,
      "outputs": []
    },
    {
      "cell_type": "markdown",
      "source": [
        "####**3.2.3 학교수(sch_cnt)**"
      ],
      "metadata": {
        "id": "76Zq5NcCh_mX"
      }
    },
    {
      "cell_type": "code",
      "source": [
        "plot(df_acc, \"시도명\",\"sch_cnt\")"
      ],
      "metadata": {
        "id": "kYUhkINRiAp_"
      },
      "execution_count": null,
      "outputs": []
    },
    {
      "cell_type": "code",
      "source": [
        "plot(df_acc, \"시군구명\",\"sch_cnt\")"
      ],
      "metadata": {
        "id": "Oh4U8J8CiAiX"
      },
      "execution_count": null,
      "outputs": []
    },
    {
      "cell_type": "code",
      "source": [
        "plot(df_acc, \"도로명\",\"sch_cnt\")"
      ],
      "metadata": {
        "id": "DIgLx9LOiKll"
      },
      "execution_count": null,
      "outputs": []
    },
    {
      "cell_type": "markdown",
      "source": [
        "#### **3.2.4 어린이시설수(child_cnt)**"
      ],
      "metadata": {
        "id": "JUo5CSVgiMoc"
      }
    },
    {
      "cell_type": "code",
      "source": [
        "plot(df_acc, \"시도명\",\"child_cnt\")"
      ],
      "metadata": {
        "id": "3ppDpADYiL1f"
      },
      "execution_count": null,
      "outputs": []
    },
    {
      "cell_type": "code",
      "source": [
        "plot(df_acc, \"시군구명\",\"child_cnt\")"
      ],
      "metadata": {
        "id": "UTucd-ODiQBQ"
      },
      "execution_count": null,
      "outputs": []
    },
    {
      "cell_type": "code",
      "source": [
        "plot(df_acc, \"도로명\",\"child_cnt\")"
      ],
      "metadata": {
        "id": "LBfgR0bLiRSL"
      },
      "execution_count": null,
      "outputs": []
    },
    {
      "cell_type": "markdown",
      "source": [
        "#### **3.2.5 노인장애인시설수(old_cnt)**"
      ],
      "metadata": {
        "id": "vis3Hf2eiTau"
      }
    },
    {
      "cell_type": "code",
      "source": [
        "plot(df_acc, \"시도명\",\"old_cnt\")"
      ],
      "metadata": {
        "id": "QbFZXBKviSfB"
      },
      "execution_count": null,
      "outputs": []
    },
    {
      "cell_type": "code",
      "source": [
        "plot(df_acc, \"시군구명\",\"old_cnt\")"
      ],
      "metadata": {
        "id": "3KnbB-zGiXow"
      },
      "execution_count": null,
      "outputs": []
    },
    {
      "cell_type": "code",
      "source": [
        "plot(df_acc, \"도로명\",\"old_cnt\")"
      ],
      "metadata": {
        "id": "TP1ud5bBiaKu"
      },
      "execution_count": null,
      "outputs": []
    },
    {
      "cell_type": "markdown",
      "source": [
        "#### **3.2.6 버스정류장수(bus_cnt)**"
      ],
      "metadata": {
        "id": "zrq-StnAiZQK"
      }
    },
    {
      "cell_type": "code",
      "source": [
        "plot(df_acc, \"시도명\",\"bus_cnt\")"
      ],
      "metadata": {
        "id": "rAovcRldihOs"
      },
      "execution_count": null,
      "outputs": []
    },
    {
      "cell_type": "code",
      "source": [
        "plot(df_acc, \"시군구명\",\"bus_cnt\")"
      ],
      "metadata": {
        "id": "3_9HWDc_ihMM"
      },
      "execution_count": null,
      "outputs": []
    },
    {
      "cell_type": "code",
      "source": [
        "plot(df_acc, \"도로명\",\"bus_cnt\")"
      ],
      "metadata": {
        "id": "uiht7buZihJW"
      },
      "execution_count": null,
      "outputs": []
    },
    {
      "cell_type": "markdown",
      "source": [
        "#### **3.2.7 횡단보도사건제외신고_all**"
      ],
      "metadata": {
        "id": "EvZ83f07igat"
      }
    },
    {
      "cell_type": "code",
      "source": [
        "plot_missing(df_expect_cross_acc)"
      ],
      "metadata": {
        "id": "197BJAKcizuY"
      },
      "execution_count": null,
      "outputs": []
    },
    {
      "cell_type": "code",
      "source": [
        "plot(df_expect_cross_acc)"
      ],
      "metadata": {
        "id": "LZ_4U4Ogizrc"
      },
      "execution_count": null,
      "outputs": []
    },
    {
      "cell_type": "code",
      "source": [
        "plot_correlation(df_expect_cross_acc)"
      ],
      "metadata": {
        "id": "FajvWHwcizoM"
      },
      "execution_count": null,
      "outputs": []
    },
    {
      "cell_type": "markdown",
      "source": [
        "#### **3.2.8 df_acc_report_중복제거_all**"
      ],
      "metadata": {
        "id": "uVVAL80HigSj"
      }
    },
    {
      "cell_type": "code",
      "source": [
        "plot_missing(df_acc_report)"
      ],
      "metadata": {
        "id": "aQ_1VOdMi6oq"
      },
      "execution_count": null,
      "outputs": []
    },
    {
      "cell_type": "code",
      "source": [
        "plot(df_acc_report)"
      ],
      "metadata": {
        "id": "xelkPi2bi6lu"
      },
      "execution_count": null,
      "outputs": []
    },
    {
      "cell_type": "code",
      "source": [
        "plot_correlation(df_acc_report)"
      ],
      "metadata": {
        "id": "Oxg34ZOEi6jU"
      },
      "execution_count": null,
      "outputs": []
    },
    {
      "cell_type": "markdown",
      "source": [
        "#### **3.2.9 df_acc_report_all**"
      ],
      "metadata": {
        "id": "WH5xpPLUjBwF"
      }
    },
    {
      "cell_type": "code",
      "source": [
        "df_acc_report_crossnum.describe()"
      ],
      "metadata": {
        "id": "NpoecFfXi6gu"
      },
      "execution_count": null,
      "outputs": []
    },
    {
      "cell_type": "code",
      "source": [
        "plot_missing(df_acc_report_crossnum)"
      ],
      "metadata": {
        "id": "TbgrKUDhi6d8"
      },
      "execution_count": null,
      "outputs": []
    },
    {
      "cell_type": "code",
      "source": [
        "plot(df_acc_report_crossnum)"
      ],
      "metadata": {
        "id": "eXYWE5yKjGwt"
      },
      "execution_count": null,
      "outputs": []
    },
    {
      "cell_type": "code",
      "source": [
        "plot_correlation(df_acc_report_crossnum)"
      ],
      "metadata": {
        "id": "x0WOONR9jIFU"
      },
      "execution_count": null,
      "outputs": []
    },
    {
      "cell_type": "markdown",
      "source": [
        "#### **3.2.10 횡단보도 외 교통사고 vs 횡단보도 사고**"
      ],
      "metadata": {
        "id": "BtLIbwCRjavZ"
      }
    },
    {
      "cell_type": "markdown",
      "source": [
        "##### **3.2.10.1 중복제거**"
      ],
      "metadata": {
        "id": "CMiGUsXMkMtx"
      }
    },
    {
      "cell_type": "code",
      "source": [
        "plot_diff([df_expect_cross_acc, df_acc_report])"
      ],
      "metadata": {
        "id": "5WfLsJP7jYNp"
      },
      "execution_count": null,
      "outputs": []
    },
    {
      "cell_type": "markdown",
      "source": [
        "##### **3.2.10.2 중복포함**"
      ],
      "metadata": {
        "id": "aMuz0SS4kTGA"
      }
    },
    {
      "cell_type": "code",
      "source": [
        "plot_diff([df_expect_cross_acc, df_acc_report_crossnum])"
      ],
      "metadata": {
        "id": "3F3iPemQkacg"
      },
      "execution_count": null,
      "outputs": []
    },
    {
      "cell_type": "markdown",
      "source": [
        "#### **3.2.11 중복데이터 확인**"
      ],
      "metadata": {
        "id": "oHwvyxM3kgeL"
      }
    },
    {
      "cell_type": "code",
      "source": [
        "plot_diff([df_acc_report, df_acc_report_crossnum])"
      ],
      "metadata": {
        "id": "ln_YqU5ikn_y"
      },
      "execution_count": null,
      "outputs": []
    },
    {
      "cell_type": "markdown",
      "source": [
        "# **4. 데이터 시각화(매핑)**\n",
        "- 사용 데이터 : '행정구역별 피처.csv'"
      ],
      "metadata": {
        "id": "sz-J0Li-bYvs"
      }
    },
    {
      "cell_type": "markdown",
      "source": [
        "## **4.1 shp데이터 불러오기**"
      ],
      "metadata": {
        "id": "-vtIoKjMkwox"
      }
    },
    {
      "cell_type": "code",
      "source": [
        "sigun_geo = gpd.read_file(\"/content/drive/MyDrive/SSP_Data/sig_fn.zip.geojson\", encoding = 'cp949')"
      ],
      "metadata": {
        "id": "gQweoIuRbbar"
      },
      "execution_count": null,
      "outputs": []
    },
    {
      "cell_type": "markdown",
      "source": [
        "## **4.2 지형 데이터 수정, 매핑할 파일 불러오기**"
      ],
      "metadata": {
        "id": "V0PWhWfWtNl8"
      }
    },
    {
      "cell_type": "code",
      "source": [
        "df_expect_cross_acc = pd.read_csv('/content/drive/MyDrive/SSP_Data/EDA를위한/횡단보도사건제외신고_all.csv', encoding= 'UTF-8') #횡단보도 외 교통사고 데이터\n",
        "df_acc_report = pd.read_csv('/content/drive/MyDrive/SSP_Data/EDA를위한/df_acc_report_중복제거_all.csv', encoding= 'UTF-8') #횡단보도 교통사고 중 횡단보도고유번호 제외+중복 제거\n",
        "df_acc_report_crossnum = pd.read_csv('/content/drive/MyDrive/SSP_Data/EDA를위한/df_acc_report_all.csv', encoding= 'UTF-8') #횡단보도 교통사고 중 횡단보도고유번호 포함+중복 포함\n",
        "df_acc = pd.read_csv('/content/drive/MyDrive/SSP_Data/EDA를위한/df_acc.csv', encoding= 'UTF-8') #횡단보도 교통사고 중 count 포함\n",
        "sch_data = pd.read_csv(\"/content/drive/MyDrive/SSP_Data/어린이청소년노인/전국초중등학교위치표준데이터.csv\", encoding = \"cp949\")\n",
        "df2 = pd.read_csv('/content/drive/MyDrive/SSP_Data/clustering_result.csv', encoding = \"UTF-8\")\n",
        "\n",
        "df_clus = df_clus[df_clus['predict']==2]\n",
        "list = sch_data[\"소재지지번주소\"].str.split(\" \")\n",
        "sch_data.loc[sch_data[\"시도명\"]==\"세종특별자치시\", \"시군구명\"] = \"세종특별자치시\"\n",
        "sch_data[\"시도명\"] = list.str.get(0)\n",
        "sch_data[\"시군구명\"] = list.str.get(1)\n",
        "sigun_geo.loc[sigun_geo[\"SIG_CD\"]==\"36110\", \"SIG_CD\"] = \"36000\"\n",
        "df_geo = sigun_geo[sigun_geo['SIG_CD'].str.startswith(('30', '36', '44'))]\n",
        "df_acc_report.loc[df_acc_report[\"시도명\"]==\"세종특별자치시\", \"시군구명\"] = \"세종특별자치시\""
      ],
      "metadata": {
        "id": "iJVwcMbHtIM0"
      },
      "execution_count": null,
      "outputs": []
    },
    {
      "cell_type": "markdown",
      "source": [
        "## **4.3 지도 그리기**"
      ],
      "metadata": {
        "id": "RDmWVJ1JtvFM"
      }
    },
    {
      "cell_type": "code",
      "source": [
        "def df_map(sigun_geo):\n",
        "  borderstyle={\n",
        "  'color': '#000000',\n",
        "  'weight': 1,\n",
        "  'fillColor': '#FFFFFF',\n",
        "  'fillOpacit': 0\n",
        "  }#경계선 스타일 설정\n",
        "  df_m = folium.Map(location = [36.50000, 127.50000], zoom_start = 10)#기본 맵 생성\n",
        "  df_geo = sigun_geo[sigun_geo['SIG_CD'].str.startswith(('30', '36', '44'))]# 충남, 대전 세종 경계 데이터만을 geojson파일에서 뽑아내기\n",
        "  folium.GeoJson(df_geo,name='json_data', style_function = lambda x:borderstyle).add_to(df_m)#지도에 경계 데이터 geojson파일 추가\n",
        "  return df_m"
      ],
      "metadata": {
        "id": "PQsPBYkAt0u6"
      },
      "execution_count": null,
      "outputs": []
    },
    {
      "cell_type": "code",
      "source": [
        "def city_Choropleth_creator(test, city_data, map, variable, name_of_Choropleth, name_of_legend):#지리정보, 분석파일, 지도, 분석변수\n",
        "  folium.Choropleth(\n",
        "      geo_data=test,\n",
        "      name= str(name_of_Choropleth),\n",
        "      data= city_data,\n",
        "      columns=[\"시군구명\", str(variable)],\n",
        "       key_on='feature.properties.SIG_KOR_NM',\n",
        "      fill_color='YlOrRd',\n",
        "      fill_opacity=0.5,\n",
        "      line_opacity=0.3,\n",
        "    color = 'gray',\n",
        "      legend_name = str(name_of_legend)\n",
        "  ).add_to(map)\n",
        "  return map"
      ],
      "metadata": {
        "id": "qqQ1y50Xt42k"
      },
      "execution_count": null,
      "outputs": []
    },
    {
      "cell_type": "code",
      "source": [
        "from folium.plugins import MarkerCluster\n",
        "def map_marker_cluster(map):\n",
        "  marker_cluster = MarkerCluster().add_to(map)\n",
        "  return marker_cluster"
      ],
      "metadata": {
        "id": "zpgVr9CrxD4y"
      },
      "execution_count": null,
      "outputs": []
    },
    {
      "cell_type": "code",
      "source": [
        "from folium import Marker\n",
        "def make_marker(map, data):\n",
        "  for index, row in data.iterrows():\n",
        "      folium.CircleMarker(location = [row['위도'], row['경도']],\n",
        "                          radius=1,\n",
        "                          color='#50bcdf',\n",
        "                          fill_color='#50bcdf',\n",
        "                          fill_opacity= 1,\n",
        "                          tooltip = str(row[\"학교명\"])\n",
        "                          ).add_to(map)\n",
        "  return map"
      ],
      "metadata": {
        "id": "XfkGfsP_xE6y"
      },
      "execution_count": null,
      "outputs": []
    },
    {
      "cell_type": "code",
      "source": [
        "def make_marker_cluster(map, data):\n",
        "  for index, row in data.iterrows():\n",
        "      folium.CircleMarker(location = [row['위도'], row['경도']],\n",
        "                          radius=1,\n",
        "                          color='#50bcdf',\n",
        "                          fill_color='#50bcdf',\n",
        "                          fill_opacity= 1,\n",
        "                          ).add_to(map)\n",
        "  return map"
      ],
      "metadata": {
        "id": "yIBZeOimxZrT"
      },
      "execution_count": null,
      "outputs": []
    },
    {
      "cell_type": "markdown",
      "source": [
        "### **4.3.1 횡단보도 사고 건수**"
      ],
      "metadata": {
        "id": "92MTeBAquCkL"
      }
    },
    {
      "cell_type": "code",
      "source": [
        "acc_cnt_map = df_map(df_geo)"
      ],
      "metadata": {
        "id": "nA5E9gv7uJc5"
      },
      "execution_count": null,
      "outputs": []
    },
    {
      "cell_type": "code",
      "source": [
        "folium.Choropleth(\n",
        "    geo_data=test,\n",
        "    name='신고 사건 수',\n",
        "    data=df_acc_map_data,\n",
        "    columns=[\"시군구명\", \"신고건수\"],\n",
        "    key_on='feature.properties.SIG_KOR_NM',\n",
        "    fill_color='YlOrRd',\n",
        "    fill_opacity=0.5,\n",
        "    line_opacity=0.3,\n",
        "    color = 'gray',\n",
        "    legend_name = '횡단보도 발생 교통사고수'\n",
        ").add_to(acc_cnt_map)"
      ],
      "metadata": {
        "id": "V-UgNtJvuJaX"
      },
      "execution_count": null,
      "outputs": []
    },
    {
      "cell_type": "code",
      "source": [
        "acc_cnt_map"
      ],
      "metadata": {
        "id": "-vG7eND2uJXg"
      },
      "execution_count": null,
      "outputs": []
    },
    {
      "cell_type": "markdown",
      "source": [
        "### **4.3.2 사고발생건수(충남 대전 세종 전체)**"
      ],
      "metadata": {
        "id": "wxasob0IuOYm"
      }
    },
    {
      "cell_type": "code",
      "source": [
        "acc_map = df_map(sigun_geo)"
      ],
      "metadata": {
        "id": "2_CqgT6NvKxU"
      },
      "execution_count": null,
      "outputs": []
    },
    {
      "cell_type": "code",
      "source": [
        "acc_map = city_Choropleth_creator(test, loc_data_code, acc_map, \"신고건수\", \"사고발생수\", \"사고 발생수\")#지리정보, 분석파일, 지도, 분석변수"
      ],
      "metadata": {
        "id": "9QJapWnPvKu9"
      },
      "execution_count": null,
      "outputs": []
    },
    {
      "cell_type": "code",
      "source": [
        "acc_map"
      ],
      "metadata": {
        "id": "onImSqCjvO0V"
      },
      "execution_count": null,
      "outputs": []
    },
    {
      "cell_type": "markdown",
      "source": [
        "### **4.3.3 충남, 대전 세종 인구 1명당 사고 발생 건수**"
      ],
      "metadata": {
        "id": "rFRQlzA0uWR6"
      }
    },
    {
      "cell_type": "code",
      "source": [
        "loc_data_code[\"인구 대비 신고수\"] = loc_data_code[\"신고건수\"]/loc_data_code[\"총인구\"]"
      ],
      "metadata": {
        "id": "ry1c2YnCvZHG"
      },
      "execution_count": null,
      "outputs": []
    },
    {
      "cell_type": "code",
      "source": [
        "acc_per_popul = df_map(sigun_geo)"
      ],
      "metadata": {
        "id": "ciYMgGoTvZpW"
      },
      "execution_count": null,
      "outputs": []
    },
    {
      "cell_type": "code",
      "source": [
        "folium.Choropleth(\n",
        "    geo_data=test,\n",
        "    name='인구 대비 신고수',\n",
        "    data=loc_data_code,\n",
        "    columns=[\"시군구명\", \"인구 대비 신고수\"],\n",
        "    key_on='feature.properties.SIG_KOR_NM',\n",
        "    fill_color='YlOrRd',\n",
        "    fill_opacity=0.5,\n",
        "    line_opacity=0.3,\n",
        "    color = 'gray',\n",
        "    legend_name = '시민 1명당 신고수'\n",
        ").add_to(acc_per_popul)"
      ],
      "metadata": {
        "id": "dPiFjG9QvZEH"
      },
      "execution_count": null,
      "outputs": []
    },
    {
      "cell_type": "code",
      "source": [
        "acc_per_popul"
      ],
      "metadata": {
        "id": "B447a515vZAw"
      },
      "execution_count": null,
      "outputs": []
    },
    {
      "cell_type": "markdown",
      "source": [
        "### **4.3.4 충남, 대전 세종 인구 1명당 횡단보도 사고 발생 건수**"
      ],
      "metadata": {
        "id": "W85G55Dvvy_t"
      }
    },
    {
      "cell_type": "code",
      "source": [
        "cw_acc_per_popul = df_map(sigun_geo)"
      ],
      "metadata": {
        "id": "l66Wsb-lv5iM"
      },
      "execution_count": null,
      "outputs": []
    },
    {
      "cell_type": "code",
      "source": [
        "loc_data_df[\"인구 대비 횡단보도 신고수\"] = loc_data_df[\"횡단신고\"]/loc_data_code[\"총인구\"]"
      ],
      "metadata": {
        "id": "QnOV8fkVv5gi"
      },
      "execution_count": null,
      "outputs": []
    },
    {
      "cell_type": "code",
      "source": [
        "cw_acc_per_popul = df_map(sigun_geo)"
      ],
      "metadata": {
        "id": "vdQKY3Qsv5dd"
      },
      "execution_count": null,
      "outputs": []
    },
    {
      "cell_type": "code",
      "source": [
        "cw_acc_per_popul = city_Choropleth_creator(test, loc_data_df, cw_acc_per_popul, \"인구 대비 횡단보도 신고수\", \"인구 대비 횡단보도 신고수\", \"1인당 횡단보도 사고수\")"
      ],
      "metadata": {
        "id": "uOZZc02ev5a4"
      },
      "execution_count": null,
      "outputs": []
    },
    {
      "cell_type": "code",
      "source": [
        "cw_acc_per_popul"
      ],
      "metadata": {
        "id": "F59t-iVlv_DD"
      },
      "execution_count": null,
      "outputs": []
    },
    {
      "cell_type": "markdown",
      "source": [
        "### **4.3.5 아동, 청소년 한명당 횡단보도 사고**"
      ],
      "metadata": {
        "id": "MkeP1rLZuWMF"
      }
    },
    {
      "cell_type": "code",
      "source": [
        "loc_data_df[\"어린이, 청소년인구 대비 횡단보도 신고수\"] = loc_data_df[\"횡단신고\"]/(loc_data_code[\"아동수\"] + loc_data_code[\"청소년수\"])"
      ],
      "metadata": {
        "id": "zzUgo9khwKCq"
      },
      "execution_count": null,
      "outputs": []
    },
    {
      "cell_type": "code",
      "source": [
        "cw_acc_per_ch = df_map(sigun_geo)"
      ],
      "metadata": {
        "id": "IGdEnBbhveB3"
      },
      "execution_count": null,
      "outputs": []
    },
    {
      "cell_type": "code",
      "source": [
        "cw_acc_per_ch = city_Choropleth_creator(test, loc_data_df, cw_acc_per_ch, \"어린이, 청소년인구 대비 횡단보도 신고수\", \"어린이, 청소년인구 대비 횡단보도 신고수\", \"어린이, 청소년 1인당 횡단보도 사고수\")"
      ],
      "metadata": {
        "id": "hVvI2bqovd8I"
      },
      "execution_count": null,
      "outputs": []
    },
    {
      "cell_type": "code",
      "source": [
        "cw_acc_per_ch"
      ],
      "metadata": {
        "id": "MV2Ho8BWvd5K"
      },
      "execution_count": null,
      "outputs": []
    },
    {
      "cell_type": "markdown",
      "source": [
        "### **4.3.6 노인 1명당 횡단보도 사고 발생 건수**"
      ],
      "metadata": {
        "id": "th8AbmWVuV_7"
      }
    },
    {
      "cell_type": "code",
      "source": [
        "loc_data_df[\"노인 인구 대비 횡단보도 신고수\"] = loc_data_df[\"횡단신고\"]/loc_data_code[\"노년수\"]"
      ],
      "metadata": {
        "id": "c9ZT9O6-wOiU"
      },
      "execution_count": null,
      "outputs": []
    },
    {
      "cell_type": "code",
      "source": [
        "cw_acc_per_old = df_map(sigun_geo)"
      ],
      "metadata": {
        "id": "UpX-uSofwOfs"
      },
      "execution_count": null,
      "outputs": []
    },
    {
      "cell_type": "code",
      "source": [
        "cw_acc_per_old = city_Choropleth_creator(test, loc_data_df, cw_acc_per_old, \"노인 인구 대비 횡단보도 신고수\", \"노인 1명당 횡단보도 신고수\", \"노인 1인당 횡단보도 사고수\")"
      ],
      "metadata": {
        "id": "nl50D9NfwOcP"
      },
      "execution_count": null,
      "outputs": []
    },
    {
      "cell_type": "code",
      "source": [
        "cw_acc_per_old"
      ],
      "metadata": {
        "id": "tdkBC0Q9wOTY"
      },
      "execution_count": null,
      "outputs": []
    },
    {
      "cell_type": "markdown",
      "source": [
        "### **4.3.7 노인인구 비율**"
      ],
      "metadata": {
        "id": "uPlOip5quV1C"
      }
    },
    {
      "cell_type": "code",
      "source": [
        "loc_data_df[\"노인 인구 밀도\"] = loc_data_df[\"노년수\"]/loc_data_df[\"총인구\"]"
      ],
      "metadata": {
        "id": "tuPOTxr7wdAl"
      },
      "execution_count": null,
      "outputs": []
    },
    {
      "cell_type": "code",
      "source": [
        "old_per = df_map(sigun_geo)"
      ],
      "metadata": {
        "id": "zR8TR3znwc96"
      },
      "execution_count": null,
      "outputs": []
    },
    {
      "cell_type": "code",
      "source": [
        "old_per = city_Choropleth_creator(test, loc_data_df, old_per, \"노인 인구 밀도\", \"노인 인구 밀도 지도\", \"노인인구 비율\")"
      ],
      "metadata": {
        "id": "9CgFdB--wc7S"
      },
      "execution_count": null,
      "outputs": []
    },
    {
      "cell_type": "code",
      "source": [
        "old_per"
      ],
      "metadata": {
        "id": "qWaq4V6Xwc4A"
      },
      "execution_count": null,
      "outputs": []
    },
    {
      "cell_type": "markdown",
      "source": [
        "### **4.3.8 아동, 청소년 인구 비율**"
      ],
      "metadata": {
        "id": "eo0WSrguuVq2"
      }
    },
    {
      "cell_type": "code",
      "source": [
        "loc_data[\"아동, 청소년 인구 밀도\"] = (loc_data[\"아동수\"] + loc_data[\"청소년수\"])/loc_data_code[\"총인구\"]"
      ],
      "metadata": {
        "id": "PYOvQH4Bwial"
      },
      "execution_count": null,
      "outputs": []
    },
    {
      "cell_type": "code",
      "source": [
        "ch_per = df_map(sigun_geo)"
      ],
      "metadata": {
        "id": "IgWJ7ccGwiXj"
      },
      "execution_count": null,
      "outputs": []
    },
    {
      "cell_type": "code",
      "source": [
        "ch_per = city_Choropleth_creator(test, loc_data, ch_per, \"아동, 청소년 인구 밀도\", \"아동, 청소년 인구 밀도 지도\", \"아동, 청소년 인구 비율\")"
      ],
      "metadata": {
        "id": "LAFPvwJ_wiUc"
      },
      "execution_count": null,
      "outputs": []
    },
    {
      "cell_type": "code",
      "source": [
        "ch_per"
      ],
      "metadata": {
        "id": "Sedfq_xzwiQy"
      },
      "execution_count": null,
      "outputs": []
    },
    {
      "cell_type": "markdown",
      "source": [
        "### **4.3.9 장년, 노인 인구 비율**"
      ],
      "metadata": {
        "id": "_OdzDehCuVgh"
      }
    },
    {
      "cell_type": "code",
      "source": [
        "loc_data[\"장년, 노인 인구 밀도\"] = (loc_data[\"장년수\"] + loc_data[\"노년수\"])/loc_data_code[\"총인구\"]"
      ],
      "metadata": {
        "id": "9SWqxjfIwnVm"
      },
      "execution_count": null,
      "outputs": []
    },
    {
      "cell_type": "code",
      "source": [
        "sold_per = df_map(sigun_geo)"
      ],
      "metadata": {
        "id": "QvZ7RHwAwnQg"
      },
      "execution_count": null,
      "outputs": []
    },
    {
      "cell_type": "code",
      "source": [
        "sold_per  = city_Choropleth_creator(test, loc_data, sold_per , \"장년, 노인 인구 밀도\", \"장년, 노인 인구 밀도 지도\", \"장년, 노인 인구 비율\")"
      ],
      "metadata": {
        "id": "KJbRDSE1wnMh"
      },
      "execution_count": null,
      "outputs": []
    },
    {
      "cell_type": "code",
      "source": [
        "sold_per"
      ],
      "metadata": {
        "id": "tdYS0HQ7wnI_"
      },
      "execution_count": null,
      "outputs": []
    },
    {
      "cell_type": "markdown",
      "source": [
        "### **4.3.10 전체학교수**"
      ],
      "metadata": {
        "id": "dPyeNBqfuVXA"
      }
    },
    {
      "cell_type": "code",
      "source": [
        "sch_map = df_map(sigun_geo)"
      ],
      "metadata": {
        "id": "Uh_XMN4nws0S"
      },
      "execution_count": null,
      "outputs": []
    },
    {
      "cell_type": "code",
      "source": [
        "sch_map  = city_Choropleth_creator(test, loc_data, sch_map , \"학교수\", \"학교수 밀도, 위치 지도\", \"학교수\")"
      ],
      "metadata": {
        "id": "RPVrOEi7wsxp"
      },
      "execution_count": null,
      "outputs": []
    },
    {
      "cell_type": "code",
      "source": [
        "sch_map"
      ],
      "metadata": {
        "id": "j40GgNXcwstZ"
      },
      "execution_count": null,
      "outputs": []
    },
    {
      "cell_type": "markdown",
      "source": [
        "### **4.3.11 학교 마킹**"
      ],
      "metadata": {
        "id": "v2Xh5aGluVNX"
      }
    },
    {
      "cell_type": "code",
      "source": [
        "sch_marker_map = df_map(sigun_geo)"
      ],
      "metadata": {
        "id": "Zdnv740lwykG"
      },
      "execution_count": null,
      "outputs": []
    },
    {
      "cell_type": "code",
      "source": [
        "sch_marker_map  = city_Choropleth_creator(test, loc_data_df, sch_marker_map , \"학교수\", \"학교수, 위치 지도\", \"학교수\")"
      ],
      "metadata": {
        "id": "dEPRa2-cwyhs"
      },
      "execution_count": null,
      "outputs": []
    },
    {
      "cell_type": "code",
      "source": [
        "sch_marker_map"
      ],
      "metadata": {
        "id": "RounvYkswyef"
      },
      "execution_count": null,
      "outputs": []
    },
    {
      "cell_type": "code",
      "source": [
        "sch_marker_map = make_marker(sch_marker_map, sch_df_data)"
      ],
      "metadata": {
        "id": "xt0mdGU9wya_"
      },
      "execution_count": null,
      "outputs": []
    },
    {
      "cell_type": "code",
      "source": [
        "sch_marker_map"
      ],
      "metadata": {
        "id": "dp2qoiZ1wyWv"
      },
      "execution_count": null,
      "outputs": []
    },
    {
      "cell_type": "markdown",
      "source": [
        "### **4.3.12 군집 내 횡단보도 마킹**"
      ],
      "metadata": {
        "id": "UkjyNa51uVCA"
      }
    },
    {
      "cell_type": "code",
      "source": [
        "cluster_map = df_map(sigun_geo)"
      ],
      "metadata": {
        "id": "gtwbkPJexV2i"
      },
      "execution_count": null,
      "outputs": []
    },
    {
      "cell_type": "code",
      "source": [
        "cluster_map = city_Choropleth_creator(test, df_clus_num, cluster_map, \"횡단보도 수\", \"지역별 대상 횡단보도 수, 마커\", \"지역별 대상 횡단보도 수\")"
      ],
      "metadata": {
        "id": "s4ieDlSwxVvI"
      },
      "execution_count": null,
      "outputs": []
    },
    {
      "cell_type": "code",
      "source": [
        "cluster_map = make_marker_cluster(cluster_map, df_clus)"
      ],
      "metadata": {
        "id": "d24pp9S5xfn4"
      },
      "execution_count": null,
      "outputs": []
    },
    {
      "cell_type": "code",
      "source": [
        "cluster_map"
      ],
      "metadata": {
        "id": "Nk0-4lsVxkM-"
      },
      "execution_count": null,
      "outputs": []
    },
    {
      "cell_type": "markdown",
      "source": [
        "# **5. 데이터 모델링**"
      ],
      "metadata": {
        "id": "ucl1fn7dbjEJ"
      }
    },
    {
      "cell_type": "code",
      "source": [
        "import warnings\n",
        "warnings.filterwarnings('ignore')\n",
        "import numpy as np\n",
        "import pandas as pd\n",
        "import matplotlib.pyplot as plt\n",
        "import seaborn as sns\n",
        "import itertools\n",
        "import io\n",
        "from functools import reduce\n",
        "import os\n",
        "os.chdir('/content/drive/MyDrive/MR_Study_at/SSP_Data')\n",
        "\n",
        "from sklearn.ensemble import RandomForestClassifier\n",
        "from sklearn.model_selection import train_test_split\n",
        "from sklearn.metrics import accuracy_score, f1_score, precision_score, recall_score\n",
        "from sklearn.preprocessing import StandardScaler\n",
        "from sklearn.cluster import KMeans"
      ],
      "metadata": {
        "id": "McDYjYGkPYQC"
      },
      "execution_count": null,
      "outputs": []
    },
    {
      "cell_type": "code",
      "source": [
        "!sudo apt-get install -y fonts-nanum\n",
        "!sudo fc-cache -fv\n",
        "!rm ~/.cache/matplotlib -rf\n",
        "\n",
        "import matplotlib.pyplot as plt\n",
        "\n",
        "plt.rc('font', family='NanumBarunGothic') "
      ],
      "metadata": {
        "colab": {
          "base_uri": "https://localhost:8080/"
        },
        "id": "6e3OugzYPovw",
        "outputId": "d584c298-e9f7-491f-9ce6-4b33e6960a0c"
      },
      "execution_count": null,
      "outputs": [
        {
          "output_type": "stream",
          "name": "stdout",
          "text": [
            "Reading package lists... Done\n",
            "Building dependency tree       \n",
            "Reading state information... Done\n",
            "fonts-nanum is already the newest version (20180306-3).\n",
            "The following package was automatically installed and is no longer required:\n",
            "  libnvidia-common-510\n",
            "Use 'sudo apt autoremove' to remove it.\n",
            "0 upgraded, 0 newly installed, 0 to remove and 21 not upgraded.\n",
            "/usr/share/fonts: caching, new cache contents: 0 fonts, 1 dirs\n",
            "/usr/share/fonts/truetype: caching, new cache contents: 0 fonts, 3 dirs\n",
            "/usr/share/fonts/truetype/humor-sans: caching, new cache contents: 1 fonts, 0 dirs\n",
            "/usr/share/fonts/truetype/liberation: caching, new cache contents: 16 fonts, 0 dirs\n",
            "/usr/share/fonts/truetype/nanum: caching, new cache contents: 10 fonts, 0 dirs\n",
            "/usr/local/share/fonts: caching, new cache contents: 0 fonts, 0 dirs\n",
            "/root/.local/share/fonts: skipping, no such directory\n",
            "/root/.fonts: skipping, no such directory\n",
            "/usr/share/fonts/truetype: skipping, looped directory detected\n",
            "/usr/share/fonts/truetype/humor-sans: skipping, looped directory detected\n",
            "/usr/share/fonts/truetype/liberation: skipping, looped directory detected\n",
            "/usr/share/fonts/truetype/nanum: skipping, looped directory detected\n",
            "/var/cache/fontconfig: cleaning cache directory\n",
            "/root/.cache/fontconfig: not cleaning non-existent cache directory\n",
            "/root/.fontconfig: not cleaning non-existent cache directory\n",
            "fc-cache: succeeded\n"
          ]
        }
      ]
    },
    {
      "cell_type": "markdown",
      "source": [
        "## **5.1 모델링 함수 정의**"
      ],
      "metadata": {
        "id": "nxrLpZI3zbWp"
      }
    },
    {
      "cell_type": "code",
      "source": [
        "def apar_cnt_both(data):#전처리의 아파트 도로명, 지번 통합 함수와 동일\n",
        "  df = data.copy()\n",
        "  df[\"apar_count_both\"] = 0\n",
        "  df[\"apar_fam_both\"] = 0\n",
        "  df.loc[((df[\"apar_rd_fam\"]!=0)&(df[\"apar_ad_fam\"]!=0))&(df[\"apar_rd_fam\"]>=df[\"apar_ad_fam\"]), \"apar_fam_both\"] = df[\"apar_ad_fam\"]\n",
        "  df.loc[((df[\"apar_rd_fam\"]!=0)&(df[\"apar_ad_fam\"]!=0))&(df[\"apar_rd_fam\"]<df[\"apar_ad_fam\"]), \"apar_fam_both\"] = df[\"apar_ad_fam\"]\n",
        "  df.loc[(df[\"apar_rd_fam\"]==0)&(df[\"apar_ad_fam\"]!=0), \"apar_fam_both\"] = df[\"apar_ad_fam\"]\n",
        "  df.loc[(df[\"apar_rd_fam\"]!=0)&(df[\"apar_ad_fam\"]==0), \"apar_fam_both\"] = df[\"apar_rd_fam\"]\n",
        "  df.loc[((df[\"apar_rd_cnt\"]!=0)&(df[\"apar_ad_cnt\"]!=0))&(df[\"apar_rd_cnt\"]>=df[\"apar_ad_cnt\"]), \"apar_count_both\"] = df[\"apar_ad_cnt\"]\n",
        "  df.loc[((df[\"apar_rd_cnt\"]!=0)&(df[\"apar_ad_cnt\"]!=0))&(df[\"apar_rd_cnt\"]<df[\"apar_ad_cnt\"]), \"apar_count_both\"] = df[\"apar_ad_cnt\"]\n",
        "  df.loc[(df[\"apar_rd_cnt\"]==0)&(df[\"apar_ad_cnt\"]!=0), \"apar_count_both\"] = df[\"apar_ad_cnt\"]\n",
        "  df.loc[(df[\"apar_rd_cnt\"]!=0)&(df[\"apar_ad_cnt\"]==0), \"apar_count_both\"] = df[\"apar_rd_cnt\"]\n",
        "  df = df.drop(['apar_rd_cnt', 'apar_rd_fam', 'apar_ad_cnt', 'apar_ad_fam'], axis=1)\n",
        "  return df"
      ],
      "metadata": {
        "id": "nplY1b-mzFlD"
      },
      "execution_count": null,
      "outputs": []
    },
    {
      "cell_type": "code",
      "source": [
        "from sklearn.preprocessing import LabelEncoder # 라벨 인코딩 함수\n",
        "\n",
        "def label_encoding(data):\n",
        "\n",
        "  df = data.copy()\n",
        "  df_ty = df.apply(lambda x: x.dtype)\n",
        "  df_cate = df_ty[df_ty=='object'].index\n",
        "\n",
        "  for feature in df_cate:\n",
        "    le = LabelEncoder()\n",
        "    le.fit(df[feature].values)\n",
        "    df[feature] = le.transform(df[feature].values)\n",
        "\n",
        "  return df"
      ],
      "metadata": {
        "id": "YS_BkH-0zJVI"
      },
      "execution_count": null,
      "outputs": []
    },
    {
      "cell_type": "markdown",
      "source": [
        "## 5.2 **모델링**"
      ],
      "metadata": {
        "id": "P_UPH81lzhiW"
      }
    },
    {
      "cell_type": "markdown",
      "source": [
        "### **5.2.1 분류모델(위경도 포함)**"
      ],
      "metadata": {
        "id": "W5YGnKZa0BLJ"
      }
    },
    {
      "cell_type": "markdown",
      "source": [
        "#### **5.2.1.1 전처리**\n",
        "- 'df_final.csv' 파일은 제출 파일 중 '횡단보도별 주위 시설 결합.csv' 파일을 사용하면 된다. "
      ],
      "metadata": {
        "id": "kdM4tbmOKfjT"
      }
    },
    {
      "cell_type": "code",
      "source": [
        "def tra_cnt_process():\n",
        "  df_all = pd.read_csv('횡단보도_피처_count/df_final.csv') # df_fianl -> 최종 제출 파일 : '횡단보도별 주위 시설 결함.csv'\n",
        "\n",
        "  df_acc = df_all.copy()\n",
        "  df_acc['사고다발'] = 0\n",
        "  df_acc.loc[(df_acc['acc_cnt']<=9), '사고다발'] = 0\n",
        "  df_acc.loc[(df_acc['acc_cnt']>9), '사고다발'] = 1\n",
        "\n",
        "  df = df_acc.drop(df_all.columns[[3,15,16,17,18,22,23,24,25]], axis=1)\n",
        "  df = apar_cnt_both(df)\n",
        "  \n",
        "  lst = ['횡단보도연장','횡단보도폭','차로수','child_cnt']\n",
        "\n",
        "  for col in lst: \n",
        "    df[col] = np.log1p(df[col])\n",
        "  \n",
        "  df = df.astype({'횡단보도종류':'object'})\n",
        "  df = df.drop(['횡단보도관리번호', 'acc_cnt','소재지지번주소','도로명'], axis=1)\n",
        "\n",
        "  return df\n",
        "\n",
        "df = tra_cnt_process()\n",
        "df_label = label_encoding(df)"
      ],
      "metadata": {
        "id": "Gbjnp1PzzK7c"
      },
      "execution_count": null,
      "outputs": []
    },
    {
      "cell_type": "markdown",
      "source": [
        "#### **5.2.1.2 모델(랜덤포레스트) 성능**"
      ],
      "metadata": {
        "id": "Di3hG9zyKuEP"
      }
    },
    {
      "cell_type": "code",
      "source": [
        "X = df_label.drop('사고다발', axis=1)\n",
        "y = df_label[['사고다발']]\n",
        "             \n",
        "X_train, X_test, y_train, y_test = train_test_split(X, y, test_size=0.2, random_state=42)\n",
        "\n",
        "x_train = X_train.copy()\n",
        "\n",
        "std_scaler = StandardScaler()\n",
        "std_scaler.fit(X_train)\n",
        "X_train = std_scaler.transform(X_train)\n",
        "X_test = std_scaler.transform(X_test)\n",
        "\n",
        "\n",
        "rf_clf = RandomForestClassifier(random_state=42)\n",
        "rf_clf.fit(X_train, y_train)\n",
        "y_pred = rf_clf.predict(X_test)\n",
        "\n",
        "print('\\t정확도:', round(accuracy_score(y_test, y_pred),3))\n",
        "print('\\trecall:', round(recall_score(y_test, y_pred),3))\n",
        "print('\\tprecision:', round(precision_score(y_test, y_pred),3))\n",
        "print('\\tF1점수:', round(f1_score(y_test, y_pred),3))"
      ],
      "metadata": {
        "id": "6IzHrXmIzUFZ",
        "colab": {
          "base_uri": "https://localhost:8080/"
        },
        "outputId": "05729536-139d-4917-f5f2-af8c59141fa6"
      },
      "execution_count": null,
      "outputs": [
        {
          "output_type": "stream",
          "name": "stdout",
          "text": [
            "\t정확도: 0.83\n",
            "\trecall: 0.851\n",
            "\tprecision: 0.815\n",
            "\tF1점수: 0.832\n"
          ]
        }
      ]
    },
    {
      "cell_type": "markdown",
      "source": [
        "#### **5.2.1.3 하이퍼파라미터를 통해 도출된 모델의 최고 성능**"
      ],
      "metadata": {
        "id": "WNUjyqQBLc5k"
      }
    },
    {
      "cell_type": "code",
      "source": [
        "rf_clf1 = RandomForestClassifier(n_estimators = 400, \n",
        "                                max_depth = 24,\n",
        "                                min_samples_leaf = 1,\n",
        "                                min_samples_split = 3,\n",
        "                                random_state = 42,\n",
        "                                n_jobs = -1)\n",
        "rf_clf1.fit(X_train, y_train)\n",
        "y_pred = rf_clf1.predict(X_test)\n",
        "print('\\t정확도:', round(accuracy_score(y_test, y_pred),3))\n",
        "print('\\trecall:', round(recall_score(y_test, y_pred),3))\n",
        "print('\\tprecision:', round(precision_score(y_test, y_pred),3))\n",
        "print('\\tF1점수:', round(f1_score(y_test, y_pred),3))"
      ],
      "metadata": {
        "id": "Fi-vexTWLcpk",
        "colab": {
          "base_uri": "https://localhost:8080/"
        },
        "outputId": "3476cb2a-bb28-4ea6-c105-40136dda99cf"
      },
      "execution_count": null,
      "outputs": [
        {
          "output_type": "stream",
          "name": "stdout",
          "text": [
            "\t정확도: 0.838\n",
            "\trecall: 0.861\n",
            "\tprecision: 0.82\n",
            "\tF1점수: 0.84\n"
          ]
        }
      ]
    },
    {
      "cell_type": "markdown",
      "source": [
        "### **5.2.2 분류모델(위경도 포함)을 통해 도출된 피처 중요도**"
      ],
      "metadata": {
        "id": "ZzrMWLGYLnKN"
      }
    },
    {
      "cell_type": "code",
      "source": [
        "plt.rc('font', family='NanumBarunGothic') \n",
        "\n",
        "import matplotlib.pyplot as plt\n",
        "import seaborn as sns\n",
        "%matplotlib inline\n",
        "\n",
        "ftr_importances_values = rf_clf.feature_importances_\n",
        "ftr_importances = pd.Series(ftr_importances_values, index=x_train.columns)\n",
        "ftr_top20 = ftr_importances.sort_values(ascending=False)[:30]\n",
        "\n",
        "plt.figure(figsize=(10, 8))\n",
        "plt.title('Feature importances Top')\n",
        "sns.barplot(x=ftr_top20, y=ftr_top20.index)\n",
        "plt.show()"
      ],
      "metadata": {
        "id": "8as20RRmL10v",
        "colab": {
          "base_uri": "https://localhost:8080/",
          "height": 498
        },
        "outputId": "325adc1b-1634-48ca-90b1-91198de98f9f"
      },
      "execution_count": null,
      "outputs": [
        {
          "output_type": "display_data",
          "data": {
            "text/plain": [
              "<Figure size 720x576 with 1 Axes>"
            ],
            "image/png": "[encoded data removed]"
          },
          "metadata": {
            "needs_background": "light"
          }
        }
      ]
    },
    {
      "cell_type": "markdown",
      "source": [
        "### **5.2.3 분류모델(위경도 제외)**"
      ],
      "metadata": {
        "id": "Phl0jXvo0HcF"
      }
    },
    {
      "cell_type": "markdown",
      "source": [
        "#### **5.2.3.1 전처리**"
      ],
      "metadata": {
        "id": "vK1RDJzMMLAR"
      }
    },
    {
      "cell_type": "code",
      "source": [
        "def tra_cnt_process():\n",
        "  df_all = pd.read_csv('횡단보도_피처_count/df_final.csv') # df_fianl -> 최종 제출 파일 : '횡단보도별 주위 시설 결함.csv'\n",
        "\n",
        "  df_acc = df_all.copy()\n",
        "  df_acc['사고다발'] = 0\n",
        "  df_acc.loc[(df_acc['acc_cnt']<=9), '사고다발'] = 0\n",
        "  df_acc.loc[(df_acc['acc_cnt']>9), '사고다발'] = 1\n",
        "\n",
        "  df = df_acc.drop(df_all.columns[[3,15,16,17,18,22,23,24,25]], axis=1)\n",
        "  df = apar_cnt_both(df)\n",
        "  \n",
        "  lst = ['횡단보도연장','횡단보도폭','차로수']\n",
        "\n",
        "  for col in lst: \n",
        "    df[col] = np.log1p(df[col])\n",
        "  \n",
        "  df = df.astype({'횡단보도종류':'object'})\n",
        "  df = df.drop(['횡단보도관리번호', 'acc_cnt','소재지지번주소','도로명','위도','경도'], axis=1)\n",
        "\n",
        "  return df"
      ],
      "metadata": {
        "id": "kgymgzRK0Q1U"
      },
      "execution_count": null,
      "outputs": []
    },
    {
      "cell_type": "markdown",
      "source": [
        "#### **5.2.3.2 모델(랜덤포레스트) 성능**"
      ],
      "metadata": {
        "id": "mCIrqG7fMQyD"
      }
    },
    {
      "cell_type": "code",
      "source": [
        "df = tra_cnt_process()\n",
        "df_label = label_encoding(df)\n",
        "\n",
        "X = df_label.drop('사고다발', axis=1)\n",
        "y = df_label[['사고다발']]\n",
        "\n",
        "X_train, X_test, y_train, y_test = train_test_split(X, y, test_size=0.2, random_state=42)\n",
        "\n",
        "x_train = X_train.copy()\n",
        "\n",
        "std_scaler = StandardScaler()\n",
        "std_scaler.fit(X_train)\n",
        "X_train = std_scaler.transform(X_train)\n",
        "X_test = std_scaler.transform(X_test)\n",
        "\n",
        "\n",
        "rf_clf = RandomForestClassifier(random_state=42)\n",
        "rf_clf.fit(X_train, y_train)\n",
        "y_pred = rf_clf.predict(X_test)\n",
        "\n",
        "print('\\t정확도:', accuracy_score(y_test, y_pred))\n",
        "print('\\trecall:', recall_score(y_test, y_pred))\n",
        "print('\\tprecision:', precision_score(y_test, y_pred))\n",
        "print('\\tF1점수:', f1_score(y_test, y_pred))"
      ],
      "metadata": {
        "id": "JNkvumOgMhMy",
        "colab": {
          "base_uri": "https://localhost:8080/"
        },
        "outputId": "ca550ecf-34f2-4597-80b2-807fb4841998"
      },
      "execution_count": null,
      "outputs": [
        {
          "output_type": "stream",
          "name": "stdout",
          "text": [
            "\t정확도: 0.8091158327621659\n",
            "\trecall: 0.8290657439446367\n",
            "\tprecision: 0.7944297082228117\n",
            "\tF1점수: 0.8113782593972231\n"
          ]
        }
      ]
    },
    {
      "cell_type": "markdown",
      "source": [
        "#### **5.2.3.3 하이퍼파라미터를 통해 도출된 모델의 최고 성능**"
      ],
      "metadata": {
        "id": "-KXhX5lbMRSc"
      }
    },
    {
      "cell_type": "code",
      "source": [
        "rf_clf1 = RandomForestClassifier(n_estimators = 400, \n",
        "                                max_depth = 24,\n",
        "                                min_samples_leaf = 1,\n",
        "                                min_samples_split = 3,\n",
        "                                random_state = 42,\n",
        "                                n_jobs = -1)\n",
        "rf_clf1.fit(X_train, y_train)\n",
        "y_pred = rf_clf1.predict(X_test)\n",
        "print('\\t정확도:', accuracy_score(y_test, y_pred))\n",
        "print('\\trecall:', recall_score(y_test, y_pred))\n",
        "print('\\tprecision:', precision_score(y_test, y_pred))\n",
        "print('\\tF1점수:', f1_score(y_test, y_pred))"
      ],
      "metadata": {
        "id": "bLdRIpvOMlhO",
        "colab": {
          "base_uri": "https://localhost:8080/"
        },
        "outputId": "d91e7d8a-6e14-461e-881f-9c5d074343e5"
      },
      "execution_count": null,
      "outputs": [
        {
          "output_type": "stream",
          "name": "stdout",
          "text": [
            "\t정확도: 0.8122001370801919\n",
            "\trecall: 0.8359861591695502\n",
            "\tprecision: 0.7952600394996708\n",
            "\tF1점수: 0.815114709851552\n"
          ]
        }
      ]
    },
    {
      "cell_type": "markdown",
      "source": [
        "### **5.2.4 분류모델(위경도 제외)을 통해 도출된 피처 중요도**"
      ],
      "metadata": {
        "id": "DaDDWmaeMXxq"
      }
    },
    {
      "cell_type": "code",
      "source": [
        "plt.rc('font', family='NanumBarunGothic') \n",
        "\n",
        "import matplotlib.pyplot as plt\n",
        "import seaborn as sns\n",
        "%matplotlib inline\n",
        "\n",
        "ftr_importances_values = rf_clf1.feature_importances_\n",
        "ftr_importances = pd.Series(ftr_importances_values, index=x_train.columns)\n",
        "ftr_top20 = ftr_importances.sort_values(ascending=False)[:30]\n",
        "\n",
        "plt.figure(figsize=(8, 6))\n",
        "plt.title('Feature importances Top 20')\n",
        "sns.barplot(x=ftr_top20, y=ftr_top20.index)\n",
        "plt.show()"
      ],
      "metadata": {
        "id": "E2EITyOhMmXI",
        "colab": {
          "base_uri": "https://localhost:8080/",
          "height": 389
        },
        "outputId": "91598282-baea-4bcd-9792-af9bd6af1bef"
      },
      "execution_count": null,
      "outputs": [
        {
          "output_type": "display_data",
          "data": {
            "text/plain": [
              "<Figure size 576x432 with 1 Axes>"
            ],
            "image/png": "[encoded data removed]"
          },
          "metadata": {
            "needs_background": "light"
          }
        }
      ]
    },
    {
      "cell_type": "markdown",
      "source": [
        "# **6. 데이터 군집화**"
      ],
      "metadata": {
        "id": "RTai2itlbmU7"
      }
    },
    {
      "cell_type": "markdown",
      "source": [
        "## **6.1 함수정의 및 데이터 전처리** "
      ],
      "metadata": {
        "id": "GykNd3na2rRt"
      }
    },
    {
      "cell_type": "code",
      "source": [
        "def elbow(x):#최적 군집개수 시각화 함수\n",
        "  sse = []\n",
        "  for i in range(1, 11):\n",
        "    km = KMeans(n_clusters=i, init='k-means++', random_state=0)\n",
        "    km.fit(x)\n",
        "    sse.append(km.inertia_)\n",
        "  \n",
        "  plt.plot(range(1,11), sse, marker='o')\n",
        "  plt.xlabel('클러스터수')\n",
        "  plt.ylabel('sse')\n",
        "  plt.show()"
      ],
      "metadata": {
        "id": "3Ooz0qX7borf"
      },
      "execution_count": null,
      "outputs": []
    },
    {
      "cell_type": "code",
      "source": [
        "df_final = pd.read_csv('횡단보도_피처_count/df_final.csv') # df_fianl -> 최종 제출 파일 : '횡단보도별 주위 시설 결함.csv'\n",
        "df_final = apar_cnt_both(df_final)\n",
        "\n",
        "def cluster_preprocessing(data):\n",
        "  df = data.copy()\n",
        "  df = df[['acc_cnt','sch_cnt','child_cnt','old_cnt','횡단보도폭','횡단보도연장','차로수','apar_fam_both','cctv_cnt','bus_cnt']]\n",
        "  standard_scaler = StandardScaler()\n",
        "  mall_scaled_df = pd.DataFrame(standard_scaler.fit_transform(df), columns=df.columns) # scaled된 데이터\n",
        "\n",
        "  return mall_scaled_df\n",
        "\n",
        "from sklearn.preprocessing import StandardScaler, RobustScaler, MinMaxScaler\n",
        "\n",
        "def clustering(data, num):\n",
        "  df = data.copy()\n",
        "  df_region = df[['시도명','시군구명','도로명','소재지지번주소','횡단보도관리번호','위도','경도']]\n",
        "  df = df[['acc_cnt','sch_cnt','child_cnt','old_cnt','apar_fam_both','cctv_cnt','bus_cnt','횡단보도폭','횡단보도연장','차로수']]\n",
        "\n",
        "  df = df.rename(columns={'acc_cnt':'신고수','sch_cnt':'학교수','child_cnt':'어린이시설수','old_cnt':'노인시설수','apar_fam_both':'아파트세대수','cctv_cnt':'cctv수','bus_cnt':'버스정류장수'})\n",
        " \n",
        "  standard_scaler = StandardScaler()\n",
        "  mall_scaled_df = pd.DataFrame(standard_scaler.fit_transform(df), columns=df.columns) # scaled된 데이터\n",
        "\n",
        "  model = KMeans(n_clusters=num,algorithm='auto', random_state=42)\n",
        "  model.fit(mall_scaled_df)\n",
        "  predict = pd.DataFrame(model.predict(mall_scaled_df))\n",
        "  predict.columns=['predict']\n",
        "\n",
        "  df_region = df_region.reset_index(drop=True)\n",
        "  df = df.reset_index(drop=True)\n",
        "  predict = predict.reset_index(drop=True)\n",
        "\n",
        "  r = pd.concat([df_region, df, predict], axis=1)\n",
        "  return r"
      ],
      "metadata": {
        "id": "Pwyxmfru2wGE"
      },
      "execution_count": null,
      "outputs": []
    },
    {
      "cell_type": "markdown",
      "source": [
        "## **6.2 최적 군집개수 시각화**"
      ],
      "metadata": {
        "id": "Cr-guOSh20ld"
      }
    },
    {
      "cell_type": "code",
      "source": [
        "df = cluster_preprocessing(df_final)\n",
        "elbow(df)"
      ],
      "metadata": {
        "id": "Qmdw4d2i24OM",
        "colab": {
          "base_uri": "https://localhost:8080/",
          "height": 279
        },
        "outputId": "cb4398f5-943c-4f42-82f0-aece316314dc"
      },
      "execution_count": null,
      "outputs": [
        {
          "output_type": "display_data",
          "data": {
            "text/plain": [
              "<Figure size 432x288 with 1 Axes>"
            ],
            "image/png": "[encoded data removed]"
          },
          "metadata": {
            "needs_background": "light"
          }
        }
      ]
    },
    {
      "cell_type": "markdown",
      "source": [
        "## **6.3 군집화를 통해 도출된 군집별 특성**"
      ],
      "metadata": {
        "id": "8SwqDSpl3CAZ"
      }
    },
    {
      "cell_type": "code",
      "source": [
        "df = clustering(df_final, 3)\n",
        "round(df.groupby(df['predict']).mean(),2)"
      ],
      "metadata": {
        "id": "yJNa_aIs3FUT",
        "colab": {
          "base_uri": "https://localhost:8080/",
          "height": 175
        },
        "outputId": "201d2b69-eaa7-4e47-b706-fa004560c66a"
      },
      "execution_count": null,
      "outputs": [
        {
          "output_type": "execute_result",
          "data": {
            "text/plain": [
              "            위도      경도    신고수   학교수  어린이시설수  노인시설수   아파트세대수  cctv수  버스정류장수  \\\n",
              "predict                                                                      \n",
              "0        36.49  127.30  49.04  5.46    5.08   0.95  5569.82   0.35    1.97   \n",
              "1        36.51  127.18   8.36  2.46    2.30   0.61  1746.57   0.08    0.84   \n",
              "2        36.44  127.33  22.89  7.82    7.70   1.62  5807.56   0.37    1.59   \n",
              "\n",
              "         횡단보도폭  횡단보도연장   차로수  \n",
              "predict                       \n",
              "0         8.72   17.82  5.80  \n",
              "1         4.85    8.72  2.11  \n",
              "2         5.02    8.22  2.06  "
            ],
            "text/html": [
              "\n",
              "  <div id=\"df-cb457a2c-a4d0-4026-be2e-abc17f2ab88d\">\n",
              "    <div class=\"colab-df-container\">\n",
              "      <div>\n",
              "<style scoped>\n",
              "    .dataframe tbody tr th:only-of-type {\n",
              "        vertical-align: middle;\n",
              "    }\n",
              "\n",
              "    .dataframe tbody tr th {\n",
              "        vertical-align: top;\n",
              "    }\n",
              "\n",
              "    .dataframe thead th {\n",
              "        text-align: right;\n",
              "    }\n",
              "</style>\n",
              "<table border=\"1\" class=\"dataframe\">\n",
              "  <thead>\n",
              "    <tr style=\"text-align: right;\">\n",
              "      <th></th>\n",
              "      <th>위도</th>\n",
              "      <th>경도</th>\n",
              "      <th>신고수</th>\n",
              "      <th>학교수</th>\n",
              "      <th>어린이시설수</th>\n",
              "      <th>노인시설수</th>\n",
              "      <th>아파트세대수</th>\n",
              "      <th>cctv수</th>\n",
              "      <th>버스정류장수</th>\n",
              "      <th>횡단보도폭</th>\n",
              "      <th>횡단보도연장</th>\n",
              "      <th>차로수</th>\n",
              "    </tr>\n",
              "    <tr>\n",
              "      <th>predict</th>\n",
              "      <th></th>\n",
              "      <th></th>\n",
              "      <th></th>\n",
              "      <th></th>\n",
              "      <th></th>\n",
              "      <th></th>\n",
              "      <th></th>\n",
              "      <th></th>\n",
              "      <th></th>\n",
              "      <th></th>\n",
              "      <th></th>\n",
              "      <th></th>\n",
              "    </tr>\n",
              "  </thead>\n",
              "  <tbody>\n",
              "    <tr>\n",
              "      <th>0</th>\n",
              "      <td>36.49</td>\n",
              "      <td>127.30</td>\n",
              "      <td>49.04</td>\n",
              "      <td>5.46</td>\n",
              "      <td>5.08</td>\n",
              "      <td>0.95</td>\n",
              "      <td>5569.82</td>\n",
              "      <td>0.35</td>\n",
              "      <td>1.97</td>\n",
              "      <td>8.72</td>\n",
              "      <td>17.82</td>\n",
              "      <td>5.80</td>\n",
              "    </tr>\n",
              "    <tr>\n",
              "      <th>1</th>\n",
              "      <td>36.51</td>\n",
              "      <td>127.18</td>\n",
              "      <td>8.36</td>\n",
              "      <td>2.46</td>\n",
              "      <td>2.30</td>\n",
              "      <td>0.61</td>\n",
              "      <td>1746.57</td>\n",
              "      <td>0.08</td>\n",
              "      <td>0.84</td>\n",
              "      <td>4.85</td>\n",
              "      <td>8.72</td>\n",
              "      <td>2.11</td>\n",
              "    </tr>\n",
              "    <tr>\n",
              "      <th>2</th>\n",
              "      <td>36.44</td>\n",
              "      <td>127.33</td>\n",
              "      <td>22.89</td>\n",
              "      <td>7.82</td>\n",
              "      <td>7.70</td>\n",
              "      <td>1.62</td>\n",
              "      <td>5807.56</td>\n",
              "      <td>0.37</td>\n",
              "      <td>1.59</td>\n",
              "      <td>5.02</td>\n",
              "      <td>8.22</td>\n",
              "      <td>2.06</td>\n",
              "    </tr>\n",
              "  </tbody>\n",
              "</table>\n",
              "</div>\n",
              "      <button class=\"colab-df-convert\" onclick=\"convertToInteractive('df-cb457a2c-a4d0-4026-be2e-abc17f2ab88d')\"\n",
              "              title=\"Convert this dataframe to an interactive table.\"\n",
              "              style=\"display:none;\">\n",
              "        \n",
              "  <svg xmlns=\"http://www.w3.org/2000/svg\" height=\"24px\"viewBox=\"0 0 24 24\"\n",
              "       width=\"24px\">\n",
              "    <path d=\"M0 0h24v24H0V0z\" fill=\"none\"/>\n",
              "    <path d=\"M18.56 5.44l.94 2.06.94-2.06 2.06-.94-2.06-.94-.94-2.06-.94 2.06-2.06.94zm-11 1L8.5 8.5l.94-2.06 2.06-.94-2.06-.94L8.5 2.5l-.94 2.06-2.06.94zm10 10l.94 2.06.94-2.06 2.06-.94-2.06-.94-.94-2.06-.94 2.06-2.06.94z\"/><path d=\"M17.41 7.96l-1.37-1.37c-.4-.4-.92-.59-1.43-.59-.52 0-1.04.2-1.43.59L10.3 9.45l-7.72 7.72c-.78.78-.78 2.05 0 2.83L4 21.41c.39.39.9.59 1.41.59.51 0 1.02-.2 1.41-.59l7.78-7.78 2.81-2.81c.8-.78.8-2.07 0-2.86zM5.41 20L4 18.59l7.72-7.72 1.47 1.35L5.41 20z\"/>\n",
              "  </svg>\n",
              "      </button>\n",
              "      \n",
              "  <style>\n",
              "    .colab-df-container {\n",
              "      display:flex;\n",
              "      flex-wrap:wrap;\n",
              "      gap: 12px;\n",
              "    }\n",
              "\n",
              "    .colab-df-convert {\n",
              "      background-color: #E8F0FE;\n",
              "      border: none;\n",
              "      border-radius: 50%;\n",
              "      cursor: pointer;\n",
              "      display: none;\n",
              "      fill: #1967D2;\n",
              "      height: 32px;\n",
              "      padding: 0 0 0 0;\n",
              "      width: 32px;\n",
              "    }\n",
              "\n",
              "    .colab-df-convert:hover {\n",
              "      background-color: #E2EBFA;\n",
              "      box-shadow: 0px 1px 2px rgba(60, 64, 67, 0.3), 0px 1px 3px 1px rgba(60, 64, 67, 0.15);\n",
              "      fill: #174EA6;\n",
              "    }\n",
              "\n",
              "    [theme=dark] .colab-df-convert {\n",
              "      background-color: #3B4455;\n",
              "      fill: #D2E3FC;\n",
              "    }\n",
              "\n",
              "    [theme=dark] .colab-df-convert:hover {\n",
              "      background-color: #434B5C;\n",
              "      box-shadow: 0px 1px 3px 1px rgba(0, 0, 0, 0.15);\n",
              "      filter: drop-shadow(0px 1px 2px rgba(0, 0, 0, 0.3));\n",
              "      fill: #FFFFFF;\n",
              "    }\n",
              "  </style>\n",
              "\n",
              "      <script>\n",
              "        const buttonEl =\n",
              "          document.querySelector('#df-cb457a2c-a4d0-4026-be2e-abc17f2ab88d button.colab-df-convert');\n",
              "        buttonEl.style.display =\n",
              "          google.colab.kernel.accessAllowed ? 'block' : 'none';\n",
              "\n",
              "        async function convertToInteractive(key) {\n",
              "          const element = document.querySelector('#df-cb457a2c-a4d0-4026-be2e-abc17f2ab88d');\n",
              "          const dataTable =\n",
              "            await google.colab.kernel.invokeFunction('convertToInteractive',\n",
              "                                                     [key], {});\n",
              "          if (!dataTable) return;\n",
              "\n",
              "          const docLinkHtml = 'Like what you see? Visit the ' +\n",
              "            '<a target=\"_blank\" href=https://colab.research.google.com/notebooks/data_table.ipynb>data table notebook</a>'\n",
              "            + ' to learn more about interactive tables.';\n",
              "          element.innerHTML = '';\n",
              "          dataTable['output_type'] = 'display_data';\n",
              "          await google.colab.output.renderOutput(dataTable, element);\n",
              "          const docLink = document.createElement('div');\n",
              "          docLink.innerHTML = docLinkHtml;\n",
              "          element.appendChild(docLink);\n",
              "        }\n",
              "      </script>\n",
              "    </div>\n",
              "  </div>\n",
              "  "
            ]
          },
          "metadata": {},
          "execution_count": 17
        }
      ]
    },
    {
      "cell_type": "code",
      "source": [
        "df = clustering(df_final, 8)\n",
        "round(df.groupby(df['predict']).mean(),2)"
      ],
      "metadata": {
        "id": "SYrY7IFr3ItL",
        "colab": {
          "base_uri": "https://localhost:8080/",
          "height": 331
        },
        "outputId": "4ef6422e-ca80-4f45-fbdc-49ccc0fd5573"
      },
      "execution_count": null,
      "outputs": [
        {
          "output_type": "execute_result",
          "data": {
            "text/plain": [
              "            위도      경도     신고수   학교수  어린이시설수  노인시설수    아파트세대수  cctv수  버스정류장수  \\\n",
              "predict                                                                        \n",
              "0        36.75  127.17   38.89  6.19    5.69   0.40   2656.46   0.36    1.88   \n",
              "1        36.50  127.16    6.36  1.71    1.46   0.63   1530.48   0.01    0.68   \n",
              "2        36.46  127.31  163.13  6.69    7.23   1.50   4996.39   0.51    2.34   \n",
              "3        36.50  127.30   16.58  6.52    6.36   0.64   2925.06   0.00    1.49   \n",
              "4        36.53  127.26   20.17  5.64    4.87   0.82   2931.47   1.26    1.50   \n",
              "5        36.35  127.37   23.88  8.12    4.17   0.07  19066.23   0.17    1.59   \n",
              "6        36.34  127.37   20.33  8.43   11.62   4.51   3508.74   0.24    1.53   \n",
              "7        36.47  127.29   22.22  3.70    3.88   0.91   3293.68   0.15    1.66   \n",
              "\n",
              "         횡단보도폭  횡단보도연장   차로수  \n",
              "predict                       \n",
              "0        17.70    6.87  4.77  \n",
              "1         4.70    8.47  2.00  \n",
              "2         6.73   14.98  4.56  \n",
              "3         4.96    7.66  2.06  \n",
              "4         5.17    8.62  2.36  \n",
              "5         5.27   10.42  2.93  \n",
              "6         5.15   10.20  2.33  \n",
              "7         6.94   21.17  5.85  "
            ],
            "text/html": [
              "\n",
              "  <div id=\"df-3b94723f-e156-48e3-9c8c-3a4586d819b2\">\n",
              "    <div class=\"colab-df-container\">\n",
              "      <div>\n",
              "<style scoped>\n",
              "    .dataframe tbody tr th:only-of-type {\n",
              "        vertical-align: middle;\n",
              "    }\n",
              "\n",
              "    .dataframe tbody tr th {\n",
              "        vertical-align: top;\n",
              "    }\n",
              "\n",
              "    .dataframe thead th {\n",
              "        text-align: right;\n",
              "    }\n",
              "</style>\n",
              "<table border=\"1\" class=\"dataframe\">\n",
              "  <thead>\n",
              "    <tr style=\"text-align: right;\">\n",
              "      <th></th>\n",
              "      <th>위도</th>\n",
              "      <th>경도</th>\n",
              "      <th>신고수</th>\n",
              "      <th>학교수</th>\n",
              "      <th>어린이시설수</th>\n",
              "      <th>노인시설수</th>\n",
              "      <th>아파트세대수</th>\n",
              "      <th>cctv수</th>\n",
              "      <th>버스정류장수</th>\n",
              "      <th>횡단보도폭</th>\n",
              "      <th>횡단보도연장</th>\n",
              "      <th>차로수</th>\n",
              "    </tr>\n",
              "    <tr>\n",
              "      <th>predict</th>\n",
              "      <th></th>\n",
              "      <th></th>\n",
              "      <th></th>\n",
              "      <th></th>\n",
              "      <th></th>\n",
              "      <th></th>\n",
              "      <th></th>\n",
              "      <th></th>\n",
              "      <th></th>\n",
              "      <th></th>\n",
              "      <th></th>\n",
              "      <th></th>\n",
              "    </tr>\n",
              "  </thead>\n",
              "  <tbody>\n",
              "    <tr>\n",
              "      <th>0</th>\n",
              "      <td>36.75</td>\n",
              "      <td>127.17</td>\n",
              "      <td>38.89</td>\n",
              "      <td>6.19</td>\n",
              "      <td>5.69</td>\n",
              "      <td>0.40</td>\n",
              "      <td>2656.46</td>\n",
              "      <td>0.36</td>\n",
              "      <td>1.88</td>\n",
              "      <td>17.70</td>\n",
              "      <td>6.87</td>\n",
              "      <td>4.77</td>\n",
              "    </tr>\n",
              "    <tr>\n",
              "      <th>1</th>\n",
              "      <td>36.50</td>\n",
              "      <td>127.16</td>\n",
              "      <td>6.36</td>\n",
              "      <td>1.71</td>\n",
              "      <td>1.46</td>\n",
              "      <td>0.63</td>\n",
              "      <td>1530.48</td>\n",
              "      <td>0.01</td>\n",
              "      <td>0.68</td>\n",
              "      <td>4.70</td>\n",
              "      <td>8.47</td>\n",
              "      <td>2.00</td>\n",
              "    </tr>\n",
              "    <tr>\n",
              "      <th>2</th>\n",
              "      <td>36.46</td>\n",
              "      <td>127.31</td>\n",
              "      <td>163.13</td>\n",
              "      <td>6.69</td>\n",
              "      <td>7.23</td>\n",
              "      <td>1.50</td>\n",
              "      <td>4996.39</td>\n",
              "      <td>0.51</td>\n",
              "      <td>2.34</td>\n",
              "      <td>6.73</td>\n",
              "      <td>14.98</td>\n",
              "      <td>4.56</td>\n",
              "    </tr>\n",
              "    <tr>\n",
              "      <th>3</th>\n",
              "      <td>36.50</td>\n",
              "      <td>127.30</td>\n",
              "      <td>16.58</td>\n",
              "      <td>6.52</td>\n",
              "      <td>6.36</td>\n",
              "      <td>0.64</td>\n",
              "      <td>2925.06</td>\n",
              "      <td>0.00</td>\n",
              "      <td>1.49</td>\n",
              "      <td>4.96</td>\n",
              "      <td>7.66</td>\n",
              "      <td>2.06</td>\n",
              "    </tr>\n",
              "    <tr>\n",
              "      <th>4</th>\n",
              "      <td>36.53</td>\n",
              "      <td>127.26</td>\n",
              "      <td>20.17</td>\n",
              "      <td>5.64</td>\n",
              "      <td>4.87</td>\n",
              "      <td>0.82</td>\n",
              "      <td>2931.47</td>\n",
              "      <td>1.26</td>\n",
              "      <td>1.50</td>\n",
              "      <td>5.17</td>\n",
              "      <td>8.62</td>\n",
              "      <td>2.36</td>\n",
              "    </tr>\n",
              "    <tr>\n",
              "      <th>5</th>\n",
              "      <td>36.35</td>\n",
              "      <td>127.37</td>\n",
              "      <td>23.88</td>\n",
              "      <td>8.12</td>\n",
              "      <td>4.17</td>\n",
              "      <td>0.07</td>\n",
              "      <td>19066.23</td>\n",
              "      <td>0.17</td>\n",
              "      <td>1.59</td>\n",
              "      <td>5.27</td>\n",
              "      <td>10.42</td>\n",
              "      <td>2.93</td>\n",
              "    </tr>\n",
              "    <tr>\n",
              "      <th>6</th>\n",
              "      <td>36.34</td>\n",
              "      <td>127.37</td>\n",
              "      <td>20.33</td>\n",
              "      <td>8.43</td>\n",
              "      <td>11.62</td>\n",
              "      <td>4.51</td>\n",
              "      <td>3508.74</td>\n",
              "      <td>0.24</td>\n",
              "      <td>1.53</td>\n",
              "      <td>5.15</td>\n",
              "      <td>10.20</td>\n",
              "      <td>2.33</td>\n",
              "    </tr>\n",
              "    <tr>\n",
              "      <th>7</th>\n",
              "      <td>36.47</td>\n",
              "      <td>127.29</td>\n",
              "      <td>22.22</td>\n",
              "      <td>3.70</td>\n",
              "      <td>3.88</td>\n",
              "      <td>0.91</td>\n",
              "      <td>3293.68</td>\n",
              "      <td>0.15</td>\n",
              "      <td>1.66</td>\n",
              "      <td>6.94</td>\n",
              "      <td>21.17</td>\n",
              "      <td>5.85</td>\n",
              "    </tr>\n",
              "  </tbody>\n",
              "</table>\n",
              "</div>\n",
              "      <button class=\"colab-df-convert\" onclick=\"convertToInteractive('df-3b94723f-e156-48e3-9c8c-3a4586d819b2')\"\n",
              "              title=\"Convert this dataframe to an interactive table.\"\n",
              "              style=\"display:none;\">\n",
              "        \n",
              "  <svg xmlns=\"http://www.w3.org/2000/svg\" height=\"24px\"viewBox=\"0 0 24 24\"\n",
              "       width=\"24px\">\n",
              "    <path d=\"M0 0h24v24H0V0z\" fill=\"none\"/>\n",
              "    <path d=\"M18.56 5.44l.94 2.06.94-2.06 2.06-.94-2.06-.94-.94-2.06-.94 2.06-2.06.94zm-11 1L8.5 8.5l.94-2.06 2.06-.94-2.06-.94L8.5 2.5l-.94 2.06-2.06.94zm10 10l.94 2.06.94-2.06 2.06-.94-2.06-.94-.94-2.06-.94 2.06-2.06.94z\"/><path d=\"M17.41 7.96l-1.37-1.37c-.4-.4-.92-.59-1.43-.59-.52 0-1.04.2-1.43.59L10.3 9.45l-7.72 7.72c-.78.78-.78 2.05 0 2.83L4 21.41c.39.39.9.59 1.41.59.51 0 1.02-.2 1.41-.59l7.78-7.78 2.81-2.81c.8-.78.8-2.07 0-2.86zM5.41 20L4 18.59l7.72-7.72 1.47 1.35L5.41 20z\"/>\n",
              "  </svg>\n",
              "      </button>\n",
              "      \n",
              "  <style>\n",
              "    .colab-df-container {\n",
              "      display:flex;\n",
              "      flex-wrap:wrap;\n",
              "      gap: 12px;\n",
              "    }\n",
              "\n",
              "    .colab-df-convert {\n",
              "      background-color: #E8F0FE;\n",
              "      border: none;\n",
              "      border-radius: 50%;\n",
              "      cursor: pointer;\n",
              "      display: none;\n",
              "      fill: #1967D2;\n",
              "      height: 32px;\n",
              "      padding: 0 0 0 0;\n",
              "      width: 32px;\n",
              "    }\n",
              "\n",
              "    .colab-df-convert:hover {\n",
              "      background-color: #E2EBFA;\n",
              "      box-shadow: 0px 1px 2px rgba(60, 64, 67, 0.3), 0px 1px 3px 1px rgba(60, 64, 67, 0.15);\n",
              "      fill: #174EA6;\n",
              "    }\n",
              "\n",
              "    [theme=dark] .colab-df-convert {\n",
              "      background-color: #3B4455;\n",
              "      fill: #D2E3FC;\n",
              "    }\n",
              "\n",
              "    [theme=dark] .colab-df-convert:hover {\n",
              "      background-color: #434B5C;\n",
              "      box-shadow: 0px 1px 3px 1px rgba(0, 0, 0, 0.15);\n",
              "      filter: drop-shadow(0px 1px 2px rgba(0, 0, 0, 0.3));\n",
              "      fill: #FFFFFF;\n",
              "    }\n",
              "  </style>\n",
              "\n",
              "      <script>\n",
              "        const buttonEl =\n",
              "          document.querySelector('#df-3b94723f-e156-48e3-9c8c-3a4586d819b2 button.colab-df-convert');\n",
              "        buttonEl.style.display =\n",
              "          google.colab.kernel.accessAllowed ? 'block' : 'none';\n",
              "\n",
              "        async function convertToInteractive(key) {\n",
              "          const element = document.querySelector('#df-3b94723f-e156-48e3-9c8c-3a4586d819b2');\n",
              "          const dataTable =\n",
              "            await google.colab.kernel.invokeFunction('convertToInteractive',\n",
              "                                                     [key], {});\n",
              "          if (!dataTable) return;\n",
              "\n",
              "          const docLinkHtml = 'Like what you see? Visit the ' +\n",
              "            '<a target=\"_blank\" href=https://colab.research.google.com/notebooks/data_table.ipynb>data table notebook</a>'\n",
              "            + ' to learn more about interactive tables.';\n",
              "          element.innerHTML = '';\n",
              "          dataTable['output_type'] = 'display_data';\n",
              "          await google.colab.output.renderOutput(dataTable, element);\n",
              "          const docLink = document.createElement('div');\n",
              "          docLink.innerHTML = docLinkHtml;\n",
              "          element.appendChild(docLink);\n",
              "        }\n",
              "      </script>\n",
              "    </div>\n",
              "  </div>\n",
              "  "
            ]
          },
          "metadata": {},
          "execution_count": 18
        }
      ]
    },
    {
      "cell_type": "code",
      "source": [
        "round(df.groupby(df['predict']).median(),2)"
      ],
      "metadata": {
        "id": "omyZ4UF_3J7_",
        "colab": {
          "base_uri": "https://localhost:8080/",
          "height": 331
        },
        "outputId": "e77e43b2-c631-48c4-df67-e4d9219263e2"
      },
      "execution_count": null,
      "outputs": [
        {
          "output_type": "execute_result",
          "data": {
            "text/plain": [
              "            위도      경도    신고수  학교수  어린이시설수  노인시설수   아파트세대수  cctv수  버스정류장수  \\\n",
              "predict                                                                     \n",
              "0        36.80  127.14   21.0  7.0     5.0    0.0   1987.5    0.0     2.0   \n",
              "1        36.38  127.30    2.0  1.0     1.0    0.0    446.0    0.0     0.0   \n",
              "2        36.35  127.38  153.0  7.0     6.0    1.0   3014.0    0.0     2.0   \n",
              "3        36.36  127.35   10.0  7.0     6.0    0.0   2453.0    0.0     2.0   \n",
              "4        36.39  127.33   14.0  6.0     4.0    0.0   1710.0    1.0     2.0   \n",
              "5        36.36  127.38   17.0  8.0     4.0    0.0  22110.0    0.0     2.0   \n",
              "6        36.34  127.42   14.0  9.0    10.0    4.0   2536.0    0.0     2.0   \n",
              "7        36.36  127.35   13.0  3.0     3.0    0.0   2282.0    0.0     2.0   \n",
              "\n",
              "         횡단보도폭  횡단보도연장  차로수  \n",
              "predict                      \n",
              "0        16.17    6.88  5.0  \n",
              "1         4.10    7.40  2.0  \n",
              "2         6.20   12.80  5.0  \n",
              "3         4.10    7.00  2.0  \n",
              "4         4.60    7.04  2.0  \n",
              "5         5.00    7.70  2.0  \n",
              "6         4.60    8.50  2.0  \n",
              "7         6.60   20.20  6.0  "
            ],
            "text/html": [
              "\n",
              "  <div id=\"df-ba112f96-a4e9-42dc-a047-abfeb00cc20c\">\n",
              "    <div class=\"colab-df-container\">\n",
              "      <div>\n",
              "<style scoped>\n",
              "    .dataframe tbody tr th:only-of-type {\n",
              "        vertical-align: middle;\n",
              "    }\n",
              "\n",
              "    .dataframe tbody tr th {\n",
              "        vertical-align: top;\n",
              "    }\n",
              "\n",
              "    .dataframe thead th {\n",
              "        text-align: right;\n",
              "    }\n",
              "</style>\n",
              "<table border=\"1\" class=\"dataframe\">\n",
              "  <thead>\n",
              "    <tr style=\"text-align: right;\">\n",
              "      <th></th>\n",
              "      <th>위도</th>\n",
              "      <th>경도</th>\n",
              "      <th>신고수</th>\n",
              "      <th>학교수</th>\n",
              "      <th>어린이시설수</th>\n",
              "      <th>노인시설수</th>\n",
              "      <th>아파트세대수</th>\n",
              "      <th>cctv수</th>\n",
              "      <th>버스정류장수</th>\n",
              "      <th>횡단보도폭</th>\n",
              "      <th>횡단보도연장</th>\n",
              "      <th>차로수</th>\n",
              "    </tr>\n",
              "    <tr>\n",
              "      <th>predict</th>\n",
              "      <th></th>\n",
              "      <th></th>\n",
              "      <th></th>\n",
              "      <th></th>\n",
              "      <th></th>\n",
              "      <th></th>\n",
              "      <th></th>\n",
              "      <th></th>\n",
              "      <th></th>\n",
              "      <th></th>\n",
              "      <th></th>\n",
              "      <th></th>\n",
              "    </tr>\n",
              "  </thead>\n",
              "  <tbody>\n",
              "    <tr>\n",
              "      <th>0</th>\n",
              "      <td>36.80</td>\n",
              "      <td>127.14</td>\n",
              "      <td>21.0</td>\n",
              "      <td>7.0</td>\n",
              "      <td>5.0</td>\n",
              "      <td>0.0</td>\n",
              "      <td>1987.5</td>\n",
              "      <td>0.0</td>\n",
              "      <td>2.0</td>\n",
              "      <td>16.17</td>\n",
              "      <td>6.88</td>\n",
              "      <td>5.0</td>\n",
              "    </tr>\n",
              "    <tr>\n",
              "      <th>1</th>\n",
              "      <td>36.38</td>\n",
              "      <td>127.30</td>\n",
              "      <td>2.0</td>\n",
              "      <td>1.0</td>\n",
              "      <td>1.0</td>\n",
              "      <td>0.0</td>\n",
              "      <td>446.0</td>\n",
              "      <td>0.0</td>\n",
              "      <td>0.0</td>\n",
              "      <td>4.10</td>\n",
              "      <td>7.40</td>\n",
              "      <td>2.0</td>\n",
              "    </tr>\n",
              "    <tr>\n",
              "      <th>2</th>\n",
              "      <td>36.35</td>\n",
              "      <td>127.38</td>\n",
              "      <td>153.0</td>\n",
              "      <td>7.0</td>\n",
              "      <td>6.0</td>\n",
              "      <td>1.0</td>\n",
              "      <td>3014.0</td>\n",
              "      <td>0.0</td>\n",
              "      <td>2.0</td>\n",
              "      <td>6.20</td>\n",
              "      <td>12.80</td>\n",
              "      <td>5.0</td>\n",
              "    </tr>\n",
              "    <tr>\n",
              "      <th>3</th>\n",
              "      <td>36.36</td>\n",
              "      <td>127.35</td>\n",
              "      <td>10.0</td>\n",
              "      <td>7.0</td>\n",
              "      <td>6.0</td>\n",
              "      <td>0.0</td>\n",
              "      <td>2453.0</td>\n",
              "      <td>0.0</td>\n",
              "      <td>2.0</td>\n",
              "      <td>4.10</td>\n",
              "      <td>7.00</td>\n",
              "      <td>2.0</td>\n",
              "    </tr>\n",
              "    <tr>\n",
              "      <th>4</th>\n",
              "      <td>36.39</td>\n",
              "      <td>127.33</td>\n",
              "      <td>14.0</td>\n",
              "      <td>6.0</td>\n",
              "      <td>4.0</td>\n",
              "      <td>0.0</td>\n",
              "      <td>1710.0</td>\n",
              "      <td>1.0</td>\n",
              "      <td>2.0</td>\n",
              "      <td>4.60</td>\n",
              "      <td>7.04</td>\n",
              "      <td>2.0</td>\n",
              "    </tr>\n",
              "    <tr>\n",
              "      <th>5</th>\n",
              "      <td>36.36</td>\n",
              "      <td>127.38</td>\n",
              "      <td>17.0</td>\n",
              "      <td>8.0</td>\n",
              "      <td>4.0</td>\n",
              "      <td>0.0</td>\n",
              "      <td>22110.0</td>\n",
              "      <td>0.0</td>\n",
              "      <td>2.0</td>\n",
              "      <td>5.00</td>\n",
              "      <td>7.70</td>\n",
              "      <td>2.0</td>\n",
              "    </tr>\n",
              "    <tr>\n",
              "      <th>6</th>\n",
              "      <td>36.34</td>\n",
              "      <td>127.42</td>\n",
              "      <td>14.0</td>\n",
              "      <td>9.0</td>\n",
              "      <td>10.0</td>\n",
              "      <td>4.0</td>\n",
              "      <td>2536.0</td>\n",
              "      <td>0.0</td>\n",
              "      <td>2.0</td>\n",
              "      <td>4.60</td>\n",
              "      <td>8.50</td>\n",
              "      <td>2.0</td>\n",
              "    </tr>\n",
              "    <tr>\n",
              "      <th>7</th>\n",
              "      <td>36.36</td>\n",
              "      <td>127.35</td>\n",
              "      <td>13.0</td>\n",
              "      <td>3.0</td>\n",
              "      <td>3.0</td>\n",
              "      <td>0.0</td>\n",
              "      <td>2282.0</td>\n",
              "      <td>0.0</td>\n",
              "      <td>2.0</td>\n",
              "      <td>6.60</td>\n",
              "      <td>20.20</td>\n",
              "      <td>6.0</td>\n",
              "    </tr>\n",
              "  </tbody>\n",
              "</table>\n",
              "</div>\n",
              "      <button class=\"colab-df-convert\" onclick=\"convertToInteractive('df-ba112f96-a4e9-42dc-a047-abfeb00cc20c')\"\n",
              "              title=\"Convert this dataframe to an interactive table.\"\n",
              "              style=\"display:none;\">\n",
              "        \n",
              "  <svg xmlns=\"http://www.w3.org/2000/svg\" height=\"24px\"viewBox=\"0 0 24 24\"\n",
              "       width=\"24px\">\n",
              "    <path d=\"M0 0h24v24H0V0z\" fill=\"none\"/>\n",
              "    <path d=\"M18.56 5.44l.94 2.06.94-2.06 2.06-.94-2.06-.94-.94-2.06-.94 2.06-2.06.94zm-11 1L8.5 8.5l.94-2.06 2.06-.94-2.06-.94L8.5 2.5l-.94 2.06-2.06.94zm10 10l.94 2.06.94-2.06 2.06-.94-2.06-.94-.94-2.06-.94 2.06-2.06.94z\"/><path d=\"M17.41 7.96l-1.37-1.37c-.4-.4-.92-.59-1.43-.59-.52 0-1.04.2-1.43.59L10.3 9.45l-7.72 7.72c-.78.78-.78 2.05 0 2.83L4 21.41c.39.39.9.59 1.41.59.51 0 1.02-.2 1.41-.59l7.78-7.78 2.81-2.81c.8-.78.8-2.07 0-2.86zM5.41 20L4 18.59l7.72-7.72 1.47 1.35L5.41 20z\"/>\n",
              "  </svg>\n",
              "      </button>\n",
              "      \n",
              "  <style>\n",
              "    .colab-df-container {\n",
              "      display:flex;\n",
              "      flex-wrap:wrap;\n",
              "      gap: 12px;\n",
              "    }\n",
              "\n",
              "    .colab-df-convert {\n",
              "      background-color: #E8F0FE;\n",
              "      border: none;\n",
              "      border-radius: 50%;\n",
              "      cursor: pointer;\n",
              "      display: none;\n",
              "      fill: #1967D2;\n",
              "      height: 32px;\n",
              "      padding: 0 0 0 0;\n",
              "      width: 32px;\n",
              "    }\n",
              "\n",
              "    .colab-df-convert:hover {\n",
              "      background-color: #E2EBFA;\n",
              "      box-shadow: 0px 1px 2px rgba(60, 64, 67, 0.3), 0px 1px 3px 1px rgba(60, 64, 67, 0.15);\n",
              "      fill: #174EA6;\n",
              "    }\n",
              "\n",
              "    [theme=dark] .colab-df-convert {\n",
              "      background-color: #3B4455;\n",
              "      fill: #D2E3FC;\n",
              "    }\n",
              "\n",
              "    [theme=dark] .colab-df-convert:hover {\n",
              "      background-color: #434B5C;\n",
              "      box-shadow: 0px 1px 3px 1px rgba(0, 0, 0, 0.15);\n",
              "      filter: drop-shadow(0px 1px 2px rgba(0, 0, 0, 0.3));\n",
              "      fill: #FFFFFF;\n",
              "    }\n",
              "  </style>\n",
              "\n",
              "      <script>\n",
              "        const buttonEl =\n",
              "          document.querySelector('#df-ba112f96-a4e9-42dc-a047-abfeb00cc20c button.colab-df-convert');\n",
              "        buttonEl.style.display =\n",
              "          google.colab.kernel.accessAllowed ? 'block' : 'none';\n",
              "\n",
              "        async function convertToInteractive(key) {\n",
              "          const element = document.querySelector('#df-ba112f96-a4e9-42dc-a047-abfeb00cc20c');\n",
              "          const dataTable =\n",
              "            await google.colab.kernel.invokeFunction('convertToInteractive',\n",
              "                                                     [key], {});\n",
              "          if (!dataTable) return;\n",
              "\n",
              "          const docLinkHtml = 'Like what you see? Visit the ' +\n",
              "            '<a target=\"_blank\" href=https://colab.research.google.com/notebooks/data_table.ipynb>data table notebook</a>'\n",
              "            + ' to learn more about interactive tables.';\n",
              "          element.innerHTML = '';\n",
              "          dataTable['output_type'] = 'display_data';\n",
              "          await google.colab.output.renderOutput(dataTable, element);\n",
              "          const docLink = document.createElement('div');\n",
              "          docLink.innerHTML = docLinkHtml;\n",
              "          element.appendChild(docLink);\n",
              "        }\n",
              "      </script>\n",
              "    </div>\n",
              "  </div>\n",
              "  "
            ]
          },
          "metadata": {},
          "execution_count": 19
        }
      ]
    },
    {
      "cell_type": "markdown",
      "source": [
        "## **6.4 우선 선정 지표를 통한 결과 도출**"
      ],
      "metadata": {
        "id": "C_VrwJFV4MOY"
      }
    },
    {
      "cell_type": "markdown",
      "source": [
        "### **6.4.1 우선 선정 지표 계산**\n",
        "- 'clustering_result' 파일은 최종 제출 파일에서 '클러스터링 결과.csv' 파일과 동일한 파일이다"
      ],
      "metadata": {
        "id": "Lz95R9ItNd5W"
      }
    },
    {
      "cell_type": "code",
      "source": [
        "df2 = pd.read_csv('clustering_result.csv') # clustering_result -> 최종 제출 파일 : '클러스터링 결과.csv'\n",
        "df_clus = df2.copy()\n",
        "df_clus = df_clus[df_clus['predict']==2]"
      ],
      "metadata": {
        "id": "P0V4Lb-wRI_d"
      },
      "execution_count": null,
      "outputs": []
    },
    {
      "cell_type": "code",
      "source": [
        "def best_region(data, region):\n",
        "  df = data.copy()\n",
        "  #df = df[df['predict']==2]\n",
        "  df = df[df['시군구명']==region]\n",
        "  df = df.reset_index(drop=True)\n",
        "\n",
        "  df_col = df[['학교수','어린이시설수','노인시설수']]\n",
        "  standard_scaler = StandardScaler()\n",
        "  scaled_df_col = pd.DataFrame(standard_scaler.fit_transform(df_col), columns=df_col.columns) # scaled된 데이터\n",
        "  df['종합가중치'] = scaled_df_col['학교수']*0.125191 + scaled_df_col['어린이시설수']*0.111548 + scaled_df_col['노인시설수']*0.045236\n",
        "  df['우선선정지표'] = df['종합가중치'] * df['신고수']\n",
        "\n",
        "  df = df[df['종합가중치']>0].sort_values('우선선정지표', ascending=False)\n",
        "  return df"
      ],
      "metadata": {
        "id": "7YU6LWuE4Qsq"
      },
      "execution_count": null,
      "outputs": []
    },
    {
      "cell_type": "markdown",
      "source": [
        "### **6.4.1 우선 선정 지표를 통한 지역별 대상 횡단보도 정렬**\n",
        "- 선정된 클러스터 전체에 대해 돌린 것이 아닌 각 지역을 나누어 '우선선정지표'를 구하고 정렬한 결과는 다음과 같다."
      ],
      "metadata": {
        "id": "GVlb4vS4N7ls"
      }
    },
    {
      "cell_type": "markdown",
      "source": [
        "#### **6.4.1.1 대전광역시 중구 우선 입지 횡단보도 정렬**"
      ],
      "metadata": {
        "id": "Ii25zqcKSHC9"
      }
    },
    {
      "cell_type": "code",
      "source": [
        "df_gu = best_region(df_clus,'중구')\n",
        "df_gu.iloc[:, [3, 4, 5, 6, 7, 8,9,10,11,18,19]]"
      ],
      "metadata": {
        "id": "NaxO3BBw4X2W",
        "colab": {
          "base_uri": "https://localhost:8080/",
          "height": 423
        },
        "outputId": "b9e5fb0b-325d-4d29-af13-89abfa1d3c98"
      },
      "execution_count": null,
      "outputs": [
        {
          "output_type": "execute_result",
          "data": {
            "text/plain": [
              "              소재지지번주소 횡단보도관리번호         위도          경도  신고수  학교수  어린이시설수  \\\n",
              "8     대전광역시중구오류동118-4      624  36.323560  127.404209   72   15      28   \n",
              "410   대전광역시중구중촌동1-144     7107  36.334531  127.413213  108   14      21   \n",
              "411   대전광역시중구중촌동418-1     7108  36.334740  127.413141  108   14      21   \n",
              "4     대전광역시중구오류동196-1      620  36.323675  127.404335   64   15      28   \n",
              "412  대전광역시중구중촌동156-35     7109  36.334717  127.413418   98   14      21   \n",
              "..                ...      ...        ...         ...  ...  ...     ...   \n",
              "392   대전광역시중구목동143-26     6631  36.331890  127.405886    0   13      25   \n",
              "317     대전광역시중구용두동168     4976  36.327132  127.410377    0   14      16   \n",
              "618  대전광역시중구목동339-183     9321  36.330013  127.415325    0   15      16   \n",
              "627  대전광역시중구선화동259-15     9330  36.329699  127.415521    0   15      16   \n",
              "629   대전광역시중구목동338-33     9337  36.329934  127.414669    0   15      17   \n",
              "\n",
              "     노인시설수  아파트세대수     종합가중치     우선선정지표  \n",
              "8        6    3193  0.527726  37.996302  \n",
              "410      5    5236  0.295476  31.911398  \n",
              "411      5    5236  0.295476  31.911398  \n",
              "4        5    3193  0.494878  31.672178  \n",
              "412      5    5236  0.295476  28.956639  \n",
              "..     ...     ...       ...        ...  \n",
              "392      5    5134  0.340864   0.000000  \n",
              "317      5    1609  0.184208   0.000000  \n",
              "618      5    5134  0.227834   0.000000  \n",
              "627      5    2616  0.227834   0.000000  \n",
              "629      5    5134  0.250088   0.000000  \n",
              "\n",
              "[306 rows x 11 columns]"
            ],
            "text/html": [
              "\n",
              "  <div id=\"df-c787cc8f-7356-46f3-ae8a-940e0c1bd026\">\n",
              "    <div class=\"colab-df-container\">\n",
              "      <div>\n",
              "<style scoped>\n",
              "    .dataframe tbody tr th:only-of-type {\n",
              "        vertical-align: middle;\n",
              "    }\n",
              "\n",
              "    .dataframe tbody tr th {\n",
              "        vertical-align: top;\n",
              "    }\n",
              "\n",
              "    .dataframe thead th {\n",
              "        text-align: right;\n",
              "    }\n",
              "</style>\n",
              "<table border=\"1\" class=\"dataframe\">\n",
              "  <thead>\n",
              "    <tr style=\"text-align: right;\">\n",
              "      <th></th>\n",
              "      <th>소재지지번주소</th>\n",
              "      <th>횡단보도관리번호</th>\n",
              "      <th>위도</th>\n",
              "      <th>경도</th>\n",
              "      <th>신고수</th>\n",
              "      <th>학교수</th>\n",
              "      <th>어린이시설수</th>\n",
              "      <th>노인시설수</th>\n",
              "      <th>아파트세대수</th>\n",
              "      <th>종합가중치</th>\n",
              "      <th>우선선정지표</th>\n",
              "    </tr>\n",
              "  </thead>\n",
              "  <tbody>\n",
              "    <tr>\n",
              "      <th>8</th>\n",
              "      <td>대전광역시중구오류동118-4</td>\n",
              "      <td>624</td>\n",
              "      <td>36.323560</td>\n",
              "      <td>127.404209</td>\n",
              "      <td>72</td>\n",
              "      <td>15</td>\n",
              "      <td>28</td>\n",
              "      <td>6</td>\n",
              "      <td>3193</td>\n",
              "      <td>0.527726</td>\n",
              "      <td>37.996302</td>\n",
              "    </tr>\n",
              "    <tr>\n",
              "      <th>410</th>\n",
              "      <td>대전광역시중구중촌동1-144</td>\n",
              "      <td>7107</td>\n",
              "      <td>36.334531</td>\n",
              "      <td>127.413213</td>\n",
              "      <td>108</td>\n",
              "      <td>14</td>\n",
              "      <td>21</td>\n",
              "      <td>5</td>\n",
              "      <td>5236</td>\n",
              "      <td>0.295476</td>\n",
              "      <td>31.911398</td>\n",
              "    </tr>\n",
              "    <tr>\n",
              "      <th>411</th>\n",
              "      <td>대전광역시중구중촌동418-1</td>\n",
              "      <td>7108</td>\n",
              "      <td>36.334740</td>\n",
              "      <td>127.413141</td>\n",
              "      <td>108</td>\n",
              "      <td>14</td>\n",
              "      <td>21</td>\n",
              "      <td>5</td>\n",
              "      <td>5236</td>\n",
              "      <td>0.295476</td>\n",
              "      <td>31.911398</td>\n",
              "    </tr>\n",
              "    <tr>\n",
              "      <th>4</th>\n",
              "      <td>대전광역시중구오류동196-1</td>\n",
              "      <td>620</td>\n",
              "      <td>36.323675</td>\n",
              "      <td>127.404335</td>\n",
              "      <td>64</td>\n",
              "      <td>15</td>\n",
              "      <td>28</td>\n",
              "      <td>5</td>\n",
              "      <td>3193</td>\n",
              "      <td>0.494878</td>\n",
              "      <td>31.672178</td>\n",
              "    </tr>\n",
              "    <tr>\n",
              "      <th>412</th>\n",
              "      <td>대전광역시중구중촌동156-35</td>\n",
              "      <td>7109</td>\n",
              "      <td>36.334717</td>\n",
              "      <td>127.413418</td>\n",
              "      <td>98</td>\n",
              "      <td>14</td>\n",
              "      <td>21</td>\n",
              "      <td>5</td>\n",
              "      <td>5236</td>\n",
              "      <td>0.295476</td>\n",
              "      <td>28.956639</td>\n",
              "    </tr>\n",
              "    <tr>\n",
              "      <th>...</th>\n",
              "      <td>...</td>\n",
              "      <td>...</td>\n",
              "      <td>...</td>\n",
              "      <td>...</td>\n",
              "      <td>...</td>\n",
              "      <td>...</td>\n",
              "      <td>...</td>\n",
              "      <td>...</td>\n",
              "      <td>...</td>\n",
              "      <td>...</td>\n",
              "      <td>...</td>\n",
              "    </tr>\n",
              "    <tr>\n",
              "      <th>392</th>\n",
              "      <td>대전광역시중구목동143-26</td>\n",
              "      <td>6631</td>\n",
              "      <td>36.331890</td>\n",
              "      <td>127.405886</td>\n",
              "      <td>0</td>\n",
              "      <td>13</td>\n",
              "      <td>25</td>\n",
              "      <td>5</td>\n",
              "      <td>5134</td>\n",
              "      <td>0.340864</td>\n",
              "      <td>0.000000</td>\n",
              "    </tr>\n",
              "    <tr>\n",
              "      <th>317</th>\n",
              "      <td>대전광역시중구용두동168</td>\n",
              "      <td>4976</td>\n",
              "      <td>36.327132</td>\n",
              "      <td>127.410377</td>\n",
              "      <td>0</td>\n",
              "      <td>14</td>\n",
              "      <td>16</td>\n",
              "      <td>5</td>\n",
              "      <td>1609</td>\n",
              "      <td>0.184208</td>\n",
              "      <td>0.000000</td>\n",
              "    </tr>\n",
              "    <tr>\n",
              "      <th>618</th>\n",
              "      <td>대전광역시중구목동339-183</td>\n",
              "      <td>9321</td>\n",
              "      <td>36.330013</td>\n",
              "      <td>127.415325</td>\n",
              "      <td>0</td>\n",
              "      <td>15</td>\n",
              "      <td>16</td>\n",
              "      <td>5</td>\n",
              "      <td>5134</td>\n",
              "      <td>0.227834</td>\n",
              "      <td>0.000000</td>\n",
              "    </tr>\n",
              "    <tr>\n",
              "      <th>627</th>\n",
              "      <td>대전광역시중구선화동259-15</td>\n",
              "      <td>9330</td>\n",
              "      <td>36.329699</td>\n",
              "      <td>127.415521</td>\n",
              "      <td>0</td>\n",
              "      <td>15</td>\n",
              "      <td>16</td>\n",
              "      <td>5</td>\n",
              "      <td>2616</td>\n",
              "      <td>0.227834</td>\n",
              "      <td>0.000000</td>\n",
              "    </tr>\n",
              "    <tr>\n",
              "      <th>629</th>\n",
              "      <td>대전광역시중구목동338-33</td>\n",
              "      <td>9337</td>\n",
              "      <td>36.329934</td>\n",
              "      <td>127.414669</td>\n",
              "      <td>0</td>\n",
              "      <td>15</td>\n",
              "      <td>17</td>\n",
              "      <td>5</td>\n",
              "      <td>5134</td>\n",
              "      <td>0.250088</td>\n",
              "      <td>0.000000</td>\n",
              "    </tr>\n",
              "  </tbody>\n",
              "</table>\n",
              "<p>306 rows × 11 columns</p>\n",
              "</div>\n",
              "      <button class=\"colab-df-convert\" onclick=\"convertToInteractive('df-c787cc8f-7356-46f3-ae8a-940e0c1bd026')\"\n",
              "              title=\"Convert this dataframe to an interactive table.\"\n",
              "              style=\"display:none;\">\n",
              "        \n",
              "  <svg xmlns=\"http://www.w3.org/2000/svg\" height=\"24px\"viewBox=\"0 0 24 24\"\n",
              "       width=\"24px\">\n",
              "    <path d=\"M0 0h24v24H0V0z\" fill=\"none\"/>\n",
              "    <path d=\"M18.56 5.44l.94 2.06.94-2.06 2.06-.94-2.06-.94-.94-2.06-.94 2.06-2.06.94zm-11 1L8.5 8.5l.94-2.06 2.06-.94-2.06-.94L8.5 2.5l-.94 2.06-2.06.94zm10 10l.94 2.06.94-2.06 2.06-.94-2.06-.94-.94-2.06-.94 2.06-2.06.94z\"/><path d=\"M17.41 7.96l-1.37-1.37c-.4-.4-.92-.59-1.43-.59-.52 0-1.04.2-1.43.59L10.3 9.45l-7.72 7.72c-.78.78-.78 2.05 0 2.83L4 21.41c.39.39.9.59 1.41.59.51 0 1.02-.2 1.41-.59l7.78-7.78 2.81-2.81c.8-.78.8-2.07 0-2.86zM5.41 20L4 18.59l7.72-7.72 1.47 1.35L5.41 20z\"/>\n",
              "  </svg>\n",
              "      </button>\n",
              "      \n",
              "  <style>\n",
              "    .colab-df-container {\n",
              "      display:flex;\n",
              "      flex-wrap:wrap;\n",
              "      gap: 12px;\n",
              "    }\n",
              "\n",
              "    .colab-df-convert {\n",
              "      background-color: #E8F0FE;\n",
              "      border: none;\n",
              "      border-radius: 50%;\n",
              "      cursor: pointer;\n",
              "      display: none;\n",
              "      fill: #1967D2;\n",
              "      height: 32px;\n",
              "      padding: 0 0 0 0;\n",
              "      width: 32px;\n",
              "    }\n",
              "\n",
              "    .colab-df-convert:hover {\n",
              "      background-color: #E2EBFA;\n",
              "      box-shadow: 0px 1px 2px rgba(60, 64, 67, 0.3), 0px 1px 3px 1px rgba(60, 64, 67, 0.15);\n",
              "      fill: #174EA6;\n",
              "    }\n",
              "\n",
              "    [theme=dark] .colab-df-convert {\n",
              "      background-color: #3B4455;\n",
              "      fill: #D2E3FC;\n",
              "    }\n",
              "\n",
              "    [theme=dark] .colab-df-convert:hover {\n",
              "      background-color: #434B5C;\n",
              "      box-shadow: 0px 1px 3px 1px rgba(0, 0, 0, 0.15);\n",
              "      filter: drop-shadow(0px 1px 2px rgba(0, 0, 0, 0.3));\n",
              "      fill: #FFFFFF;\n",
              "    }\n",
              "  </style>\n",
              "\n",
              "      <script>\n",
              "        const buttonEl =\n",
              "          document.querySelector('#df-c787cc8f-7356-46f3-ae8a-940e0c1bd026 button.colab-df-convert');\n",
              "        buttonEl.style.display =\n",
              "          google.colab.kernel.accessAllowed ? 'block' : 'none';\n",
              "\n",
              "        async function convertToInteractive(key) {\n",
              "          const element = document.querySelector('#df-c787cc8f-7356-46f3-ae8a-940e0c1bd026');\n",
              "          const dataTable =\n",
              "            await google.colab.kernel.invokeFunction('convertToInteractive',\n",
              "                                                     [key], {});\n",
              "          if (!dataTable) return;\n",
              "\n",
              "          const docLinkHtml = 'Like what you see? Visit the ' +\n",
              "            '<a target=\"_blank\" href=https://colab.research.google.com/notebooks/data_table.ipynb>data table notebook</a>'\n",
              "            + ' to learn more about interactive tables.';\n",
              "          element.innerHTML = '';\n",
              "          dataTable['output_type'] = 'display_data';\n",
              "          await google.colab.output.renderOutput(dataTable, element);\n",
              "          const docLink = document.createElement('div');\n",
              "          docLink.innerHTML = docLinkHtml;\n",
              "          element.appendChild(docLink);\n",
              "        }\n",
              "      </script>\n",
              "    </div>\n",
              "  </div>\n",
              "  "
            ]
          },
          "metadata": {},
          "execution_count": 22
        }
      ]
    },
    {
      "cell_type": "markdown",
      "source": [
        "#### **6.4.1.2 대전광역시 동구 우선 입지 횡단보도 정렬**"
      ],
      "metadata": {
        "id": "-Mc4GXX8SVmO"
      }
    },
    {
      "cell_type": "code",
      "source": [
        "df_gu = best_region(df_clus,'동구')\n",
        "df_gu.iloc[:, [3, 4, 5, 6, 7, 8,9,10,11,18,19]]"
      ],
      "metadata": {
        "id": "OZHYv8WPOFGQ",
        "colab": {
          "base_uri": "https://localhost:8080/",
          "height": 423
        },
        "outputId": "3247f557-222e-45a9-da92-c7211dc3f5bd"
      },
      "execution_count": null,
      "outputs": [
        {
          "output_type": "execute_result",
          "data": {
            "text/plain": [
              "             소재지지번주소 횡단보도관리번호         위도          경도  신고수  학교수  어린이시설수  노인시설수  \\\n",
              "139    대전광역시동구가양동159     2725  36.333956  127.445573   95   11       7      7   \n",
              "134  대전광역시동구자양동407-1     2720  36.333723  127.445597   91   11       7      7   \n",
              "178    대전광역시동구가양동630     2783  36.345523  127.445932  114    9       7      8   \n",
              "174    대전광역시동구가양동630     2779  36.345355  127.445882  112    9       7      8   \n",
              "176    대전광역시동구가양동630     2781  36.345429  127.446072  110    9       7      8   \n",
              "..               ...      ...        ...         ...  ...  ...     ...    ...   \n",
              "236    대전광역시동구판암동841     5783  36.318186  127.459457   10    7       8      3   \n",
              "341  대전광역시동구성남동80-28     8390  36.338465  127.434754    7   12       4      4   \n",
              "238    대전광역시동구판암동839     5785  36.318376  127.459511    9    7       8      3   \n",
              "340  대전광역시동구성남동143-9     8388  36.338431  127.434618    5   12       4      4   \n",
              "355    대전광역시동구성남동529     9312  36.342151  127.434374    3    6       8      5   \n",
              "\n",
              "     아파트세대수     종합가중치     우선선정지표  \n",
              "139    1954  0.227529  21.615212  \n",
              "134    1981  0.227529  20.705098  \n",
              "178    2783  0.154008  17.556888  \n",
              "174    1981  0.154008  17.248872  \n",
              "176    1981  0.154008  16.940857  \n",
              "..      ...       ...        ...  \n",
              "236    9326  0.003996   0.039960  \n",
              "341    2536  0.005706   0.039945  \n",
              "238    9326  0.003996   0.035964  \n",
              "340    2536  0.005706   0.028532  \n",
              "355    2783  0.002947   0.008841  \n",
              "\n",
              "[197 rows x 11 columns]"
            ],
            "text/html": [
              "\n",
              "  <div id=\"df-cbade083-6b06-4786-ba06-e1a10d00ef68\">\n",
              "    <div class=\"colab-df-container\">\n",
              "      <div>\n",
              "<style scoped>\n",
              "    .dataframe tbody tr th:only-of-type {\n",
              "        vertical-align: middle;\n",
              "    }\n",
              "\n",
              "    .dataframe tbody tr th {\n",
              "        vertical-align: top;\n",
              "    }\n",
              "\n",
              "    .dataframe thead th {\n",
              "        text-align: right;\n",
              "    }\n",
              "</style>\n",
              "<table border=\"1\" class=\"dataframe\">\n",
              "  <thead>\n",
              "    <tr style=\"text-align: right;\">\n",
              "      <th></th>\n",
              "      <th>소재지지번주소</th>\n",
              "      <th>횡단보도관리번호</th>\n",
              "      <th>위도</th>\n",
              "      <th>경도</th>\n",
              "      <th>신고수</th>\n",
              "      <th>학교수</th>\n",
              "      <th>어린이시설수</th>\n",
              "      <th>노인시설수</th>\n",
              "      <th>아파트세대수</th>\n",
              "      <th>종합가중치</th>\n",
              "      <th>우선선정지표</th>\n",
              "    </tr>\n",
              "  </thead>\n",
              "  <tbody>\n",
              "    <tr>\n",
              "      <th>139</th>\n",
              "      <td>대전광역시동구가양동159</td>\n",
              "      <td>2725</td>\n",
              "      <td>36.333956</td>\n",
              "      <td>127.445573</td>\n",
              "      <td>95</td>\n",
              "      <td>11</td>\n",
              "      <td>7</td>\n",
              "      <td>7</td>\n",
              "      <td>1954</td>\n",
              "      <td>0.227529</td>\n",
              "      <td>21.615212</td>\n",
              "    </tr>\n",
              "    <tr>\n",
              "      <th>134</th>\n",
              "      <td>대전광역시동구자양동407-1</td>\n",
              "      <td>2720</td>\n",
              "      <td>36.333723</td>\n",
              "      <td>127.445597</td>\n",
              "      <td>91</td>\n",
              "      <td>11</td>\n",
              "      <td>7</td>\n",
              "      <td>7</td>\n",
              "      <td>1981</td>\n",
              "      <td>0.227529</td>\n",
              "      <td>20.705098</td>\n",
              "    </tr>\n",
              "    <tr>\n",
              "      <th>178</th>\n",
              "      <td>대전광역시동구가양동630</td>\n",
              "      <td>2783</td>\n",
              "      <td>36.345523</td>\n",
              "      <td>127.445932</td>\n",
              "      <td>114</td>\n",
              "      <td>9</td>\n",
              "      <td>7</td>\n",
              "      <td>8</td>\n",
              "      <td>2783</td>\n",
              "      <td>0.154008</td>\n",
              "      <td>17.556888</td>\n",
              "    </tr>\n",
              "    <tr>\n",
              "      <th>174</th>\n",
              "      <td>대전광역시동구가양동630</td>\n",
              "      <td>2779</td>\n",
              "      <td>36.345355</td>\n",
              "      <td>127.445882</td>\n",
              "      <td>112</td>\n",
              "      <td>9</td>\n",
              "      <td>7</td>\n",
              "      <td>8</td>\n",
              "      <td>1981</td>\n",
              "      <td>0.154008</td>\n",
              "      <td>17.248872</td>\n",
              "    </tr>\n",
              "    <tr>\n",
              "      <th>176</th>\n",
              "      <td>대전광역시동구가양동630</td>\n",
              "      <td>2781</td>\n",
              "      <td>36.345429</td>\n",
              "      <td>127.446072</td>\n",
              "      <td>110</td>\n",
              "      <td>9</td>\n",
              "      <td>7</td>\n",
              "      <td>8</td>\n",
              "      <td>1981</td>\n",
              "      <td>0.154008</td>\n",
              "      <td>16.940857</td>\n",
              "    </tr>\n",
              "    <tr>\n",
              "      <th>...</th>\n",
              "      <td>...</td>\n",
              "      <td>...</td>\n",
              "      <td>...</td>\n",
              "      <td>...</td>\n",
              "      <td>...</td>\n",
              "      <td>...</td>\n",
              "      <td>...</td>\n",
              "      <td>...</td>\n",
              "      <td>...</td>\n",
              "      <td>...</td>\n",
              "      <td>...</td>\n",
              "    </tr>\n",
              "    <tr>\n",
              "      <th>236</th>\n",
              "      <td>대전광역시동구판암동841</td>\n",
              "      <td>5783</td>\n",
              "      <td>36.318186</td>\n",
              "      <td>127.459457</td>\n",
              "      <td>10</td>\n",
              "      <td>7</td>\n",
              "      <td>8</td>\n",
              "      <td>3</td>\n",
              "      <td>9326</td>\n",
              "      <td>0.003996</td>\n",
              "      <td>0.039960</td>\n",
              "    </tr>\n",
              "    <tr>\n",
              "      <th>341</th>\n",
              "      <td>대전광역시동구성남동80-28</td>\n",
              "      <td>8390</td>\n",
              "      <td>36.338465</td>\n",
              "      <td>127.434754</td>\n",
              "      <td>7</td>\n",
              "      <td>12</td>\n",
              "      <td>4</td>\n",
              "      <td>4</td>\n",
              "      <td>2536</td>\n",
              "      <td>0.005706</td>\n",
              "      <td>0.039945</td>\n",
              "    </tr>\n",
              "    <tr>\n",
              "      <th>238</th>\n",
              "      <td>대전광역시동구판암동839</td>\n",
              "      <td>5785</td>\n",
              "      <td>36.318376</td>\n",
              "      <td>127.459511</td>\n",
              "      <td>9</td>\n",
              "      <td>7</td>\n",
              "      <td>8</td>\n",
              "      <td>3</td>\n",
              "      <td>9326</td>\n",
              "      <td>0.003996</td>\n",
              "      <td>0.035964</td>\n",
              "    </tr>\n",
              "    <tr>\n",
              "      <th>340</th>\n",
              "      <td>대전광역시동구성남동143-9</td>\n",
              "      <td>8388</td>\n",
              "      <td>36.338431</td>\n",
              "      <td>127.434618</td>\n",
              "      <td>5</td>\n",
              "      <td>12</td>\n",
              "      <td>4</td>\n",
              "      <td>4</td>\n",
              "      <td>2536</td>\n",
              "      <td>0.005706</td>\n",
              "      <td>0.028532</td>\n",
              "    </tr>\n",
              "    <tr>\n",
              "      <th>355</th>\n",
              "      <td>대전광역시동구성남동529</td>\n",
              "      <td>9312</td>\n",
              "      <td>36.342151</td>\n",
              "      <td>127.434374</td>\n",
              "      <td>3</td>\n",
              "      <td>6</td>\n",
              "      <td>8</td>\n",
              "      <td>5</td>\n",
              "      <td>2783</td>\n",
              "      <td>0.002947</td>\n",
              "      <td>0.008841</td>\n",
              "    </tr>\n",
              "  </tbody>\n",
              "</table>\n",
              "<p>197 rows × 11 columns</p>\n",
              "</div>\n",
              "      <button class=\"colab-df-convert\" onclick=\"convertToInteractive('df-cbade083-6b06-4786-ba06-e1a10d00ef68')\"\n",
              "              title=\"Convert this dataframe to an interactive table.\"\n",
              "              style=\"display:none;\">\n",
              "        \n",
              "  <svg xmlns=\"http://www.w3.org/2000/svg\" height=\"24px\"viewBox=\"0 0 24 24\"\n",
              "       width=\"24px\">\n",
              "    <path d=\"M0 0h24v24H0V0z\" fill=\"none\"/>\n",
              "    <path d=\"M18.56 5.44l.94 2.06.94-2.06 2.06-.94-2.06-.94-.94-2.06-.94 2.06-2.06.94zm-11 1L8.5 8.5l.94-2.06 2.06-.94-2.06-.94L8.5 2.5l-.94 2.06-2.06.94zm10 10l.94 2.06.94-2.06 2.06-.94-2.06-.94-.94-2.06-.94 2.06-2.06.94z\"/><path d=\"M17.41 7.96l-1.37-1.37c-.4-.4-.92-.59-1.43-.59-.52 0-1.04.2-1.43.59L10.3 9.45l-7.72 7.72c-.78.78-.78 2.05 0 2.83L4 21.41c.39.39.9.59 1.41.59.51 0 1.02-.2 1.41-.59l7.78-7.78 2.81-2.81c.8-.78.8-2.07 0-2.86zM5.41 20L4 18.59l7.72-7.72 1.47 1.35L5.41 20z\"/>\n",
              "  </svg>\n",
              "      </button>\n",
              "      \n",
              "  <style>\n",
              "    .colab-df-container {\n",
              "      display:flex;\n",
              "      flex-wrap:wrap;\n",
              "      gap: 12px;\n",
              "    }\n",
              "\n",
              "    .colab-df-convert {\n",
              "      background-color: #E8F0FE;\n",
              "      border: none;\n",
              "      border-radius: 50%;\n",
              "      cursor: pointer;\n",
              "      display: none;\n",
              "      fill: #1967D2;\n",
              "      height: 32px;\n",
              "      padding: 0 0 0 0;\n",
              "      width: 32px;\n",
              "    }\n",
              "\n",
              "    .colab-df-convert:hover {\n",
              "      background-color: #E2EBFA;\n",
              "      box-shadow: 0px 1px 2px rgba(60, 64, 67, 0.3), 0px 1px 3px 1px rgba(60, 64, 67, 0.15);\n",
              "      fill: #174EA6;\n",
              "    }\n",
              "\n",
              "    [theme=dark] .colab-df-convert {\n",
              "      background-color: #3B4455;\n",
              "      fill: #D2E3FC;\n",
              "    }\n",
              "\n",
              "    [theme=dark] .colab-df-convert:hover {\n",
              "      background-color: #434B5C;\n",
              "      box-shadow: 0px 1px 3px 1px rgba(0, 0, 0, 0.15);\n",
              "      filter: drop-shadow(0px 1px 2px rgba(0, 0, 0, 0.3));\n",
              "      fill: #FFFFFF;\n",
              "    }\n",
              "  </style>\n",
              "\n",
              "      <script>\n",
              "        const buttonEl =\n",
              "          document.querySelector('#df-cbade083-6b06-4786-ba06-e1a10d00ef68 button.colab-df-convert');\n",
              "        buttonEl.style.display =\n",
              "          google.colab.kernel.accessAllowed ? 'block' : 'none';\n",
              "\n",
              "        async function convertToInteractive(key) {\n",
              "          const element = document.querySelector('#df-cbade083-6b06-4786-ba06-e1a10d00ef68');\n",
              "          const dataTable =\n",
              "            await google.colab.kernel.invokeFunction('convertToInteractive',\n",
              "                                                     [key], {});\n",
              "          if (!dataTable) return;\n",
              "\n",
              "          const docLinkHtml = 'Like what you see? Visit the ' +\n",
              "            '<a target=\"_blank\" href=https://colab.research.google.com/notebooks/data_table.ipynb>data table notebook</a>'\n",
              "            + ' to learn more about interactive tables.';\n",
              "          element.innerHTML = '';\n",
              "          dataTable['output_type'] = 'display_data';\n",
              "          await google.colab.output.renderOutput(dataTable, element);\n",
              "          const docLink = document.createElement('div');\n",
              "          docLink.innerHTML = docLinkHtml;\n",
              "          element.appendChild(docLink);\n",
              "        }\n",
              "      </script>\n",
              "    </div>\n",
              "  </div>\n",
              "  "
            ]
          },
          "metadata": {},
          "execution_count": 23
        }
      ]
    },
    {
      "cell_type": "markdown",
      "source": [
        "#### **6.4.1.3 대전광역시 유성구 우선 입지 횡단보도 정렬**"
      ],
      "metadata": {
        "id": "xOPi314ASa2J"
      }
    },
    {
      "cell_type": "code",
      "source": [
        "df_gu = best_region(df_clus,'유성구')\n",
        "df_gu.iloc[:, [3, 4, 5, 6, 7, 8,9,10,11,18,19]]"
      ],
      "metadata": {
        "id": "lJgxXYEdOFfj",
        "colab": {
          "base_uri": "https://localhost:8080/",
          "height": 423
        },
        "outputId": "2ab24c75-1445-44d3-a9d1-9b80956a27c3"
      },
      "execution_count": null,
      "outputs": [
        {
          "output_type": "execute_result",
          "data": {
            "text/plain": [
              "               소재지지번주소 횡단보도관리번호         위도          경도  신고수  학교수  어린이시설수  \\\n",
              "35      대전광역시유성구봉명동498     3634  36.348431  127.340003  105    8      11   \n",
              "36   대전광역시유성구봉명동1058-1     3635  36.348688  127.339971   92    8      11   \n",
              "37      대전광역시유성구봉명동489     3636  36.348288  127.339990   89    8      11   \n",
              "142   대전광역시유성구장대동466-2     9218  36.354072  127.336705   60    9       9   \n",
              "127     대전광역시유성구장대동534     9201  36.354547  127.336541   47    9       9   \n",
              "..                 ...      ...        ...         ...  ...  ...     ...   \n",
              "59     대전광역시유성구봉명동1067     3735  36.346690  127.341625   10    8       9   \n",
              "58     대전광역시유성구봉명동1066     3734  36.347469  127.341715    5    8       9   \n",
              "57     대전광역시유성구봉명동1067     3733  36.347553  127.341626    5    8       9   \n",
              "74     대전광역시유성구봉명동1067     3764  36.347163  127.341624    4    8       9   \n",
              "176     대전광역시유성구구암동490     9264  36.344245  127.331845    1    8       8   \n",
              "\n",
              "     노인시설수  아파트세대수     종합가중치     우선선정지표  \n",
              "35       5    9247  0.169009  17.745895  \n",
              "36       5    9247  0.169009  15.548784  \n",
              "37       5    9247  0.169009  15.041759  \n",
              "142      6    1710  0.185367  11.122044  \n",
              "127      6    1710  0.185367   8.712268  \n",
              "..     ...     ...       ...        ...  \n",
              "59       3    9247  0.004243   0.042428  \n",
              "58       3    9247  0.004243   0.021214  \n",
              "57       3    9247  0.004243   0.021214  \n",
              "74       3    9247  0.004243   0.016971  \n",
              "176      4     355  0.005932   0.005932  \n",
              "\n",
              "[102 rows x 11 columns]"
            ],
            "text/html": [
              "\n",
              "  <div id=\"df-1c9cd3d9-c1c2-49e1-be78-3f8064497e4a\">\n",
              "    <div class=\"colab-df-container\">\n",
              "      <div>\n",
              "<style scoped>\n",
              "    .dataframe tbody tr th:only-of-type {\n",
              "        vertical-align: middle;\n",
              "    }\n",
              "\n",
              "    .dataframe tbody tr th {\n",
              "        vertical-align: top;\n",
              "    }\n",
              "\n",
              "    .dataframe thead th {\n",
              "        text-align: right;\n",
              "    }\n",
              "</style>\n",
              "<table border=\"1\" class=\"dataframe\">\n",
              "  <thead>\n",
              "    <tr style=\"text-align: right;\">\n",
              "      <th></th>\n",
              "      <th>소재지지번주소</th>\n",
              "      <th>횡단보도관리번호</th>\n",
              "      <th>위도</th>\n",
              "      <th>경도</th>\n",
              "      <th>신고수</th>\n",
              "      <th>학교수</th>\n",
              "      <th>어린이시설수</th>\n",
              "      <th>노인시설수</th>\n",
              "      <th>아파트세대수</th>\n",
              "      <th>종합가중치</th>\n",
              "      <th>우선선정지표</th>\n",
              "    </tr>\n",
              "  </thead>\n",
              "  <tbody>\n",
              "    <tr>\n",
              "      <th>35</th>\n",
              "      <td>대전광역시유성구봉명동498</td>\n",
              "      <td>3634</td>\n",
              "      <td>36.348431</td>\n",
              "      <td>127.340003</td>\n",
              "      <td>105</td>\n",
              "      <td>8</td>\n",
              "      <td>11</td>\n",
              "      <td>5</td>\n",
              "      <td>9247</td>\n",
              "      <td>0.169009</td>\n",
              "      <td>17.745895</td>\n",
              "    </tr>\n",
              "    <tr>\n",
              "      <th>36</th>\n",
              "      <td>대전광역시유성구봉명동1058-1</td>\n",
              "      <td>3635</td>\n",
              "      <td>36.348688</td>\n",
              "      <td>127.339971</td>\n",
              "      <td>92</td>\n",
              "      <td>8</td>\n",
              "      <td>11</td>\n",
              "      <td>5</td>\n",
              "      <td>9247</td>\n",
              "      <td>0.169009</td>\n",
              "      <td>15.548784</td>\n",
              "    </tr>\n",
              "    <tr>\n",
              "      <th>37</th>\n",
              "      <td>대전광역시유성구봉명동489</td>\n",
              "      <td>3636</td>\n",
              "      <td>36.348288</td>\n",
              "      <td>127.339990</td>\n",
              "      <td>89</td>\n",
              "      <td>8</td>\n",
              "      <td>11</td>\n",
              "      <td>5</td>\n",
              "      <td>9247</td>\n",
              "      <td>0.169009</td>\n",
              "      <td>15.041759</td>\n",
              "    </tr>\n",
              "    <tr>\n",
              "      <th>142</th>\n",
              "      <td>대전광역시유성구장대동466-2</td>\n",
              "      <td>9218</td>\n",
              "      <td>36.354072</td>\n",
              "      <td>127.336705</td>\n",
              "      <td>60</td>\n",
              "      <td>9</td>\n",
              "      <td>9</td>\n",
              "      <td>6</td>\n",
              "      <td>1710</td>\n",
              "      <td>0.185367</td>\n",
              "      <td>11.122044</td>\n",
              "    </tr>\n",
              "    <tr>\n",
              "      <th>127</th>\n",
              "      <td>대전광역시유성구장대동534</td>\n",
              "      <td>9201</td>\n",
              "      <td>36.354547</td>\n",
              "      <td>127.336541</td>\n",
              "      <td>47</td>\n",
              "      <td>9</td>\n",
              "      <td>9</td>\n",
              "      <td>6</td>\n",
              "      <td>1710</td>\n",
              "      <td>0.185367</td>\n",
              "      <td>8.712268</td>\n",
              "    </tr>\n",
              "    <tr>\n",
              "      <th>...</th>\n",
              "      <td>...</td>\n",
              "      <td>...</td>\n",
              "      <td>...</td>\n",
              "      <td>...</td>\n",
              "      <td>...</td>\n",
              "      <td>...</td>\n",
              "      <td>...</td>\n",
              "      <td>...</td>\n",
              "      <td>...</td>\n",
              "      <td>...</td>\n",
              "      <td>...</td>\n",
              "    </tr>\n",
              "    <tr>\n",
              "      <th>59</th>\n",
              "      <td>대전광역시유성구봉명동1067</td>\n",
              "      <td>3735</td>\n",
              "      <td>36.346690</td>\n",
              "      <td>127.341625</td>\n",
              "      <td>10</td>\n",
              "      <td>8</td>\n",
              "      <td>9</td>\n",
              "      <td>3</td>\n",
              "      <td>9247</td>\n",
              "      <td>0.004243</td>\n",
              "      <td>0.042428</td>\n",
              "    </tr>\n",
              "    <tr>\n",
              "      <th>58</th>\n",
              "      <td>대전광역시유성구봉명동1066</td>\n",
              "      <td>3734</td>\n",
              "      <td>36.347469</td>\n",
              "      <td>127.341715</td>\n",
              "      <td>5</td>\n",
              "      <td>8</td>\n",
              "      <td>9</td>\n",
              "      <td>3</td>\n",
              "      <td>9247</td>\n",
              "      <td>0.004243</td>\n",
              "      <td>0.021214</td>\n",
              "    </tr>\n",
              "    <tr>\n",
              "      <th>57</th>\n",
              "      <td>대전광역시유성구봉명동1067</td>\n",
              "      <td>3733</td>\n",
              "      <td>36.347553</td>\n",
              "      <td>127.341626</td>\n",
              "      <td>5</td>\n",
              "      <td>8</td>\n",
              "      <td>9</td>\n",
              "      <td>3</td>\n",
              "      <td>9247</td>\n",
              "      <td>0.004243</td>\n",
              "      <td>0.021214</td>\n",
              "    </tr>\n",
              "    <tr>\n",
              "      <th>74</th>\n",
              "      <td>대전광역시유성구봉명동1067</td>\n",
              "      <td>3764</td>\n",
              "      <td>36.347163</td>\n",
              "      <td>127.341624</td>\n",
              "      <td>4</td>\n",
              "      <td>8</td>\n",
              "      <td>9</td>\n",
              "      <td>3</td>\n",
              "      <td>9247</td>\n",
              "      <td>0.004243</td>\n",
              "      <td>0.016971</td>\n",
              "    </tr>\n",
              "    <tr>\n",
              "      <th>176</th>\n",
              "      <td>대전광역시유성구구암동490</td>\n",
              "      <td>9264</td>\n",
              "      <td>36.344245</td>\n",
              "      <td>127.331845</td>\n",
              "      <td>1</td>\n",
              "      <td>8</td>\n",
              "      <td>8</td>\n",
              "      <td>4</td>\n",
              "      <td>355</td>\n",
              "      <td>0.005932</td>\n",
              "      <td>0.005932</td>\n",
              "    </tr>\n",
              "  </tbody>\n",
              "</table>\n",
              "<p>102 rows × 11 columns</p>\n",
              "</div>\n",
              "      <button class=\"colab-df-convert\" onclick=\"convertToInteractive('df-1c9cd3d9-c1c2-49e1-be78-3f8064497e4a')\"\n",
              "              title=\"Convert this dataframe to an interactive table.\"\n",
              "              style=\"display:none;\">\n",
              "        \n",
              "  <svg xmlns=\"http://www.w3.org/2000/svg\" height=\"24px\"viewBox=\"0 0 24 24\"\n",
              "       width=\"24px\">\n",
              "    <path d=\"M0 0h24v24H0V0z\" fill=\"none\"/>\n",
              "    <path d=\"M18.56 5.44l.94 2.06.94-2.06 2.06-.94-2.06-.94-.94-2.06-.94 2.06-2.06.94zm-11 1L8.5 8.5l.94-2.06 2.06-.94-2.06-.94L8.5 2.5l-.94 2.06-2.06.94zm10 10l.94 2.06.94-2.06 2.06-.94-2.06-.94-.94-2.06-.94 2.06-2.06.94z\"/><path d=\"M17.41 7.96l-1.37-1.37c-.4-.4-.92-.59-1.43-.59-.52 0-1.04.2-1.43.59L10.3 9.45l-7.72 7.72c-.78.78-.78 2.05 0 2.83L4 21.41c.39.39.9.59 1.41.59.51 0 1.02-.2 1.41-.59l7.78-7.78 2.81-2.81c.8-.78.8-2.07 0-2.86zM5.41 20L4 18.59l7.72-7.72 1.47 1.35L5.41 20z\"/>\n",
              "  </svg>\n",
              "      </button>\n",
              "      \n",
              "  <style>\n",
              "    .colab-df-container {\n",
              "      display:flex;\n",
              "      flex-wrap:wrap;\n",
              "      gap: 12px;\n",
              "    }\n",
              "\n",
              "    .colab-df-convert {\n",
              "      background-color: #E8F0FE;\n",
              "      border: none;\n",
              "      border-radius: 50%;\n",
              "      cursor: pointer;\n",
              "      display: none;\n",
              "      fill: #1967D2;\n",
              "      height: 32px;\n",
              "      padding: 0 0 0 0;\n",
              "      width: 32px;\n",
              "    }\n",
              "\n",
              "    .colab-df-convert:hover {\n",
              "      background-color: #E2EBFA;\n",
              "      box-shadow: 0px 1px 2px rgba(60, 64, 67, 0.3), 0px 1px 3px 1px rgba(60, 64, 67, 0.15);\n",
              "      fill: #174EA6;\n",
              "    }\n",
              "\n",
              "    [theme=dark] .colab-df-convert {\n",
              "      background-color: #3B4455;\n",
              "      fill: #D2E3FC;\n",
              "    }\n",
              "\n",
              "    [theme=dark] .colab-df-convert:hover {\n",
              "      background-color: #434B5C;\n",
              "      box-shadow: 0px 1px 3px 1px rgba(0, 0, 0, 0.15);\n",
              "      filter: drop-shadow(0px 1px 2px rgba(0, 0, 0, 0.3));\n",
              "      fill: #FFFFFF;\n",
              "    }\n",
              "  </style>\n",
              "\n",
              "      <script>\n",
              "        const buttonEl =\n",
              "          document.querySelector('#df-1c9cd3d9-c1c2-49e1-be78-3f8064497e4a button.colab-df-convert');\n",
              "        buttonEl.style.display =\n",
              "          google.colab.kernel.accessAllowed ? 'block' : 'none';\n",
              "\n",
              "        async function convertToInteractive(key) {\n",
              "          const element = document.querySelector('#df-1c9cd3d9-c1c2-49e1-be78-3f8064497e4a');\n",
              "          const dataTable =\n",
              "            await google.colab.kernel.invokeFunction('convertToInteractive',\n",
              "                                                     [key], {});\n",
              "          if (!dataTable) return;\n",
              "\n",
              "          const docLinkHtml = 'Like what you see? Visit the ' +\n",
              "            '<a target=\"_blank\" href=https://colab.research.google.com/notebooks/data_table.ipynb>data table notebook</a>'\n",
              "            + ' to learn more about interactive tables.';\n",
              "          element.innerHTML = '';\n",
              "          dataTable['output_type'] = 'display_data';\n",
              "          await google.colab.output.renderOutput(dataTable, element);\n",
              "          const docLink = document.createElement('div');\n",
              "          docLink.innerHTML = docLinkHtml;\n",
              "          element.appendChild(docLink);\n",
              "        }\n",
              "      </script>\n",
              "    </div>\n",
              "  </div>\n",
              "  "
            ]
          },
          "metadata": {},
          "execution_count": 24
        }
      ]
    },
    {
      "cell_type": "markdown",
      "source": [
        "#### **6.4.1.4 대전광역시 대덕구 우선 입지 횡단보도 정렬**"
      ],
      "metadata": {
        "id": "XYcRbomwSdO6"
      }
    },
    {
      "cell_type": "code",
      "source": [
        "df_gu = best_region(df_clus,'대덕구')\n",
        "df_gu.iloc[:, [3, 4, 5, 6, 7, 8,9,10,11,18,19]]"
      ],
      "metadata": {
        "id": "sDATCfsMOHA0",
        "colab": {
          "base_uri": "https://localhost:8080/",
          "height": 423
        },
        "outputId": "e0980415-c901-4098-d285-3fa30066a4b0"
      },
      "execution_count": null,
      "outputs": [
        {
          "output_type": "execute_result",
          "data": {
            "text/plain": [
              "              소재지지번주소 횡단보도관리번호         위도          경도  신고수  학교수  어린이시설수  \\\n",
              "28     대전광역시대덕구송촌동520      247  36.357784  127.445597   74    5      13   \n",
              "30     대전광역시대덕구송촌동520      249  36.357557  127.446029   47    5      13   \n",
              "78     대전광역시대덕구석봉동340     1517  36.443837  127.425567   42    6       9   \n",
              "77     대전광역시대덕구석봉동336     1516  36.443951  127.425757   37    6       9   \n",
              "56     대전광역시대덕구송촌동568      594  36.357122  127.445129   48    5      12   \n",
              "..                ...      ...        ...         ...  ...  ...     ...   \n",
              "76  대전광역시대덕구석봉동294-12     1515  36.442522  127.428875    8    5       8   \n",
              "71     대전광역시대덕구석봉동748     1473  36.447384  127.425765   27    7       7   \n",
              "24     대전광역시대덕구비래동532      220  36.359533  127.452207   10    4      12   \n",
              "70     대전광역시대덕구석봉동748     1471  36.447389  127.425950   25    7       7   \n",
              "25     대전광역시대덕구비래동532      221  36.359114  127.451970    2    4      12   \n",
              "\n",
              "    노인시설수  아파트세대수     종합가중치    우선선정지표  \n",
              "28      3    6320  0.130797  9.679004  \n",
              "30      3    6320  0.130797  6.147475  \n",
              "78      4    4444  0.135730  5.700644  \n",
              "77      4    4444  0.135730  5.021996  \n",
              "56      3    6320  0.085563  4.107007  \n",
              "..    ...     ...       ...       ...  \n",
              "76      4    4444  0.017714  0.141711  \n",
              "71      3    4444  0.004951  0.133684  \n",
              "24      3    2157  0.012782  0.127816  \n",
              "70      3    4444  0.004951  0.123782  \n",
              "25      3    2157  0.012782  0.025563  \n",
              "\n",
              "[63 rows x 11 columns]"
            ],
            "text/html": [
              "\n",
              "  <div id=\"df-4159c0bc-dc00-4326-89fb-983361bb33ed\">\n",
              "    <div class=\"colab-df-container\">\n",
              "      <div>\n",
              "<style scoped>\n",
              "    .dataframe tbody tr th:only-of-type {\n",
              "        vertical-align: middle;\n",
              "    }\n",
              "\n",
              "    .dataframe tbody tr th {\n",
              "        vertical-align: top;\n",
              "    }\n",
              "\n",
              "    .dataframe thead th {\n",
              "        text-align: right;\n",
              "    }\n",
              "</style>\n",
              "<table border=\"1\" class=\"dataframe\">\n",
              "  <thead>\n",
              "    <tr style=\"text-align: right;\">\n",
              "      <th></th>\n",
              "      <th>소재지지번주소</th>\n",
              "      <th>횡단보도관리번호</th>\n",
              "      <th>위도</th>\n",
              "      <th>경도</th>\n",
              "      <th>신고수</th>\n",
              "      <th>학교수</th>\n",
              "      <th>어린이시설수</th>\n",
              "      <th>노인시설수</th>\n",
              "      <th>아파트세대수</th>\n",
              "      <th>종합가중치</th>\n",
              "      <th>우선선정지표</th>\n",
              "    </tr>\n",
              "  </thead>\n",
              "  <tbody>\n",
              "    <tr>\n",
              "      <th>28</th>\n",
              "      <td>대전광역시대덕구송촌동520</td>\n",
              "      <td>247</td>\n",
              "      <td>36.357784</td>\n",
              "      <td>127.445597</td>\n",
              "      <td>74</td>\n",
              "      <td>5</td>\n",
              "      <td>13</td>\n",
              "      <td>3</td>\n",
              "      <td>6320</td>\n",
              "      <td>0.130797</td>\n",
              "      <td>9.679004</td>\n",
              "    </tr>\n",
              "    <tr>\n",
              "      <th>30</th>\n",
              "      <td>대전광역시대덕구송촌동520</td>\n",
              "      <td>249</td>\n",
              "      <td>36.357557</td>\n",
              "      <td>127.446029</td>\n",
              "      <td>47</td>\n",
              "      <td>5</td>\n",
              "      <td>13</td>\n",
              "      <td>3</td>\n",
              "      <td>6320</td>\n",
              "      <td>0.130797</td>\n",
              "      <td>6.147475</td>\n",
              "    </tr>\n",
              "    <tr>\n",
              "      <th>78</th>\n",
              "      <td>대전광역시대덕구석봉동340</td>\n",
              "      <td>1517</td>\n",
              "      <td>36.443837</td>\n",
              "      <td>127.425567</td>\n",
              "      <td>42</td>\n",
              "      <td>6</td>\n",
              "      <td>9</td>\n",
              "      <td>4</td>\n",
              "      <td>4444</td>\n",
              "      <td>0.135730</td>\n",
              "      <td>5.700644</td>\n",
              "    </tr>\n",
              "    <tr>\n",
              "      <th>77</th>\n",
              "      <td>대전광역시대덕구석봉동336</td>\n",
              "      <td>1516</td>\n",
              "      <td>36.443951</td>\n",
              "      <td>127.425757</td>\n",
              "      <td>37</td>\n",
              "      <td>6</td>\n",
              "      <td>9</td>\n",
              "      <td>4</td>\n",
              "      <td>4444</td>\n",
              "      <td>0.135730</td>\n",
              "      <td>5.021996</td>\n",
              "    </tr>\n",
              "    <tr>\n",
              "      <th>56</th>\n",
              "      <td>대전광역시대덕구송촌동568</td>\n",
              "      <td>594</td>\n",
              "      <td>36.357122</td>\n",
              "      <td>127.445129</td>\n",
              "      <td>48</td>\n",
              "      <td>5</td>\n",
              "      <td>12</td>\n",
              "      <td>3</td>\n",
              "      <td>6320</td>\n",
              "      <td>0.085563</td>\n",
              "      <td>4.107007</td>\n",
              "    </tr>\n",
              "    <tr>\n",
              "      <th>...</th>\n",
              "      <td>...</td>\n",
              "      <td>...</td>\n",
              "      <td>...</td>\n",
              "      <td>...</td>\n",
              "      <td>...</td>\n",
              "      <td>...</td>\n",
              "      <td>...</td>\n",
              "      <td>...</td>\n",
              "      <td>...</td>\n",
              "      <td>...</td>\n",
              "      <td>...</td>\n",
              "    </tr>\n",
              "    <tr>\n",
              "      <th>76</th>\n",
              "      <td>대전광역시대덕구석봉동294-12</td>\n",
              "      <td>1515</td>\n",
              "      <td>36.442522</td>\n",
              "      <td>127.428875</td>\n",
              "      <td>8</td>\n",
              "      <td>5</td>\n",
              "      <td>8</td>\n",
              "      <td>4</td>\n",
              "      <td>4444</td>\n",
              "      <td>0.017714</td>\n",
              "      <td>0.141711</td>\n",
              "    </tr>\n",
              "    <tr>\n",
              "      <th>71</th>\n",
              "      <td>대전광역시대덕구석봉동748</td>\n",
              "      <td>1473</td>\n",
              "      <td>36.447384</td>\n",
              "      <td>127.425765</td>\n",
              "      <td>27</td>\n",
              "      <td>7</td>\n",
              "      <td>7</td>\n",
              "      <td>3</td>\n",
              "      <td>4444</td>\n",
              "      <td>0.004951</td>\n",
              "      <td>0.133684</td>\n",
              "    </tr>\n",
              "    <tr>\n",
              "      <th>24</th>\n",
              "      <td>대전광역시대덕구비래동532</td>\n",
              "      <td>220</td>\n",
              "      <td>36.359533</td>\n",
              "      <td>127.452207</td>\n",
              "      <td>10</td>\n",
              "      <td>4</td>\n",
              "      <td>12</td>\n",
              "      <td>3</td>\n",
              "      <td>2157</td>\n",
              "      <td>0.012782</td>\n",
              "      <td>0.127816</td>\n",
              "    </tr>\n",
              "    <tr>\n",
              "      <th>70</th>\n",
              "      <td>대전광역시대덕구석봉동748</td>\n",
              "      <td>1471</td>\n",
              "      <td>36.447389</td>\n",
              "      <td>127.425950</td>\n",
              "      <td>25</td>\n",
              "      <td>7</td>\n",
              "      <td>7</td>\n",
              "      <td>3</td>\n",
              "      <td>4444</td>\n",
              "      <td>0.004951</td>\n",
              "      <td>0.123782</td>\n",
              "    </tr>\n",
              "    <tr>\n",
              "      <th>25</th>\n",
              "      <td>대전광역시대덕구비래동532</td>\n",
              "      <td>221</td>\n",
              "      <td>36.359114</td>\n",
              "      <td>127.451970</td>\n",
              "      <td>2</td>\n",
              "      <td>4</td>\n",
              "      <td>12</td>\n",
              "      <td>3</td>\n",
              "      <td>2157</td>\n",
              "      <td>0.012782</td>\n",
              "      <td>0.025563</td>\n",
              "    </tr>\n",
              "  </tbody>\n",
              "</table>\n",
              "<p>63 rows × 11 columns</p>\n",
              "</div>\n",
              "      <button class=\"colab-df-convert\" onclick=\"convertToInteractive('df-4159c0bc-dc00-4326-89fb-983361bb33ed')\"\n",
              "              title=\"Convert this dataframe to an interactive table.\"\n",
              "              style=\"display:none;\">\n",
              "        \n",
              "  <svg xmlns=\"http://www.w3.org/2000/svg\" height=\"24px\"viewBox=\"0 0 24 24\"\n",
              "       width=\"24px\">\n",
              "    <path d=\"M0 0h24v24H0V0z\" fill=\"none\"/>\n",
              "    <path d=\"M18.56 5.44l.94 2.06.94-2.06 2.06-.94-2.06-.94-.94-2.06-.94 2.06-2.06.94zm-11 1L8.5 8.5l.94-2.06 2.06-.94-2.06-.94L8.5 2.5l-.94 2.06-2.06.94zm10 10l.94 2.06.94-2.06 2.06-.94-2.06-.94-.94-2.06-.94 2.06-2.06.94z\"/><path d=\"M17.41 7.96l-1.37-1.37c-.4-.4-.92-.59-1.43-.59-.52 0-1.04.2-1.43.59L10.3 9.45l-7.72 7.72c-.78.78-.78 2.05 0 2.83L4 21.41c.39.39.9.59 1.41.59.51 0 1.02-.2 1.41-.59l7.78-7.78 2.81-2.81c.8-.78.8-2.07 0-2.86zM5.41 20L4 18.59l7.72-7.72 1.47 1.35L5.41 20z\"/>\n",
              "  </svg>\n",
              "      </button>\n",
              "      \n",
              "  <style>\n",
              "    .colab-df-container {\n",
              "      display:flex;\n",
              "      flex-wrap:wrap;\n",
              "      gap: 12px;\n",
              "    }\n",
              "\n",
              "    .colab-df-convert {\n",
              "      background-color: #E8F0FE;\n",
              "      border: none;\n",
              "      border-radius: 50%;\n",
              "      cursor: pointer;\n",
              "      display: none;\n",
              "      fill: #1967D2;\n",
              "      height: 32px;\n",
              "      padding: 0 0 0 0;\n",
              "      width: 32px;\n",
              "    }\n",
              "\n",
              "    .colab-df-convert:hover {\n",
              "      background-color: #E2EBFA;\n",
              "      box-shadow: 0px 1px 2px rgba(60, 64, 67, 0.3), 0px 1px 3px 1px rgba(60, 64, 67, 0.15);\n",
              "      fill: #174EA6;\n",
              "    }\n",
              "\n",
              "    [theme=dark] .colab-df-convert {\n",
              "      background-color: #3B4455;\n",
              "      fill: #D2E3FC;\n",
              "    }\n",
              "\n",
              "    [theme=dark] .colab-df-convert:hover {\n",
              "      background-color: #434B5C;\n",
              "      box-shadow: 0px 1px 3px 1px rgba(0, 0, 0, 0.15);\n",
              "      filter: drop-shadow(0px 1px 2px rgba(0, 0, 0, 0.3));\n",
              "      fill: #FFFFFF;\n",
              "    }\n",
              "  </style>\n",
              "\n",
              "      <script>\n",
              "        const buttonEl =\n",
              "          document.querySelector('#df-4159c0bc-dc00-4326-89fb-983361bb33ed button.colab-df-convert');\n",
              "        buttonEl.style.display =\n",
              "          google.colab.kernel.accessAllowed ? 'block' : 'none';\n",
              "\n",
              "        async function convertToInteractive(key) {\n",
              "          const element = document.querySelector('#df-4159c0bc-dc00-4326-89fb-983361bb33ed');\n",
              "          const dataTable =\n",
              "            await google.colab.kernel.invokeFunction('convertToInteractive',\n",
              "                                                     [key], {});\n",
              "          if (!dataTable) return;\n",
              "\n",
              "          const docLinkHtml = 'Like what you see? Visit the ' +\n",
              "            '<a target=\"_blank\" href=https://colab.research.google.com/notebooks/data_table.ipynb>data table notebook</a>'\n",
              "            + ' to learn more about interactive tables.';\n",
              "          element.innerHTML = '';\n",
              "          dataTable['output_type'] = 'display_data';\n",
              "          await google.colab.output.renderOutput(dataTable, element);\n",
              "          const docLink = document.createElement('div');\n",
              "          docLink.innerHTML = docLinkHtml;\n",
              "          element.appendChild(docLink);\n",
              "        }\n",
              "      </script>\n",
              "    </div>\n",
              "  </div>\n",
              "  "
            ]
          },
          "metadata": {},
          "execution_count": 25
        }
      ]
    },
    {
      "cell_type": "markdown",
      "source": [
        "#### **6.4.1.5 충청남도 보령시 우선 입지 횡단보도 정렬**"
      ],
      "metadata": {
        "id": "fX2rRmeWSfGq"
      }
    },
    {
      "cell_type": "code",
      "source": [
        "df_gu = best_region(df_clus,'보령시')\n",
        "df_gu.iloc[:, [3, 4, 5, 6, 7, 8,9,10,11,18,19]]"
      ],
      "metadata": {
        "id": "8U6zmaAeOH-g",
        "colab": {
          "base_uri": "https://localhost:8080/",
          "height": 1000
        },
        "outputId": "fa564221-507f-433f-a7fc-2272802a0df2"
      },
      "execution_count": null,
      "outputs": [
        {
          "output_type": "execute_result",
          "data": {
            "text/plain": [
              "              소재지지번주소 횡단보도관리번호         위도          경도  신고수  학교수  어린이시설수  \\\n",
              "21  충청남도보령시대천동618-403      NaN  36.349108  126.599877   30    5       5   \n",
              "20  충청남도보령시대천동618-355      NaN  36.349198  126.599853   29    5       5   \n",
              "29  충청남도보령시대천동618-370      NaN  36.349599  126.597966   70    5       3   \n",
              "30  충청남도보령시대천동618-263      NaN  36.349742  126.598210   61    5       3   \n",
              "1      충청남도보령시동대동1954      NaN  36.345886  126.601676   81    4       5   \n",
              "0      충청남도보령시명천동1021      NaN  36.345759  126.601670   80    4       5   \n",
              "16    충청남도보령시대천동618-9      NaN  36.350825  126.600958   19    5       6   \n",
              "22  충청남도보령시대천동618-453      NaN  36.348682  126.599512   20    5       4   \n",
              "7      충청남도보령시동대동1210      NaN  36.350220  126.601972   15    5       6   \n",
              "6      충청남도보령시동대동1256      NaN  36.349983  126.602069   15    5       6   \n",
              "13     충청남도보령시동대동1211      NaN  36.350024  126.602167   14    5       6   \n",
              "17  충청남도보령시대천동618-208      NaN  36.350814  126.600857   14    5       6   \n",
              "19  충청남도보령시대천동618-299      NaN  36.349926  126.600544   14    5       5   \n",
              "31   충청남도보령시대천동618-43      NaN  36.350624  126.598676   27    5       4   \n",
              "18  충청남도보령시대천동618-213      NaN  36.350705  126.600922   11    5       6   \n",
              "3      충청남도보령시동대동1769      NaN  36.347210  126.603206   16    4       5   \n",
              "4    충청남도보령시동대동1264-2      NaN  36.347298  126.603072   12    4       5   \n",
              "2      충청남도보령시동대동1950      NaN  36.347296  126.603190   12    4       5   \n",
              "28  충청남도보령시대천동618-491      NaN  36.348358  126.598314   10    5       3   \n",
              "15    충청남도보령시대천동618-2      NaN  36.352158  126.601636   10    3       8   \n",
              "25  충청남도보령시대천동618-671      NaN  36.347420  126.598417   17    5       3   \n",
              "39    충청남도보령시대천동126-6      NaN  36.352416  126.598374   25    3       7   \n",
              "8     충청남도보령시동대동747-1      NaN  36.350653  126.602368    4    5       6   \n",
              "32    충청남도보령시대천동197-8      NaN  36.350527  126.595922   27    4       4   \n",
              "23  충청남도보령시대천동618-515      NaN  36.347572  126.598618   10    5       3   \n",
              "24  충청남도보령시대천동618-606      NaN  36.347609  126.598527   10    5       3   \n",
              "27  충청남도보령시대천동618-565      NaN  36.348272  126.598237    9    5       3   \n",
              "26  충청남도보령시대천동618-643      NaN  36.347263  126.597860    8    5       3   \n",
              "36      충청남도보령시대천동617      NaN  36.353232  126.599614    4    3       8   \n",
              "37    충청남도보령시대천동119-2      NaN  36.353290  126.599561    4    3       8   \n",
              "38    충청남도보령시대천동124-9      NaN  36.353000  126.599034   12    3       7   \n",
              "52   충청남도보령시대천동448-30      NaN  36.354641  126.590979    6    5       4   \n",
              "59    충청남도보령시대천동203-3      NaN  36.348848  126.596112   29    5       3   \n",
              "60    충청남도보령시대천동203-6      NaN  36.348993  126.596178   28    5       3   \n",
              "54    충청남도보령시대천동318-4      NaN  36.347634  126.593010   11    5       3   \n",
              "\n",
              "    노인시설수  아파트세대수     종합가중치    우선선정지표  \n",
              "21      5    1595  0.163341  4.900240  \n",
              "20      5    1595  0.163341  4.736899  \n",
              "29      6    1595  0.062400  4.367999  \n",
              "30      6    1595  0.062400  3.806399  \n",
              "1       5    4860  0.046719  3.784231  \n",
              "0       5    7338  0.046719  3.737512  \n",
              "16      4    1595  0.185286  3.520428  \n",
              "22      6    1595  0.141397  2.827939  \n",
              "7       4    4860  0.185286  2.779285  \n",
              "6       4    4860  0.185286  2.779285  \n",
              "13      4    4860  0.185286  2.594000  \n",
              "17      4    1595  0.185286  2.594000  \n",
              "19      5    1595  0.163341  2.286779  \n",
              "31      5    1595  0.084344  2.277297  \n",
              "18      4    1595  0.185286  2.038143  \n",
              "3       6    4860  0.103772  1.660344  \n",
              "4       6    4860  0.103772  1.245258  \n",
              "2       6    4860  0.103772  1.245258  \n",
              "28      7    1595  0.119453  1.194526  \n",
              "15      4    1595  0.110035  1.100348  \n",
              "25      6    1595  0.062400  1.060800  \n",
              "39      4    1595  0.031038  0.775945  \n",
              "8       4    4860  0.185286  0.741143  \n",
              "32      6    6385  0.024775  0.668912  \n",
              "23      6    1595  0.062400  0.624000  \n",
              "24      6    6385  0.062400  0.624000  \n",
              "27      6    6385  0.062400  0.561600  \n",
              "26      6    1595  0.062400  0.499200  \n",
              "36      4    1595  0.110035  0.440139  \n",
              "37      4    1595  0.110035  0.440139  \n",
              "38      4    1595  0.031038  0.372454  \n",
              "52      4    1595  0.027292  0.163750  \n",
              "59      5    1595  0.005347  0.155074  \n",
              "60      5    1595  0.005347  0.149726  \n",
              "54      5    1595  0.005347  0.058821  "
            ],
            "text/html": [
              "\n",
              "  <div id=\"df-b86b7da2-4afc-4018-a103-9769996bc2e5\">\n",
              "    <div class=\"colab-df-container\">\n",
              "      <div>\n",
              "<style scoped>\n",
              "    .dataframe tbody tr th:only-of-type {\n",
              "        vertical-align: middle;\n",
              "    }\n",
              "\n",
              "    .dataframe tbody tr th {\n",
              "        vertical-align: top;\n",
              "    }\n",
              "\n",
              "    .dataframe thead th {\n",
              "        text-align: right;\n",
              "    }\n",
              "</style>\n",
              "<table border=\"1\" class=\"dataframe\">\n",
              "  <thead>\n",
              "    <tr style=\"text-align: right;\">\n",
              "      <th></th>\n",
              "      <th>소재지지번주소</th>\n",
              "      <th>횡단보도관리번호</th>\n",
              "      <th>위도</th>\n",
              "      <th>경도</th>\n",
              "      <th>신고수</th>\n",
              "      <th>학교수</th>\n",
              "      <th>어린이시설수</th>\n",
              "      <th>노인시설수</th>\n",
              "      <th>아파트세대수</th>\n",
              "      <th>종합가중치</th>\n",
              "      <th>우선선정지표</th>\n",
              "    </tr>\n",
              "  </thead>\n",
              "  <tbody>\n",
              "    <tr>\n",
              "      <th>21</th>\n",
              "      <td>충청남도보령시대천동618-403</td>\n",
              "      <td>NaN</td>\n",
              "      <td>36.349108</td>\n",
              "      <td>126.599877</td>\n",
              "      <td>30</td>\n",
              "      <td>5</td>\n",
              "      <td>5</td>\n",
              "      <td>5</td>\n",
              "      <td>1595</td>\n",
              "      <td>0.163341</td>\n",
              "      <td>4.900240</td>\n",
              "    </tr>\n",
              "    <tr>\n",
              "      <th>20</th>\n",
              "      <td>충청남도보령시대천동618-355</td>\n",
              "      <td>NaN</td>\n",
              "      <td>36.349198</td>\n",
              "      <td>126.599853</td>\n",
              "      <td>29</td>\n",
              "      <td>5</td>\n",
              "      <td>5</td>\n",
              "      <td>5</td>\n",
              "      <td>1595</td>\n",
              "      <td>0.163341</td>\n",
              "      <td>4.736899</td>\n",
              "    </tr>\n",
              "    <tr>\n",
              "      <th>29</th>\n",
              "      <td>충청남도보령시대천동618-370</td>\n",
              "      <td>NaN</td>\n",
              "      <td>36.349599</td>\n",
              "      <td>126.597966</td>\n",
              "      <td>70</td>\n",
              "      <td>5</td>\n",
              "      <td>3</td>\n",
              "      <td>6</td>\n",
              "      <td>1595</td>\n",
              "      <td>0.062400</td>\n",
              "      <td>4.367999</td>\n",
              "    </tr>\n",
              "    <tr>\n",
              "      <th>30</th>\n",
              "      <td>충청남도보령시대천동618-263</td>\n",
              "      <td>NaN</td>\n",
              "      <td>36.349742</td>\n",
              "      <td>126.598210</td>\n",
              "      <td>61</td>\n",
              "      <td>5</td>\n",
              "      <td>3</td>\n",
              "      <td>6</td>\n",
              "      <td>1595</td>\n",
              "      <td>0.062400</td>\n",
              "      <td>3.806399</td>\n",
              "    </tr>\n",
              "    <tr>\n",
              "      <th>1</th>\n",
              "      <td>충청남도보령시동대동1954</td>\n",
              "      <td>NaN</td>\n",
              "      <td>36.345886</td>\n",
              "      <td>126.601676</td>\n",
              "      <td>81</td>\n",
              "      <td>4</td>\n",
              "      <td>5</td>\n",
              "      <td>5</td>\n",
              "      <td>4860</td>\n",
              "      <td>0.046719</td>\n",
              "      <td>3.784231</td>\n",
              "    </tr>\n",
              "    <tr>\n",
              "      <th>0</th>\n",
              "      <td>충청남도보령시명천동1021</td>\n",
              "      <td>NaN</td>\n",
              "      <td>36.345759</td>\n",
              "      <td>126.601670</td>\n",
              "      <td>80</td>\n",
              "      <td>4</td>\n",
              "      <td>5</td>\n",
              "      <td>5</td>\n",
              "      <td>7338</td>\n",
              "      <td>0.046719</td>\n",
              "      <td>3.737512</td>\n",
              "    </tr>\n",
              "    <tr>\n",
              "      <th>16</th>\n",
              "      <td>충청남도보령시대천동618-9</td>\n",
              "      <td>NaN</td>\n",
              "      <td>36.350825</td>\n",
              "      <td>126.600958</td>\n",
              "      <td>19</td>\n",
              "      <td>5</td>\n",
              "      <td>6</td>\n",
              "      <td>4</td>\n",
              "      <td>1595</td>\n",
              "      <td>0.185286</td>\n",
              "      <td>3.520428</td>\n",
              "    </tr>\n",
              "    <tr>\n",
              "      <th>22</th>\n",
              "      <td>충청남도보령시대천동618-453</td>\n",
              "      <td>NaN</td>\n",
              "      <td>36.348682</td>\n",
              "      <td>126.599512</td>\n",
              "      <td>20</td>\n",
              "      <td>5</td>\n",
              "      <td>4</td>\n",
              "      <td>6</td>\n",
              "      <td>1595</td>\n",
              "      <td>0.141397</td>\n",
              "      <td>2.827939</td>\n",
              "    </tr>\n",
              "    <tr>\n",
              "      <th>7</th>\n",
              "      <td>충청남도보령시동대동1210</td>\n",
              "      <td>NaN</td>\n",
              "      <td>36.350220</td>\n",
              "      <td>126.601972</td>\n",
              "      <td>15</td>\n",
              "      <td>5</td>\n",
              "      <td>6</td>\n",
              "      <td>4</td>\n",
              "      <td>4860</td>\n",
              "      <td>0.185286</td>\n",
              "      <td>2.779285</td>\n",
              "    </tr>\n",
              "    <tr>\n",
              "      <th>6</th>\n",
              "      <td>충청남도보령시동대동1256</td>\n",
              "      <td>NaN</td>\n",
              "      <td>36.349983</td>\n",
              "      <td>126.602069</td>\n",
              "      <td>15</td>\n",
              "      <td>5</td>\n",
              "      <td>6</td>\n",
              "      <td>4</td>\n",
              "      <td>4860</td>\n",
              "      <td>0.185286</td>\n",
              "      <td>2.779285</td>\n",
              "    </tr>\n",
              "    <tr>\n",
              "      <th>13</th>\n",
              "      <td>충청남도보령시동대동1211</td>\n",
              "      <td>NaN</td>\n",
              "      <td>36.350024</td>\n",
              "      <td>126.602167</td>\n",
              "      <td>14</td>\n",
              "      <td>5</td>\n",
              "      <td>6</td>\n",
              "      <td>4</td>\n",
              "      <td>4860</td>\n",
              "      <td>0.185286</td>\n",
              "      <td>2.594000</td>\n",
              "    </tr>\n",
              "    <tr>\n",
              "      <th>17</th>\n",
              "      <td>충청남도보령시대천동618-208</td>\n",
              "      <td>NaN</td>\n",
              "      <td>36.350814</td>\n",
              "      <td>126.600857</td>\n",
              "      <td>14</td>\n",
              "      <td>5</td>\n",
              "      <td>6</td>\n",
              "      <td>4</td>\n",
              "      <td>1595</td>\n",
              "      <td>0.185286</td>\n",
              "      <td>2.594000</td>\n",
              "    </tr>\n",
              "    <tr>\n",
              "      <th>19</th>\n",
              "      <td>충청남도보령시대천동618-299</td>\n",
              "      <td>NaN</td>\n",
              "      <td>36.349926</td>\n",
              "      <td>126.600544</td>\n",
              "      <td>14</td>\n",
              "      <td>5</td>\n",
              "      <td>5</td>\n",
              "      <td>5</td>\n",
              "      <td>1595</td>\n",
              "      <td>0.163341</td>\n",
              "      <td>2.286779</td>\n",
              "    </tr>\n",
              "    <tr>\n",
              "      <th>31</th>\n",
              "      <td>충청남도보령시대천동618-43</td>\n",
              "      <td>NaN</td>\n",
              "      <td>36.350624</td>\n",
              "      <td>126.598676</td>\n",
              "      <td>27</td>\n",
              "      <td>5</td>\n",
              "      <td>4</td>\n",
              "      <td>5</td>\n",
              "      <td>1595</td>\n",
              "      <td>0.084344</td>\n",
              "      <td>2.277297</td>\n",
              "    </tr>\n",
              "    <tr>\n",
              "      <th>18</th>\n",
              "      <td>충청남도보령시대천동618-213</td>\n",
              "      <td>NaN</td>\n",
              "      <td>36.350705</td>\n",
              "      <td>126.600922</td>\n",
              "      <td>11</td>\n",
              "      <td>5</td>\n",
              "      <td>6</td>\n",
              "      <td>4</td>\n",
              "      <td>1595</td>\n",
              "      <td>0.185286</td>\n",
              "      <td>2.038143</td>\n",
              "    </tr>\n",
              "    <tr>\n",
              "      <th>3</th>\n",
              "      <td>충청남도보령시동대동1769</td>\n",
              "      <td>NaN</td>\n",
              "      <td>36.347210</td>\n",
              "      <td>126.603206</td>\n",
              "      <td>16</td>\n",
              "      <td>4</td>\n",
              "      <td>5</td>\n",
              "      <td>6</td>\n",
              "      <td>4860</td>\n",
              "      <td>0.103772</td>\n",
              "      <td>1.660344</td>\n",
              "    </tr>\n",
              "    <tr>\n",
              "      <th>4</th>\n",
              "      <td>충청남도보령시동대동1264-2</td>\n",
              "      <td>NaN</td>\n",
              "      <td>36.347298</td>\n",
              "      <td>126.603072</td>\n",
              "      <td>12</td>\n",
              "      <td>4</td>\n",
              "      <td>5</td>\n",
              "      <td>6</td>\n",
              "      <td>4860</td>\n",
              "      <td>0.103772</td>\n",
              "      <td>1.245258</td>\n",
              "    </tr>\n",
              "    <tr>\n",
              "      <th>2</th>\n",
              "      <td>충청남도보령시동대동1950</td>\n",
              "      <td>NaN</td>\n",
              "      <td>36.347296</td>\n",
              "      <td>126.603190</td>\n",
              "      <td>12</td>\n",
              "      <td>4</td>\n",
              "      <td>5</td>\n",
              "      <td>6</td>\n",
              "      <td>4860</td>\n",
              "      <td>0.103772</td>\n",
              "      <td>1.245258</td>\n",
              "    </tr>\n",
              "    <tr>\n",
              "      <th>28</th>\n",
              "      <td>충청남도보령시대천동618-491</td>\n",
              "      <td>NaN</td>\n",
              "      <td>36.348358</td>\n",
              "      <td>126.598314</td>\n",
              "      <td>10</td>\n",
              "      <td>5</td>\n",
              "      <td>3</td>\n",
              "      <td>7</td>\n",
              "      <td>1595</td>\n",
              "      <td>0.119453</td>\n",
              "      <td>1.194526</td>\n",
              "    </tr>\n",
              "    <tr>\n",
              "      <th>15</th>\n",
              "      <td>충청남도보령시대천동618-2</td>\n",
              "      <td>NaN</td>\n",
              "      <td>36.352158</td>\n",
              "      <td>126.601636</td>\n",
              "      <td>10</td>\n",
              "      <td>3</td>\n",
              "      <td>8</td>\n",
              "      <td>4</td>\n",
              "      <td>1595</td>\n",
              "      <td>0.110035</td>\n",
              "      <td>1.100348</td>\n",
              "    </tr>\n",
              "    <tr>\n",
              "      <th>25</th>\n",
              "      <td>충청남도보령시대천동618-671</td>\n",
              "      <td>NaN</td>\n",
              "      <td>36.347420</td>\n",
              "      <td>126.598417</td>\n",
              "      <td>17</td>\n",
              "      <td>5</td>\n",
              "      <td>3</td>\n",
              "      <td>6</td>\n",
              "      <td>1595</td>\n",
              "      <td>0.062400</td>\n",
              "      <td>1.060800</td>\n",
              "    </tr>\n",
              "    <tr>\n",
              "      <th>39</th>\n",
              "      <td>충청남도보령시대천동126-6</td>\n",
              "      <td>NaN</td>\n",
              "      <td>36.352416</td>\n",
              "      <td>126.598374</td>\n",
              "      <td>25</td>\n",
              "      <td>3</td>\n",
              "      <td>7</td>\n",
              "      <td>4</td>\n",
              "      <td>1595</td>\n",
              "      <td>0.031038</td>\n",
              "      <td>0.775945</td>\n",
              "    </tr>\n",
              "    <tr>\n",
              "      <th>8</th>\n",
              "      <td>충청남도보령시동대동747-1</td>\n",
              "      <td>NaN</td>\n",
              "      <td>36.350653</td>\n",
              "      <td>126.602368</td>\n",
              "      <td>4</td>\n",
              "      <td>5</td>\n",
              "      <td>6</td>\n",
              "      <td>4</td>\n",
              "      <td>4860</td>\n",
              "      <td>0.185286</td>\n",
              "      <td>0.741143</td>\n",
              "    </tr>\n",
              "    <tr>\n",
              "      <th>32</th>\n",
              "      <td>충청남도보령시대천동197-8</td>\n",
              "      <td>NaN</td>\n",
              "      <td>36.350527</td>\n",
              "      <td>126.595922</td>\n",
              "      <td>27</td>\n",
              "      <td>4</td>\n",
              "      <td>4</td>\n",
              "      <td>6</td>\n",
              "      <td>6385</td>\n",
              "      <td>0.024775</td>\n",
              "      <td>0.668912</td>\n",
              "    </tr>\n",
              "    <tr>\n",
              "      <th>23</th>\n",
              "      <td>충청남도보령시대천동618-515</td>\n",
              "      <td>NaN</td>\n",
              "      <td>36.347572</td>\n",
              "      <td>126.598618</td>\n",
              "      <td>10</td>\n",
              "      <td>5</td>\n",
              "      <td>3</td>\n",
              "      <td>6</td>\n",
              "      <td>1595</td>\n",
              "      <td>0.062400</td>\n",
              "      <td>0.624000</td>\n",
              "    </tr>\n",
              "    <tr>\n",
              "      <th>24</th>\n",
              "      <td>충청남도보령시대천동618-606</td>\n",
              "      <td>NaN</td>\n",
              "      <td>36.347609</td>\n",
              "      <td>126.598527</td>\n",
              "      <td>10</td>\n",
              "      <td>5</td>\n",
              "      <td>3</td>\n",
              "      <td>6</td>\n",
              "      <td>6385</td>\n",
              "      <td>0.062400</td>\n",
              "      <td>0.624000</td>\n",
              "    </tr>\n",
              "    <tr>\n",
              "      <th>27</th>\n",
              "      <td>충청남도보령시대천동618-565</td>\n",
              "      <td>NaN</td>\n",
              "      <td>36.348272</td>\n",
              "      <td>126.598237</td>\n",
              "      <td>9</td>\n",
              "      <td>5</td>\n",
              "      <td>3</td>\n",
              "      <td>6</td>\n",
              "      <td>6385</td>\n",
              "      <td>0.062400</td>\n",
              "      <td>0.561600</td>\n",
              "    </tr>\n",
              "    <tr>\n",
              "      <th>26</th>\n",
              "      <td>충청남도보령시대천동618-643</td>\n",
              "      <td>NaN</td>\n",
              "      <td>36.347263</td>\n",
              "      <td>126.597860</td>\n",
              "      <td>8</td>\n",
              "      <td>5</td>\n",
              "      <td>3</td>\n",
              "      <td>6</td>\n",
              "      <td>1595</td>\n",
              "      <td>0.062400</td>\n",
              "      <td>0.499200</td>\n",
              "    </tr>\n",
              "    <tr>\n",
              "      <th>36</th>\n",
              "      <td>충청남도보령시대천동617</td>\n",
              "      <td>NaN</td>\n",
              "      <td>36.353232</td>\n",
              "      <td>126.599614</td>\n",
              "      <td>4</td>\n",
              "      <td>3</td>\n",
              "      <td>8</td>\n",
              "      <td>4</td>\n",
              "      <td>1595</td>\n",
              "      <td>0.110035</td>\n",
              "      <td>0.440139</td>\n",
              "    </tr>\n",
              "    <tr>\n",
              "      <th>37</th>\n",
              "      <td>충청남도보령시대천동119-2</td>\n",
              "      <td>NaN</td>\n",
              "      <td>36.353290</td>\n",
              "      <td>126.599561</td>\n",
              "      <td>4</td>\n",
              "      <td>3</td>\n",
              "      <td>8</td>\n",
              "      <td>4</td>\n",
              "      <td>1595</td>\n",
              "      <td>0.110035</td>\n",
              "      <td>0.440139</td>\n",
              "    </tr>\n",
              "    <tr>\n",
              "      <th>38</th>\n",
              "      <td>충청남도보령시대천동124-9</td>\n",
              "      <td>NaN</td>\n",
              "      <td>36.353000</td>\n",
              "      <td>126.599034</td>\n",
              "      <td>12</td>\n",
              "      <td>3</td>\n",
              "      <td>7</td>\n",
              "      <td>4</td>\n",
              "      <td>1595</td>\n",
              "      <td>0.031038</td>\n",
              "      <td>0.372454</td>\n",
              "    </tr>\n",
              "    <tr>\n",
              "      <th>52</th>\n",
              "      <td>충청남도보령시대천동448-30</td>\n",
              "      <td>NaN</td>\n",
              "      <td>36.354641</td>\n",
              "      <td>126.590979</td>\n",
              "      <td>6</td>\n",
              "      <td>5</td>\n",
              "      <td>4</td>\n",
              "      <td>4</td>\n",
              "      <td>1595</td>\n",
              "      <td>0.027292</td>\n",
              "      <td>0.163750</td>\n",
              "    </tr>\n",
              "    <tr>\n",
              "      <th>59</th>\n",
              "      <td>충청남도보령시대천동203-3</td>\n",
              "      <td>NaN</td>\n",
              "      <td>36.348848</td>\n",
              "      <td>126.596112</td>\n",
              "      <td>29</td>\n",
              "      <td>5</td>\n",
              "      <td>3</td>\n",
              "      <td>5</td>\n",
              "      <td>1595</td>\n",
              "      <td>0.005347</td>\n",
              "      <td>0.155074</td>\n",
              "    </tr>\n",
              "    <tr>\n",
              "      <th>60</th>\n",
              "      <td>충청남도보령시대천동203-6</td>\n",
              "      <td>NaN</td>\n",
              "      <td>36.348993</td>\n",
              "      <td>126.596178</td>\n",
              "      <td>28</td>\n",
              "      <td>5</td>\n",
              "      <td>3</td>\n",
              "      <td>5</td>\n",
              "      <td>1595</td>\n",
              "      <td>0.005347</td>\n",
              "      <td>0.149726</td>\n",
              "    </tr>\n",
              "    <tr>\n",
              "      <th>54</th>\n",
              "      <td>충청남도보령시대천동318-4</td>\n",
              "      <td>NaN</td>\n",
              "      <td>36.347634</td>\n",
              "      <td>126.593010</td>\n",
              "      <td>11</td>\n",
              "      <td>5</td>\n",
              "      <td>3</td>\n",
              "      <td>5</td>\n",
              "      <td>1595</td>\n",
              "      <td>0.005347</td>\n",
              "      <td>0.058821</td>\n",
              "    </tr>\n",
              "  </tbody>\n",
              "</table>\n",
              "</div>\n",
              "      <button class=\"colab-df-convert\" onclick=\"convertToInteractive('df-b86b7da2-4afc-4018-a103-9769996bc2e5')\"\n",
              "              title=\"Convert this dataframe to an interactive table.\"\n",
              "              style=\"display:none;\">\n",
              "        \n",
              "  <svg xmlns=\"http://www.w3.org/2000/svg\" height=\"24px\"viewBox=\"0 0 24 24\"\n",
              "       width=\"24px\">\n",
              "    <path d=\"M0 0h24v24H0V0z\" fill=\"none\"/>\n",
              "    <path d=\"M18.56 5.44l.94 2.06.94-2.06 2.06-.94-2.06-.94-.94-2.06-.94 2.06-2.06.94zm-11 1L8.5 8.5l.94-2.06 2.06-.94-2.06-.94L8.5 2.5l-.94 2.06-2.06.94zm10 10l.94 2.06.94-2.06 2.06-.94-2.06-.94-.94-2.06-.94 2.06-2.06.94z\"/><path d=\"M17.41 7.96l-1.37-1.37c-.4-.4-.92-.59-1.43-.59-.52 0-1.04.2-1.43.59L10.3 9.45l-7.72 7.72c-.78.78-.78 2.05 0 2.83L4 21.41c.39.39.9.59 1.41.59.51 0 1.02-.2 1.41-.59l7.78-7.78 2.81-2.81c.8-.78.8-2.07 0-2.86zM5.41 20L4 18.59l7.72-7.72 1.47 1.35L5.41 20z\"/>\n",
              "  </svg>\n",
              "      </button>\n",
              "      \n",
              "  <style>\n",
              "    .colab-df-container {\n",
              "      display:flex;\n",
              "      flex-wrap:wrap;\n",
              "      gap: 12px;\n",
              "    }\n",
              "\n",
              "    .colab-df-convert {\n",
              "      background-color: #E8F0FE;\n",
              "      border: none;\n",
              "      border-radius: 50%;\n",
              "      cursor: pointer;\n",
              "      display: none;\n",
              "      fill: #1967D2;\n",
              "      height: 32px;\n",
              "      padding: 0 0 0 0;\n",
              "      width: 32px;\n",
              "    }\n",
              "\n",
              "    .colab-df-convert:hover {\n",
              "      background-color: #E2EBFA;\n",
              "      box-shadow: 0px 1px 2px rgba(60, 64, 67, 0.3), 0px 1px 3px 1px rgba(60, 64, 67, 0.15);\n",
              "      fill: #174EA6;\n",
              "    }\n",
              "\n",
              "    [theme=dark] .colab-df-convert {\n",
              "      background-color: #3B4455;\n",
              "      fill: #D2E3FC;\n",
              "    }\n",
              "\n",
              "    [theme=dark] .colab-df-convert:hover {\n",
              "      background-color: #434B5C;\n",
              "      box-shadow: 0px 1px 3px 1px rgba(0, 0, 0, 0.15);\n",
              "      filter: drop-shadow(0px 1px 2px rgba(0, 0, 0, 0.3));\n",
              "      fill: #FFFFFF;\n",
              "    }\n",
              "  </style>\n",
              "\n",
              "      <script>\n",
              "        const buttonEl =\n",
              "          document.querySelector('#df-b86b7da2-4afc-4018-a103-9769996bc2e5 button.colab-df-convert');\n",
              "        buttonEl.style.display =\n",
              "          google.colab.kernel.accessAllowed ? 'block' : 'none';\n",
              "\n",
              "        async function convertToInteractive(key) {\n",
              "          const element = document.querySelector('#df-b86b7da2-4afc-4018-a103-9769996bc2e5');\n",
              "          const dataTable =\n",
              "            await google.colab.kernel.invokeFunction('convertToInteractive',\n",
              "                                                     [key], {});\n",
              "          if (!dataTable) return;\n",
              "\n",
              "          const docLinkHtml = 'Like what you see? Visit the ' +\n",
              "            '<a target=\"_blank\" href=https://colab.research.google.com/notebooks/data_table.ipynb>data table notebook</a>'\n",
              "            + ' to learn more about interactive tables.';\n",
              "          element.innerHTML = '';\n",
              "          dataTable['output_type'] = 'display_data';\n",
              "          await google.colab.output.renderOutput(dataTable, element);\n",
              "          const docLink = document.createElement('div');\n",
              "          docLink.innerHTML = docLinkHtml;\n",
              "          element.appendChild(docLink);\n",
              "        }\n",
              "      </script>\n",
              "    </div>\n",
              "  </div>\n",
              "  "
            ]
          },
          "metadata": {},
          "execution_count": 26
        }
      ]
    },
    {
      "cell_type": "markdown",
      "source": [
        "#### **6.4.1.6 충청남도 천안시 우선 입지 횡단보도 정렬**"
      ],
      "metadata": {
        "id": "Tk6nrLT6ShUI"
      }
    },
    {
      "cell_type": "code",
      "source": [
        "df_gu = best_region(df_clus,'천안시')\n",
        "df_gu.iloc[:, [3, 4, 5, 6, 7, 8,9,10,11,18,19]]"
      ],
      "metadata": {
        "id": "D4hw28CROJSf",
        "colab": {
          "base_uri": "https://localhost:8080/",
          "height": 300
        },
        "outputId": "cdc2a76b-d585-4bbd-a119-fa4f6c40f795"
      },
      "execution_count": null,
      "outputs": [
        {
          "output_type": "execute_result",
          "data": {
            "text/plain": [
              "                소재지지번주소 횡단보도관리번호         위도          경도  신고수  학교수  어린이시설수  \\\n",
              "3   충청남도천안시서북구쌍용동257-21   896022  36.804507  127.127482   27   11      14   \n",
              "10  충청남도천안시서북구쌍용동203-29   307014  36.798407  127.130323   53    9      14   \n",
              "4     충청남도천안시서북구쌍용동1261   896021  36.804758  127.127908   14   11      13   \n",
              "6     충청남도천안시서북구쌍용동1268   896013  36.803394  127.127735   51   10      13   \n",
              "1      충청남도천안시동남구쌍용동559   897004  36.801773  127.131869   29    9      14   \n",
              "5   충청남도천안시서북구쌍용동257-21   896016  36.803949  127.127443   31   10      13   \n",
              "0     충청남도천안시서북구쌍용동1257   897005  36.801897  127.131553   21    9      14   \n",
              "14  충청남도천안시서북구쌍용동310-35   253202  36.808944  127.127737    1   10      13   \n",
              "\n",
              "    노인시설수  아파트세대수     종합가중치    우선선정지표  \n",
              "3       2       0  0.329613  8.899545  \n",
              "10      2    2275  0.066659  3.532932  \n",
              "4       2       0  0.180550  2.527707  \n",
              "6       2       0  0.049074  2.502756  \n",
              "1       2    2275  0.066659  1.933114  \n",
              "5       2    3014  0.049074  1.521283  \n",
              "0       2       0  0.066659  1.399841  \n",
              "14      2       0  0.049074  0.049074  "
            ],
            "text/html": [
              "\n",
              "  <div id=\"df-8e16e1ec-478b-4fa6-a329-45ef63c925e4\">\n",
              "    <div class=\"colab-df-container\">\n",
              "      <div>\n",
              "<style scoped>\n",
              "    .dataframe tbody tr th:only-of-type {\n",
              "        vertical-align: middle;\n",
              "    }\n",
              "\n",
              "    .dataframe tbody tr th {\n",
              "        vertical-align: top;\n",
              "    }\n",
              "\n",
              "    .dataframe thead th {\n",
              "        text-align: right;\n",
              "    }\n",
              "</style>\n",
              "<table border=\"1\" class=\"dataframe\">\n",
              "  <thead>\n",
              "    <tr style=\"text-align: right;\">\n",
              "      <th></th>\n",
              "      <th>소재지지번주소</th>\n",
              "      <th>횡단보도관리번호</th>\n",
              "      <th>위도</th>\n",
              "      <th>경도</th>\n",
              "      <th>신고수</th>\n",
              "      <th>학교수</th>\n",
              "      <th>어린이시설수</th>\n",
              "      <th>노인시설수</th>\n",
              "      <th>아파트세대수</th>\n",
              "      <th>종합가중치</th>\n",
              "      <th>우선선정지표</th>\n",
              "    </tr>\n",
              "  </thead>\n",
              "  <tbody>\n",
              "    <tr>\n",
              "      <th>3</th>\n",
              "      <td>충청남도천안시서북구쌍용동257-21</td>\n",
              "      <td>896022</td>\n",
              "      <td>36.804507</td>\n",
              "      <td>127.127482</td>\n",
              "      <td>27</td>\n",
              "      <td>11</td>\n",
              "      <td>14</td>\n",
              "      <td>2</td>\n",
              "      <td>0</td>\n",
              "      <td>0.329613</td>\n",
              "      <td>8.899545</td>\n",
              "    </tr>\n",
              "    <tr>\n",
              "      <th>10</th>\n",
              "      <td>충청남도천안시서북구쌍용동203-29</td>\n",
              "      <td>307014</td>\n",
              "      <td>36.798407</td>\n",
              "      <td>127.130323</td>\n",
              "      <td>53</td>\n",
              "      <td>9</td>\n",
              "      <td>14</td>\n",
              "      <td>2</td>\n",
              "      <td>2275</td>\n",
              "      <td>0.066659</td>\n",
              "      <td>3.532932</td>\n",
              "    </tr>\n",
              "    <tr>\n",
              "      <th>4</th>\n",
              "      <td>충청남도천안시서북구쌍용동1261</td>\n",
              "      <td>896021</td>\n",
              "      <td>36.804758</td>\n",
              "      <td>127.127908</td>\n",
              "      <td>14</td>\n",
              "      <td>11</td>\n",
              "      <td>13</td>\n",
              "      <td>2</td>\n",
              "      <td>0</td>\n",
              "      <td>0.180550</td>\n",
              "      <td>2.527707</td>\n",
              "    </tr>\n",
              "    <tr>\n",
              "      <th>6</th>\n",
              "      <td>충청남도천안시서북구쌍용동1268</td>\n",
              "      <td>896013</td>\n",
              "      <td>36.803394</td>\n",
              "      <td>127.127735</td>\n",
              "      <td>51</td>\n",
              "      <td>10</td>\n",
              "      <td>13</td>\n",
              "      <td>2</td>\n",
              "      <td>0</td>\n",
              "      <td>0.049074</td>\n",
              "      <td>2.502756</td>\n",
              "    </tr>\n",
              "    <tr>\n",
              "      <th>1</th>\n",
              "      <td>충청남도천안시동남구쌍용동559</td>\n",
              "      <td>897004</td>\n",
              "      <td>36.801773</td>\n",
              "      <td>127.131869</td>\n",
              "      <td>29</td>\n",
              "      <td>9</td>\n",
              "      <td>14</td>\n",
              "      <td>2</td>\n",
              "      <td>2275</td>\n",
              "      <td>0.066659</td>\n",
              "      <td>1.933114</td>\n",
              "    </tr>\n",
              "    <tr>\n",
              "      <th>5</th>\n",
              "      <td>충청남도천안시서북구쌍용동257-21</td>\n",
              "      <td>896016</td>\n",
              "      <td>36.803949</td>\n",
              "      <td>127.127443</td>\n",
              "      <td>31</td>\n",
              "      <td>10</td>\n",
              "      <td>13</td>\n",
              "      <td>2</td>\n",
              "      <td>3014</td>\n",
              "      <td>0.049074</td>\n",
              "      <td>1.521283</td>\n",
              "    </tr>\n",
              "    <tr>\n",
              "      <th>0</th>\n",
              "      <td>충청남도천안시서북구쌍용동1257</td>\n",
              "      <td>897005</td>\n",
              "      <td>36.801897</td>\n",
              "      <td>127.131553</td>\n",
              "      <td>21</td>\n",
              "      <td>9</td>\n",
              "      <td>14</td>\n",
              "      <td>2</td>\n",
              "      <td>0</td>\n",
              "      <td>0.066659</td>\n",
              "      <td>1.399841</td>\n",
              "    </tr>\n",
              "    <tr>\n",
              "      <th>14</th>\n",
              "      <td>충청남도천안시서북구쌍용동310-35</td>\n",
              "      <td>253202</td>\n",
              "      <td>36.808944</td>\n",
              "      <td>127.127737</td>\n",
              "      <td>1</td>\n",
              "      <td>10</td>\n",
              "      <td>13</td>\n",
              "      <td>2</td>\n",
              "      <td>0</td>\n",
              "      <td>0.049074</td>\n",
              "      <td>0.049074</td>\n",
              "    </tr>\n",
              "  </tbody>\n",
              "</table>\n",
              "</div>\n",
              "      <button class=\"colab-df-convert\" onclick=\"convertToInteractive('df-8e16e1ec-478b-4fa6-a329-45ef63c925e4')\"\n",
              "              title=\"Convert this dataframe to an interactive table.\"\n",
              "              style=\"display:none;\">\n",
              "        \n",
              "  <svg xmlns=\"http://www.w3.org/2000/svg\" height=\"24px\"viewBox=\"0 0 24 24\"\n",
              "       width=\"24px\">\n",
              "    <path d=\"M0 0h24v24H0V0z\" fill=\"none\"/>\n",
              "    <path d=\"M18.56 5.44l.94 2.06.94-2.06 2.06-.94-2.06-.94-.94-2.06-.94 2.06-2.06.94zm-11 1L8.5 8.5l.94-2.06 2.06-.94-2.06-.94L8.5 2.5l-.94 2.06-2.06.94zm10 10l.94 2.06.94-2.06 2.06-.94-2.06-.94-.94-2.06-.94 2.06-2.06.94z\"/><path d=\"M17.41 7.96l-1.37-1.37c-.4-.4-.92-.59-1.43-.59-.52 0-1.04.2-1.43.59L10.3 9.45l-7.72 7.72c-.78.78-.78 2.05 0 2.83L4 21.41c.39.39.9.59 1.41.59.51 0 1.02-.2 1.41-.59l7.78-7.78 2.81-2.81c.8-.78.8-2.07 0-2.86zM5.41 20L4 18.59l7.72-7.72 1.47 1.35L5.41 20z\"/>\n",
              "  </svg>\n",
              "      </button>\n",
              "      \n",
              "  <style>\n",
              "    .colab-df-container {\n",
              "      display:flex;\n",
              "      flex-wrap:wrap;\n",
              "      gap: 12px;\n",
              "    }\n",
              "\n",
              "    .colab-df-convert {\n",
              "      background-color: #E8F0FE;\n",
              "      border: none;\n",
              "      border-radius: 50%;\n",
              "      cursor: pointer;\n",
              "      display: none;\n",
              "      fill: #1967D2;\n",
              "      height: 32px;\n",
              "      padding: 0 0 0 0;\n",
              "      width: 32px;\n",
              "    }\n",
              "\n",
              "    .colab-df-convert:hover {\n",
              "      background-color: #E2EBFA;\n",
              "      box-shadow: 0px 1px 2px rgba(60, 64, 67, 0.3), 0px 1px 3px 1px rgba(60, 64, 67, 0.15);\n",
              "      fill: #174EA6;\n",
              "    }\n",
              "\n",
              "    [theme=dark] .colab-df-convert {\n",
              "      background-color: #3B4455;\n",
              "      fill: #D2E3FC;\n",
              "    }\n",
              "\n",
              "    [theme=dark] .colab-df-convert:hover {\n",
              "      background-color: #434B5C;\n",
              "      box-shadow: 0px 1px 3px 1px rgba(0, 0, 0, 0.15);\n",
              "      filter: drop-shadow(0px 1px 2px rgba(0, 0, 0, 0.3));\n",
              "      fill: #FFFFFF;\n",
              "    }\n",
              "  </style>\n",
              "\n",
              "      <script>\n",
              "        const buttonEl =\n",
              "          document.querySelector('#df-8e16e1ec-478b-4fa6-a329-45ef63c925e4 button.colab-df-convert');\n",
              "        buttonEl.style.display =\n",
              "          google.colab.kernel.accessAllowed ? 'block' : 'none';\n",
              "\n",
              "        async function convertToInteractive(key) {\n",
              "          const element = document.querySelector('#df-8e16e1ec-478b-4fa6-a329-45ef63c925e4');\n",
              "          const dataTable =\n",
              "            await google.colab.kernel.invokeFunction('convertToInteractive',\n",
              "                                                     [key], {});\n",
              "          if (!dataTable) return;\n",
              "\n",
              "          const docLinkHtml = 'Like what you see? Visit the ' +\n",
              "            '<a target=\"_blank\" href=https://colab.research.google.com/notebooks/data_table.ipynb>data table notebook</a>'\n",
              "            + ' to learn more about interactive tables.';\n",
              "          element.innerHTML = '';\n",
              "          dataTable['output_type'] = 'display_data';\n",
              "          await google.colab.output.renderOutput(dataTable, element);\n",
              "          const docLink = document.createElement('div');\n",
              "          docLink.innerHTML = docLinkHtml;\n",
              "          element.appendChild(docLink);\n",
              "        }\n",
              "      </script>\n",
              "    </div>\n",
              "  </div>\n",
              "  "
            ]
          },
          "metadata": {},
          "execution_count": 27
        }
      ]
    }
  ]
}